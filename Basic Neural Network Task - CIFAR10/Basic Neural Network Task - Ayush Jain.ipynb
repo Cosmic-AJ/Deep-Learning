{
 "cells": [
  {
   "cell_type": "markdown",
   "metadata": {
    "id": "cVD8jcZaQKeI"
   },
   "source": [
    "### Name: Ayush Jain \n",
    "### Email: ayushjain051001@gmail.com\n",
    "### Phone: 8560036606"
   ]
  },
  {
   "cell_type": "markdown",
   "metadata": {
    "id": "tdDKCQ03Q8th"
   },
   "source": [
    "## Data description\n",
    "We will be using the CIFAR-10 dataset which has 60,000 images (50,000 for training and 10,000 for testing). It is separated into 10 classes.\n",
    "\n",
    "Dimension of each image: 32 x 32 x 3\n",
    "\n",
    "We will be using 20% of the training data as the validation data which will be used for tuning the model and the test data will be used for final evaluation of the model. We can't use the test data as validation data as it will overfit the data."
   ]
  },
  {
   "cell_type": "markdown",
   "metadata": {
    "id": "_ifaCxidRX6t"
   },
   "source": [
    "Importing all the libraries which are required for creating the Neural NetworkS."
   ]
  },
  {
   "cell_type": "code",
   "execution_count": 1,
   "metadata": {
    "id": "-7SPVr25MMoC"
   },
   "outputs": [],
   "source": [
    "import tensorflow as tf\n",
    "from tensorflow import keras\n",
    "import numpy as np\n",
    "import pandas as pd\n",
    "import matplotlib.pyplot as plt\n",
    "import warnings\n",
    "warnings.filterwarnings(action = 'ignore')"
   ]
  },
  {
   "cell_type": "markdown",
   "metadata": {
    "id": "s9wpfoYoRhX4"
   },
   "source": [
    "Checking the version of Tensorflow and Keras for the compatibilty."
   ]
  },
  {
   "cell_type": "code",
   "execution_count": 2,
   "metadata": {
    "colab": {
     "base_uri": "https://localhost:8080/",
     "height": 35
    },
    "id": "gjMKRVHtXNYu",
    "outputId": "635aafef-641c-4eb2-9a96-32189a139155"
   },
   "outputs": [
    {
     "data": {
      "application/vnd.google.colaboratory.intrinsic+json": {
       "type": "string"
      },
      "text/plain": [
       "'2.5.0'"
      ]
     },
     "execution_count": 2,
     "metadata": {
      "tags": []
     },
     "output_type": "execute_result"
    }
   ],
   "source": [
    "tf.__version__"
   ]
  },
  {
   "cell_type": "code",
   "execution_count": 3,
   "metadata": {
    "colab": {
     "base_uri": "https://localhost:8080/",
     "height": 35
    },
    "id": "0RGjHSU5YBFD",
    "outputId": "fb4e224d-93ab-44d5-c853-ee0776cd194b"
   },
   "outputs": [
    {
     "data": {
      "application/vnd.google.colaboratory.intrinsic+json": {
       "type": "string"
      },
      "text/plain": [
       "'2.5.0'"
      ]
     },
     "execution_count": 3,
     "metadata": {
      "tags": []
     },
     "output_type": "execute_result"
    }
   ],
   "source": [
    "keras.__version__"
   ]
  },
  {
   "cell_type": "markdown",
   "metadata": {
    "id": "ksebrwFXRoxB"
   },
   "source": [
    "### NetA\n",
    "It is a very basic model which will take all the inputs and will return the output using softmax activation function. It doesn't have any hidden layers."
   ]
  },
  {
   "cell_type": "code",
   "execution_count": 4,
   "metadata": {
    "id": "0Xx1pkZzgMFi"
   },
   "outputs": [],
   "source": [
    "# creating the class for NetA model\n",
    "class NetA:\n",
    "  # declaring the function which will calculate the accuracy on traning, validation and test data.    \n",
    "  def calculate(self, X_train_full, y_train_full, X_test, y_test, NUM_EPOCHS):\n",
    "    # Cleaning the data set\n",
    "    X_train_full = X_train_full/255.\n",
    "    X_test = X_test/255.\n",
    "    # Separating 20% data from the train data which will be used as a validation data that will help in improving the performance and fine tuning our model\n",
    "    dist = int(X_train_full.shape[0]*0.20)\n",
    "    x_valid, X_train = X_train_full[:dist], X_train_full[dist:]\n",
    "    y_valid, y_train = y_train_full[:dist], y_train_full[dist:]\n",
    "\n",
    "    # Setting a seed value so that functions which uses randomness always gives the same output.\n",
    "    np.random.seed(42)\n",
    "    tf.random.set_seed(42)\n",
    "\n",
    "    # Declaring a Sequential Model using Keras\n",
    "    model_a = keras.models.Sequential()\n",
    "    # We are adding layers to the Neural Network. We provide the input size and convert it into a 1D array for further process and calculation.\n",
    "    model_a.add(keras.layers.Flatten(input_shape=[32, 32, 3]))\n",
    "    # We connect all the input layer nodes to the output layer nodes with a dense network. We will be using softmax activation function as we have 10 different class labels\n",
    "    model_a.add(keras.layers.Dense(10, activation=\"softmax\"))\n",
    "\n",
    "    # We compile the model and tell the optimzer, loss method and metrics to be used for tuning.\n",
    "    model_a.compile(loss=\"sparse_categorical_crossentropy\",\n",
    "              optimizer=\"sgd\",\n",
    "              metrics=[\"accuracy\"])\n",
    "    \n",
    "    # We fit the model by providing the train data set and validation data for tuning and enhancement of performance.\n",
    "    # Number of epochs will tell the number of iterations on whole data set and verbose will disable the output shown in the training process.\n",
    "    # After fitting, it returns an object which include all the details of the model and its performance at each and every iteration/epoch while training.\n",
    "    model_a_history = model_a.fit(X_train, y_train, epochs=NUM_EPOCHS,\n",
    "                        validation_data=(x_valid, y_valid), verbose=0)\n",
    "    \n",
    "    # We use the test data set to find the accuracy that is achieved by our model.\n",
    "    test_accuracy = model_a.evaluate(X_test, y_test, verbose=0)\n",
    "\n",
    "    # We return the train and validation accuracy achieved by model with the final accuracy achieved on the test data.\n",
    "    return (model_a_history.history['accuracy'], model_a_history.history['val_accuracy'], test_accuracy)"
   ]
  },
  {
   "cell_type": "markdown",
   "metadata": {
    "id": "_69XW5xzVF9x"
   },
   "source": [
    "### NetB\n",
    "This model is a basic model which will take all the input and will flatten the data. It will then create a one hidden layer with a dense network with relu activation function and is then connected to the output layer with softmax activation function."
   ]
  },
  {
   "cell_type": "code",
   "execution_count": 5,
   "metadata": {
    "id": "J7kz-rpsgLj3"
   },
   "outputs": [],
   "source": [
    "# creating the class for NetB model\n",
    "class NetB:\n",
    "  # declaring the function which will calculate the accuracy on traning, validation and test data.    \n",
    "  def calculate(self, X_train_full, y_train_full, X_test, y_test, NUM_EPOCHS):\n",
    "    # Cleaning the data set\n",
    "    X_train_full = X_train_full/255.\n",
    "    X_test = X_test/255.\n",
    "    # Separating 20% data from the train data which will be used as a validation data that will help in improving the performance and fine tuning our model\n",
    "    dist = int(X_train_full.shape[0]*0.20)\n",
    "    x_valid, X_train = X_train_full[:dist], X_train_full[dist:]\n",
    "    y_valid, y_train = y_train_full[:dist], y_train_full[dist:]\n",
    "\n",
    "    # Setting a seed value so that functions which uses randomness always gives the same output.\n",
    "    np.random.seed(42)\n",
    "    tf.random.set_seed(42)\n",
    "\n",
    "    # Declaring a Sequential Model using Keras\n",
    "    model_b = keras.models.Sequential()\n",
    "    # We are adding layers to the Neural Network. We provide the input size and convert it into a 1D array for further process and calculation.\n",
    "    model_b.add(keras.layers.Flatten(input_shape=[32, 32, 3]))\n",
    "    # We connect the flatten input layer to the hidden layer with 300 neurons. All the input nodes will be connected with each neuron in hidden layer and relu is used as an activation function.\n",
    "    model_b.add(keras.layers.Dense(300, activation=\"relu\"))\n",
    "    # We connect all the hidden layer nodes to the output layer nodes with a dense network.\n",
    "    model_b.add(keras.layers.Dense(10, activation=\"softmax\"))\n",
    "\n",
    "    # We compile the model and tell the optimzer, loss method and metrics to be used for hypertuning.\n",
    "    model_b.compile(loss=\"sparse_categorical_crossentropy\",\n",
    "              optimizer=\"sgd\",\n",
    "              metrics=[\"accuracy\"])\n",
    "    \n",
    "    # We fit the model by providing the train data set and validation data for tuning and enhancement of performance.\n",
    "    # Number of epochs will tell the number of iterations on whole data set and verbose will disable the output shown in the training process.\n",
    "    # After fitting, it returns an object which include all the details of the model and its performance at each and every iteration/epoch while training.\n",
    "    model_b_history = model_b.fit(X_train, y_train, epochs=NUM_EPOCHS,\n",
    "                        validation_data=(x_valid, y_valid), verbose=0)\n",
    "    \n",
    "    # We use the test data set to find the accuracy that is achieved by our model.\n",
    "    test_accuracy = model_b.evaluate(X_test, y_test, verbose=0)\n",
    "\n",
    "    # We return the train and validation accuracy achieved by model with the final accuracy achieved on the test data set\n",
    "    return (model_b_history.history['accuracy'], model_b_history.history['val_accuracy'], test_accuracy)"
   ]
  },
  {
   "cell_type": "markdown",
   "metadata": {
    "id": "yUDXtcgwVHq_"
   },
   "source": [
    "### NetC\n",
    "This model has a Convolutional Neural Network which will be using the CNN approach such as filter, maxpooling, strides, etc. to improve the accuracy on the data set. It will have a 2D Convulational Layer with a Maxpooling layer which is then flatten and connected to the output layer."
   ]
  },
  {
   "cell_type": "code",
   "execution_count": 6,
   "metadata": {
    "id": "P2O-9XPKgLG_"
   },
   "outputs": [],
   "source": [
    "# creating the class for NetA model\n",
    "class NetC:\n",
    "  # declaring the function which will calculate the accuracy on traning, validation and test data.    \n",
    "  def calculate(self, X_train_full, y_train_full, X_test, y_test, NUM_EPOCHS):\n",
    "    # Cleaning the data set\n",
    "    X_train_full = X_train_full/255.\n",
    "    X_test = X_test/255.\n",
    "    # Separating 20% data from the train data which will be used as a validation data that will help in improving the performance and fine tuning our model\n",
    "    dist = int(X_train_full.shape[0]*0.20)\n",
    "    x_valid, X_train = X_train_full[:dist], X_train_full[dist:]\n",
    "    y_valid, y_train = y_train_full[:dist], y_train_full[dist:]\n",
    "\n",
    "    # Setting a seed value so that functions which uses randomness always gives the same output.\n",
    "    np.random.seed(42)\n",
    "    tf.random.set_seed(42)\n",
    "\n",
    "    # Declaring a Sequential Model using Keras\n",
    "    model_c = keras.models.Sequential()\n",
    "    # We are adding layers to the Convolutional Neural Network. We provide the input size and activation function. We mention the\n",
    "    # kernal size as (5, 5) for the value selection and filters(depth) as 25 for different variations as mentioned in the question\n",
    "    model_c.add(keras.layers.Conv2D(filters=25, kernel_size=(5, 5), activation=\"relu\",\n",
    "                                  input_shape=(32, 32, 3)))\n",
    "    # We create a maxpooling layer of size (2, 2) and with strides as 2 which will decrease the size of the input layer and reduces the computation cost.\n",
    "    model_c.add(keras.layers.MaxPooling2D((2, 2), strides=2))\n",
    "    # We convert the CNN layer into a 1D array for further calculation and processing.\n",
    "    model_c.add(keras.layers.Flatten())\n",
    "    # We connect all the hidden layer nodes to the output layer nodes with a dense network.\n",
    "    model_c.add(keras.layers.Dense(10, activation=\"softmax\"))\n",
    "\n",
    "    # We compile the model and tell the optimzer, loss method and metrics to be used for hypertuning.\n",
    "    model_c.compile(loss=\"sparse_categorical_crossentropy\",\n",
    "              optimizer=\"sgd\",\n",
    "              metrics=[\"accuracy\"])\n",
    "    \n",
    "    # We fit the model by providing the train data set and validation data for tuning and enhancement of performance.\n",
    "    # Number of epochs will tell the number of iterations on whole data set and verbose will disable the output shown in the training process.\n",
    "    # After fitting, it returns an object which include all the details of the model and its performance at each and every iteration/epoch while training.\n",
    "    model_c_history = model_c.fit(X_train, y_train, epochs=NUM_EPOCHS,\n",
    "                        validation_data=(x_valid, y_valid), verbose=0)\n",
    "    \n",
    "    # We use the test data set to find the accuracy that is achieved by our model.\n",
    "    test_accuracy = model_c.evaluate(X_test, y_test, verbose=0)\n",
    "\n",
    "    # We return the train and validation accuracy achieved by model with the final accuracy achieved on the test data set.\n",
    "    return (model_c_history.history['accuracy'], model_c_history.history['val_accuracy'], test_accuracy)"
   ]
  },
  {
   "cell_type": "markdown",
   "metadata": {
    "id": "Qfm9scH5XuSG"
   },
   "source": [
    "## Model Evaluation\n",
    "In this section we will list the accuracy achieved by each model and will try to visualize it using graphs."
   ]
  },
  {
   "cell_type": "code",
   "execution_count": 7,
   "metadata": {
    "colab": {
     "base_uri": "https://localhost:8080/",
     "height": 1000
    },
    "id": "XmAhvll8_QGf",
    "outputId": "9cff75b1-5912-4e18-d781-0949822fae74"
   },
   "outputs": [
    {
     "name": "stdout",
     "output_type": "stream",
     "text": [
      "\n",
      "+---------------------------------------------+\n",
      "|                  Model NetA                 |\n",
      "+---------------------------------------------+\n",
      "|   Train Accuracy      : 0.421550005674362   |\n",
      "|   Validation Accuracy : 0.375499993562698   |\n",
      "|   Test Accuracy       : 0.366499990224838   |\n",
      "+---------------------------------------------+\n",
      "\n"
     ]
    },
    {
     "data": {
      "image/png": "[encoded data removed]",
      "text/plain": [
       "<Figure size 576x360 with 1 Axes>"
      ]
     },
     "metadata": {
      "tags": []
     },
     "output_type": "display_data"
    },
    {
     "name": "stdout",
     "output_type": "stream",
     "text": [
      "\n",
      "\n",
      "\n",
      "+---------------------------------------------+\n",
      "|                  Model NetB                 |\n",
      "+---------------------------------------------+\n",
      "|   Train Accuracy      : 0.667349994182587   |\n",
      "|   Validation Accuracy : 0.525300025939941   |\n",
      "|   Test Accuracy       : 0.524299979209900   |\n",
      "+---------------------------------------------+\n",
      "\n"
     ]
    },
    {
     "data": {
      "image/png": "[encoded data removed]",
      "text/plain": [
       "<Figure size 576x360 with 1 Axes>"
      ]
     },
     "metadata": {
      "tags": []
     },
     "output_type": "display_data"
    },
    {
     "name": "stdout",
     "output_type": "stream",
     "text": [
      "\n",
      "\n",
      "\n",
      "+---------------------------------------------+\n",
      "|                  Model NetC                 |\n",
      "+---------------------------------------------+\n",
      "|   Train Accuracy      : 0.740499973297119   |\n",
      "|   Validation Accuracy : 0.594099998474121   |\n",
      "|   Test Accuracy       : 0.592599987983704   |\n",
      "+---------------------------------------------+\n",
      "\n"
     ]
    },
    {
     "data": {
      "image/png": "[encoded data removed]",
      "text/plain": [
       "<Figure size 576x360 with 1 Axes>"
      ]
     },
     "metadata": {
      "needs_background": "light",
      "tags": []
     },
     "output_type": "display_data"
    },
    {
     "name": "stdout",
     "output_type": "stream",
     "text": [
      "\n",
      "\n"
     ]
    }
   ],
   "source": [
    "# We define all the classes created for each model\n",
    "classes = [NetA(), NetB(), NetC()]\n",
    "# We import the dataset from the dataset available in the keras library.\n",
    "(X_train_full, y_train_full), (X_test, y_test) = keras.datasets.cifar10.load_data()\n",
    "# number of iterations taken by train data for improving the performance of the model.\n",
    "NUM_EPOCHS = 50\n",
    "\n",
    "\n",
    "# We iterate through all the classes to evaluate all the models.\n",
    "for clas in classes:\n",
    "  # We try to save the model in another variable and will call the calculate funtion which will return the train, test and validation accuracy by taking train and test data with epochs as the input.\n",
    "  model = clas\n",
    "  train_accuracy, val_accuracy, test_accuracy = model.calculate(X_train_full, y_train_full, X_test, y_test, NUM_EPOCHS)\n",
    "\n",
    "  # We print the accuracy achieved by the model on datasets after completing all the epochs in a tabular manner.\n",
    "  print('\\n+---------------------------------------------+')\n",
    "  print('|                  Model {}                 |'.format(type(model).__name__))\n",
    "  print('+---------------------------------------------+')\n",
    "  print('|   Train Accuracy      : {0:.15f}   |'.format(train_accuracy[-1]))\n",
    "  print('|   Validation Accuracy : {0:.15f}   |'.format(val_accuracy[-1]))\n",
    "  print('|   Test Accuracy       : {0:.15f}   |'.format(test_accuracy[-1]))\n",
    "  print('+---------------------------------------------+\\n')\n",
    "\n",
    "  # We visualize the accuracy achieved on the train and validation data after each and every epoch in the training process.\n",
    "  pd.DataFrame({'Train Accuracy':train_accuracy, 'Test/Validation Accuracy':val_accuracy}).plot(figsize=(8, 5))\n",
    "  plt.grid(True)\n",
    "  plt.title(type(clas).__name__)\n",
    "  plt.gca().set_ylim(0, 1)\n",
    "  plt.legend()\n",
    "  plt.show()\n",
    "\n",
    "  print('\\n')"
   ]
  }
 ],
 "metadata": {
  "accelerator": "GPU",
  "colab": {
   "collapsed_sections": [],
   "name": "Basic Neural Network Task - Ayush jain.ipynb",
   "provenance": []
  },
  "kernelspec": {
   "display_name": "Python 3",
   "language": "python",
   "name": "python3"
  },
  "language_info": {
   "codemirror_mode": {
    "name": "ipython",
    "version": 3
   },
   "file_extension": ".py",
   "mimetype": "text/x-python",
   "name": "python",
   "nbconvert_exporter": "python",
   "pygments_lexer": "ipython3",
   "version": "3.8.3"
  }
 },
 "nbformat": 4,
 "nbformat_minor": 1
}
