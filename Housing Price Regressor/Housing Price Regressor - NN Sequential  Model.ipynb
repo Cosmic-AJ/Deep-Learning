{
 "cells": [
  {
   "cell_type": "markdown",
   "metadata": {},
   "source": [
    "# Housing Price Regressor"
   ]
  },
  {
   "cell_type": "code",
   "execution_count": 1,
   "metadata": {
    "collapsed": true
   },
   "outputs": [],
   "source": [
    "import tensorflow as tf\n",
    "from tensorflow import keras\n",
    "import numpy as np\n",
    "import pandas as pd\n",
    "import matplotlib as mpl\n",
    "import matplotlib.pyplot as plt\n",
    "plt.style.use('dark_background')\n",
    "import warnings\n",
    "warnings.filterwarnings(action = 'ignore')"
   ]
  },
  {
   "cell_type": "code",
   "execution_count": 2,
   "metadata": {},
   "outputs": [],
   "source": [
    "from sklearn.datasets import fetch_california_housing\n",
    "housing = fetch_california_housing()"
   ]
  },
  {
   "cell_type": "code",
   "execution_count": 3,
   "metadata": {},
   "outputs": [
    {
     "data": {
      "text/plain": [
       "{'data': array([[   8.3252    ,   41.        ,    6.98412698, ...,    2.55555556,\n",
       "           37.88      , -122.23      ],\n",
       "        [   8.3014    ,   21.        ,    6.23813708, ...,    2.10984183,\n",
       "           37.86      , -122.22      ],\n",
       "        [   7.2574    ,   52.        ,    8.28813559, ...,    2.80225989,\n",
       "           37.85      , -122.24      ],\n",
       "        ...,\n",
       "        [   1.7       ,   17.        ,    5.20554273, ...,    2.3256351 ,\n",
       "           39.43      , -121.22      ],\n",
       "        [   1.8672    ,   18.        ,    5.32951289, ...,    2.12320917,\n",
       "           39.43      , -121.32      ],\n",
       "        [   2.3886    ,   16.        ,    5.25471698, ...,    2.61698113,\n",
       "           39.37      , -121.24      ]]),\n",
       " 'target': array([4.526, 3.585, 3.521, ..., 0.923, 0.847, 0.894]),\n",
       " 'frame': None,\n",
       " 'target_names': ['MedHouseVal'],\n",
       " 'feature_names': ['MedInc',\n",
       "  'HouseAge',\n",
       "  'AveRooms',\n",
       "  'AveBedrms',\n",
       "  'Population',\n",
       "  'AveOccup',\n",
       "  'Latitude',\n",
       "  'Longitude'],\n",
       " 'DESCR': '.. _california_housing_dataset:\\n\\nCalifornia Housing dataset\\n--------------------------\\n\\n**Data Set Characteristics:**\\n\\n    :Number of Instances: 20640\\n\\n    :Number of Attributes: 8 numeric, predictive attributes and the target\\n\\n    :Attribute Information:\\n        - MedInc        median income in block\\n        - HouseAge      median house age in block\\n        - AveRooms      average number of rooms\\n        - AveBedrms     average number of bedrooms\\n        - Population    block population\\n        - AveOccup      average house occupancy\\n        - Latitude      house block latitude\\n        - Longitude     house block longitude\\n\\n    :Missing Attribute Values: None\\n\\nThis dataset was obtained from the StatLib repository.\\nhttp://lib.stat.cmu.edu/datasets/\\n\\nThe target variable is the median house value for California districts.\\n\\nThis dataset was derived from the 1990 U.S. census, using one row per census\\nblock group. A block group is the smallest geographical unit for which the U.S.\\nCensus Bureau publishes sample data (a block group typically has a population\\nof 600 to 3,000 people).\\n\\nIt can be downloaded/loaded using the\\n:func:`sklearn.datasets.fetch_california_housing` function.\\n\\n.. topic:: References\\n\\n    - Pace, R. Kelley and Ronald Barry, Sparse Spatial Autoregressions,\\n      Statistics and Probability Letters, 33 (1997) 291-297\\n'}"
      ]
     },
     "execution_count": 3,
     "metadata": {},
     "output_type": "execute_result"
    }
   ],
   "source": [
    "housing"
   ]
  },
  {
   "cell_type": "code",
   "execution_count": 4,
   "metadata": {},
   "outputs": [
    {
     "data": {
      "text/plain": [
       "['MedInc',\n",
       " 'HouseAge',\n",
       " 'AveRooms',\n",
       " 'AveBedrms',\n",
       " 'Population',\n",
       " 'AveOccup',\n",
       " 'Latitude',\n",
       " 'Longitude']"
      ]
     },
     "execution_count": 4,
     "metadata": {},
     "output_type": "execute_result"
    }
   ],
   "source": [
    "housing.feature_names"
   ]
  },
  {
   "cell_type": "code",
   "execution_count": 5,
   "metadata": {},
   "outputs": [],
   "source": [
    "from sklearn.model_selection import train_test_split\n",
    "X_train_full, X_test, Y_train_full, Y_test = train_test_split(housing.data, housing.target, random_state=42)\n",
    "X_train, X_valid, Y_train, Y_valid = train_test_split(X_train_full, Y_train_full, random_state=42)"
   ]
  },
  {
   "cell_type": "code",
   "execution_count": 6,
   "metadata": {},
   "outputs": [],
   "source": [
    "from sklearn.preprocessing import StandardScaler\n",
    "scaler = StandardScaler()\n",
    "X_train = scaler.fit_transform(X_train)\n",
    "X_valid = scaler.transform(X_valid)\n",
    "X_test = scaler.transform(X_test)"
   ]
  },
  {
   "cell_type": "code",
   "execution_count": 7,
   "metadata": {},
   "outputs": [],
   "source": [
    "np.random.seed(42)\n",
    "tf.random.set_seed(42)"
   ]
  },
  {
   "cell_type": "code",
   "execution_count": 8,
   "metadata": {},
   "outputs": [
    {
     "data": {
      "text/plain": [
       "((11610, 8), (3870, 8), (5160, 8))"
      ]
     },
     "execution_count": 8,
     "metadata": {},
     "output_type": "execute_result"
    }
   ],
   "source": [
    "X_train.shape, X_valid.shape, X_test.shape"
   ]
  },
  {
   "cell_type": "code",
   "execution_count": 9,
   "metadata": {},
   "outputs": [
    {
     "data": {
      "text/plain": [
       "((11610,), (3870,), (5160,))"
      ]
     },
     "execution_count": 9,
     "metadata": {},
     "output_type": "execute_result"
    }
   ],
   "source": [
    "Y_train.shape, Y_valid.shape, Y_test.shape"
   ]
  },
  {
   "cell_type": "code",
   "execution_count": 10,
   "metadata": {},
   "outputs": [
    {
     "data": {
      "text/plain": [
       "((8,), 8)"
      ]
     },
     "execution_count": 10,
     "metadata": {},
     "output_type": "execute_result"
    }
   ],
   "source": [
    "X_train.shape[1:], X_train.shape[1] "
   ]
  },
  {
   "cell_type": "code",
   "execution_count": 11,
   "metadata": {},
   "outputs": [],
   "source": [
    "model = keras.models.Sequential([\n",
    "  # keras.layers.Dense(30, activation=\"relu\", input_shape=X_train.shape[1]),\n",
    "    keras.layers.Dense(30, activation=\"relu\", input_shape=[8]),\n",
    "    keras.layers.Dense(30, activation=\"relu\"),\n",
    "    keras.layers.Dense(1)\n",
    "])\n",
    "# model = keras.models.Sequential()\n",
    "# model.add(keras.layers.Dense(30, activation=\"relu\", input_shape=[8]))\n",
    "# model.add(keras.layers.Dense(30, activation=\"relu\"))\n",
    "# model.add(keras.layers.Dense(1))"
   ]
  },
  {
   "cell_type": "code",
   "execution_count": 12,
   "metadata": {
    "scrolled": true
   },
   "outputs": [
    {
     "name": "stdout",
     "output_type": "stream",
     "text": [
      "Model: \"sequential\"\n",
      "_________________________________________________________________\n",
      "Layer (type)                 Output Shape              Param #   \n",
      "=================================================================\n",
      "dense (Dense)                (None, 30)                270       \n",
      "_________________________________________________________________\n",
      "dense_1 (Dense)              (None, 30)                930       \n",
      "_________________________________________________________________\n",
      "dense_2 (Dense)              (None, 1)                 31        \n",
      "=================================================================\n",
      "Total params: 1,231\n",
      "Trainable params: 1,231\n",
      "Non-trainable params: 0\n",
      "_________________________________________________________________\n"
     ]
    }
   ],
   "source": [
    "model.summary()"
   ]
  },
  {
   "cell_type": "code",
   "execution_count": 13,
   "metadata": {},
   "outputs": [],
   "source": [
    "model.compile(loss='mean_squared_error',\n",
    "             optimizer = keras.optimizers.SGD(lr=1e-3),\n",
    "             metrics=['mae'])"
   ]
  },
  {
   "cell_type": "code",
   "execution_count": 14,
   "metadata": {},
   "outputs": [
    {
     "name": "stdout",
     "output_type": "stream",
     "text": [
      "Epoch 1/30\n",
      "363/363 [==============================] - 1s 4ms/step - loss: 1.8866 - mae: 0.9900 - val_loss: 0.7126 - val_mae: 0.6368\n",
      "Epoch 2/30\n",
      "363/363 [==============================] - 1s 2ms/step - loss: 0.6577 - mae: 0.6042 - val_loss: 0.6880 - val_mae: 0.5704\n",
      "Epoch 3/30\n",
      "363/363 [==============================] - 1s 2ms/step - loss: 0.5934 - mae: 0.5618 - val_loss: 0.5803 - val_mae: 0.5352\n",
      "Epoch 4/30\n",
      "363/363 [==============================] - 1s 2ms/step - loss: 0.5557 - mae: 0.5398 - val_loss: 0.5166 - val_mae: 0.5207\n",
      "Epoch 5/30\n",
      "363/363 [==============================] - 1s 2ms/step - loss: 0.5272 - mae: 0.5237 - val_loss: 0.4895 - val_mae: 0.5022\n",
      "Epoch 6/30\n",
      "363/363 [==============================] - 1s 2ms/step - loss: 0.5033 - mae: 0.5113 - val_loss: 0.4951 - val_mae: 0.4934\n",
      "Epoch 7/30\n",
      "363/363 [==============================] - 1s 2ms/step - loss: 0.4854 - mae: 0.5010 - val_loss: 0.4861 - val_mae: 0.4838\n",
      "Epoch 8/30\n",
      "363/363 [==============================] - 1s 2ms/step - loss: 0.4709 - mae: 0.4924 - val_loss: 0.4554 - val_mae: 0.4753\n",
      "Epoch 9/30\n",
      "363/363 [==============================] - 1s 2ms/step - loss: 0.4578 - mae: 0.4857 - val_loss: 0.4413 - val_mae: 0.4671\n",
      "Epoch 10/30\n",
      "363/363 [==============================] - 1s 2ms/step - loss: 0.4474 - mae: 0.4797 - val_loss: 0.4379 - val_mae: 0.4623\n",
      "Epoch 11/30\n",
      "363/363 [==============================] - 1s 2ms/step - loss: 0.4393 - mae: 0.4744 - val_loss: 0.4396 - val_mae: 0.4638\n",
      "Epoch 12/30\n",
      "363/363 [==============================] - 1s 2ms/step - loss: 0.4318 - mae: 0.4703 - val_loss: 0.4507 - val_mae: 0.4573\n",
      "Epoch 13/30\n",
      "363/363 [==============================] - 1s 2ms/step - loss: 0.4261 - mae: 0.4674 - val_loss: 0.3997 - val_mae: 0.4517\n",
      "Epoch 14/30\n",
      "363/363 [==============================] - 1s 2ms/step - loss: 0.4202 - mae: 0.4636 - val_loss: 0.3956 - val_mae: 0.4497\n",
      "Epoch 15/30\n",
      "363/363 [==============================] - 1s 2ms/step - loss: 0.4155 - mae: 0.4613 - val_loss: 0.3916 - val_mae: 0.4464\n",
      "Epoch 16/30\n",
      "363/363 [==============================] - 1s 2ms/step - loss: 0.4112 - mae: 0.4591 - val_loss: 0.3937 - val_mae: 0.4445\n",
      "Epoch 17/30\n",
      "363/363 [==============================] - 1s 2ms/step - loss: 0.4077 - mae: 0.4569 - val_loss: 0.3809 - val_mae: 0.4390\n",
      "Epoch 18/30\n",
      "363/363 [==============================] - 1s 2ms/step - loss: 0.4040 - mae: 0.4545 - val_loss: 0.3793 - val_mae: 0.4368\n",
      "Epoch 19/30\n",
      "363/363 [==============================] - 1s 2ms/step - loss: 0.4004 - mae: 0.4521 - val_loss: 0.3850 - val_mae: 0.4369\n",
      "Epoch 20/30\n",
      "363/363 [==============================] - 1s 2ms/step - loss: 0.3980 - mae: 0.4508 - val_loss: 0.3809 - val_mae: 0.4368\n",
      "Epoch 21/30\n",
      "363/363 [==============================] - 1s 2ms/step - loss: 0.3949 - mae: 0.4488 - val_loss: 0.3701 - val_mae: 0.4350\n",
      "Epoch 22/30\n",
      "363/363 [==============================] - 1s 2ms/step - loss: 0.3924 - mae: 0.4474 - val_loss: 0.3781 - val_mae: 0.4358\n",
      "Epoch 23/30\n",
      "363/363 [==============================] - 1s 2ms/step - loss: 0.3898 - mae: 0.4462 - val_loss: 0.3650 - val_mae: 0.4267\n",
      "Epoch 24/30\n",
      "363/363 [==============================] - 1s 2ms/step - loss: 0.3874 - mae: 0.4438 - val_loss: 0.3655 - val_mae: 0.4271\n",
      "Epoch 25/30\n",
      "363/363 [==============================] - 1s 2ms/step - loss: 0.3851 - mae: 0.4427 - val_loss: 0.3611 - val_mae: 0.4257\n",
      "Epoch 26/30\n",
      "363/363 [==============================] - 1s 2ms/step - loss: 0.3829 - mae: 0.4412 - val_loss: 0.3626 - val_mae: 0.4256\n",
      "Epoch 27/30\n",
      "363/363 [==============================] - 1s 2ms/step - loss: 0.3809 - mae: 0.4398 - val_loss: 0.3564 - val_mae: 0.4242\n",
      "Epoch 28/30\n",
      "363/363 [==============================] - 1s 2ms/step - loss: 0.3788 - mae: 0.4382 - val_loss: 0.3579 - val_mae: 0.4259\n",
      "Epoch 29/30\n",
      "363/363 [==============================] - 1s 2ms/step - loss: 0.3769 - mae: 0.4373 - val_loss: 0.3561 - val_mae: 0.4244\n",
      "Epoch 30/30\n",
      "363/363 [==============================] - 1s 2ms/step - loss: 0.3750 - mae: 0.4359 - val_loss: 0.3548 - val_mae: 0.4214\n"
     ]
    }
   ],
   "source": [
    "model_history = model.fit(X_train, Y_train,\n",
    "                         epochs=30,\n",
    "                         validation_data=(X_valid, Y_valid))"
   ]
  },
  {
   "cell_type": "code",
   "execution_count": 15,
   "metadata": {},
   "outputs": [
    {
     "data": {
      "text/plain": [
       "{'verbose': 1, 'epochs': 30, 'steps': 363}"
      ]
     },
     "execution_count": 15,
     "metadata": {},
     "output_type": "execute_result"
    }
   ],
   "source": [
    "model_history.params"
   ]
  },
  {
   "cell_type": "code",
   "execution_count": 16,
   "metadata": {},
   "outputs": [
    {
     "data": {
      "text/plain": [
       "{'loss': [1.8866397142410278,\n",
       "  0.6577127575874329,\n",
       "  0.5934185981750488,\n",
       "  0.5557191967964172,\n",
       "  0.5271904468536377,\n",
       "  0.5032975673675537,\n",
       "  0.48535558581352234,\n",
       "  0.47091811895370483,\n",
       "  0.45779934525489807,\n",
       "  0.4474469721317291,\n",
       "  0.4393136501312256,\n",
       "  0.43176087737083435,\n",
       "  0.4260515868663788,\n",
       "  0.42017653584480286,\n",
       "  0.41549986600875854,\n",
       "  0.4111650586128235,\n",
       "  0.4077068865299225,\n",
       "  0.4039528965950012,\n",
       "  0.4004494547843933,\n",
       "  0.3979603350162506,\n",
       "  0.39491623640060425,\n",
       "  0.392380952835083,\n",
       "  0.3898072838783264,\n",
       "  0.3874099850654602,\n",
       "  0.38507524132728577,\n",
       "  0.38291803002357483,\n",
       "  0.3808581829071045,\n",
       "  0.3787591755390167,\n",
       "  0.3769364356994629,\n",
       "  0.37497687339782715],\n",
       " 'mae': [0.9900257587432861,\n",
       "  0.6041510105133057,\n",
       "  0.5618006587028503,\n",
       "  0.5398454070091248,\n",
       "  0.5237293839454651,\n",
       "  0.5112562775611877,\n",
       "  0.5010154247283936,\n",
       "  0.492448091506958,\n",
       "  0.4857262969017029,\n",
       "  0.47973746061325073,\n",
       "  0.4744163453578949,\n",
       "  0.4703480303287506,\n",
       "  0.46740880608558655,\n",
       "  0.46360209584236145,\n",
       "  0.461266428232193,\n",
       "  0.4591343402862549,\n",
       "  0.4568699896335602,\n",
       "  0.45453646779060364,\n",
       "  0.4521065056324005,\n",
       "  0.45083147287368774,\n",
       "  0.4488178491592407,\n",
       "  0.4474424719810486,\n",
       "  0.44620010256767273,\n",
       "  0.4437682628631592,\n",
       "  0.4427269697189331,\n",
       "  0.4411567747592926,\n",
       "  0.43981388211250305,\n",
       "  0.4382499158382416,\n",
       "  0.4372561573982239,\n",
       "  0.4359183609485626],\n",
       " 'val_loss': [0.7126054167747498,\n",
       "  0.6880087852478027,\n",
       "  0.5803284645080566,\n",
       "  0.5166085362434387,\n",
       "  0.4895075559616089,\n",
       "  0.4950793385505676,\n",
       "  0.48612502217292786,\n",
       "  0.45538002252578735,\n",
       "  0.441336989402771,\n",
       "  0.43786394596099854,\n",
       "  0.4396442174911499,\n",
       "  0.4506688117980957,\n",
       "  0.3997235596179962,\n",
       "  0.39558932185173035,\n",
       "  0.3915724754333496,\n",
       "  0.3936830759048462,\n",
       "  0.38094857335090637,\n",
       "  0.3793475031852722,\n",
       "  0.3850175142288208,\n",
       "  0.38094648718833923,\n",
       "  0.37008610367774963,\n",
       "  0.3780854046344757,\n",
       "  0.3649766743183136,\n",
       "  0.3655155897140503,\n",
       "  0.36108672618865967,\n",
       "  0.36261090636253357,\n",
       "  0.35643547773361206,\n",
       "  0.3579290807247162,\n",
       "  0.35606300830841064,\n",
       "  0.35476282238960266],\n",
       " 'val_mae': [0.6368111968040466,\n",
       "  0.5703656077384949,\n",
       "  0.5351505279541016,\n",
       "  0.5206613540649414,\n",
       "  0.5022227168083191,\n",
       "  0.4933752119541168,\n",
       "  0.4838489592075348,\n",
       "  0.47527745366096497,\n",
       "  0.46705934405326843,\n",
       "  0.46234601736068726,\n",
       "  0.46377918124198914,\n",
       "  0.4572649896144867,\n",
       "  0.45166537165641785,\n",
       "  0.4496610760688782,\n",
       "  0.446370005607605,\n",
       "  0.4444963037967682,\n",
       "  0.43897414207458496,\n",
       "  0.43681108951568604,\n",
       "  0.4369050860404968,\n",
       "  0.4367615878582001,\n",
       "  0.43497899174690247,\n",
       "  0.43578681349754333,\n",
       "  0.42667096853256226,\n",
       "  0.42714089155197144,\n",
       "  0.4257424771785736,\n",
       "  0.42560702562332153,\n",
       "  0.4241633117198944,\n",
       "  0.4259428083896637,\n",
       "  0.42436832189559937,\n",
       "  0.4213896095752716]}"
      ]
     },
     "execution_count": 16,
     "metadata": {},
     "output_type": "execute_result"
    }
   ],
   "source": [
    "model_history.history"
   ]
  },
  {
   "cell_type": "code",
   "execution_count": 17,
   "metadata": {},
   "outputs": [
    {
     "name": "stdout",
     "output_type": "stream",
     "text": [
      "162/162 [==============================] - 0s 2ms/step - loss: 0.3727 - mae: 0.4346\n"
     ]
    }
   ],
   "source": [
    "mse_test = model.evaluate(X_test, Y_test)"
   ]
  },
  {
   "cell_type": "code",
   "execution_count": 18,
   "metadata": {},
   "outputs": [
    {
     "data": {
      "image/png": "[encoded data removed]",
      "text/plain": [
       "<Figure size 576x360 with 1 Axes>"
      ]
     },
     "metadata": {},
     "output_type": "display_data"
    }
   ],
   "source": [
    "pd.DataFrame(model_history.history).plot(figsize=(8,5))\n",
    "plt.gca().set_ylim(0, 1)\n",
    "plt.grid(True)\n",
    "plt.show()"
   ]
  },
  {
   "cell_type": "code",
   "execution_count": 19,
   "metadata": {},
   "outputs": [],
   "source": [
    "X_new = X_test[:3]"
   ]
  },
  {
   "cell_type": "code",
   "execution_count": 20,
   "metadata": {},
   "outputs": [],
   "source": [
    "y_pred = model.predict(X_new)"
   ]
  },
  {
   "cell_type": "code",
   "execution_count": 21,
   "metadata": {},
   "outputs": [
    {
     "name": "stdout",
     "output_type": "stream",
     "text": [
      "[[0.5808525]\n",
      " [1.9019514]\n",
      " [3.6079109]]\n"
     ]
    }
   ],
   "source": [
    "print(y_pred)"
   ]
  },
  {
   "cell_type": "code",
   "execution_count": 22,
   "metadata": {},
   "outputs": [
    {
     "name": "stdout",
     "output_type": "stream",
     "text": [
      "[0.477   0.458   5.00001]\n"
     ]
    }
   ],
   "source": [
    "print(Y_test[:3])"
   ]
  },
  {
   "cell_type": "markdown",
   "metadata": {},
   "source": [
    "# Callbacks and saving model after every epoch"
   ]
  },
  {
   "cell_type": "code",
   "execution_count": 23,
   "metadata": {},
   "outputs": [],
   "source": [
    "del model"
   ]
  },
  {
   "cell_type": "code",
   "execution_count": 24,
   "metadata": {},
   "outputs": [],
   "source": [
    "keras.backend.clear_session()"
   ]
  },
  {
   "cell_type": "code",
   "execution_count": 25,
   "metadata": {},
   "outputs": [],
   "source": [
    "np.random.seed(42)\n",
    "tf.random.set_seed(42)"
   ]
  },
  {
   "cell_type": "code",
   "execution_count": 26,
   "metadata": {},
   "outputs": [],
   "source": [
    "model = keras.models.Sequential([\n",
    "    keras.layers.Dense(30, activation=\"relu\", input_shape=[8]),\n",
    "    keras.layers.Dense(30, activation=\"relu\"),\n",
    "    keras.layers.Dense(1)\n",
    "])"
   ]
  },
  {
   "cell_type": "code",
   "execution_count": 27,
   "metadata": {},
   "outputs": [],
   "source": [
    "model.compile(loss='mse',\n",
    "             optimizer = keras.optimizers.SGD(lr=1e-3))"
   ]
  },
  {
   "cell_type": "code",
   "execution_count": 28,
   "metadata": {},
   "outputs": [],
   "source": [
    "checkpoint_cb = keras.callbacks.ModelCheckpoint(\"Sequential_Model_Housing_Price_Regressor/Model-{epoch:02d}.h5\")"
   ]
  },
  {
   "cell_type": "code",
   "execution_count": 29,
   "metadata": {},
   "outputs": [
    {
     "name": "stdout",
     "output_type": "stream",
     "text": [
      "Epoch 1/10\n",
      "363/363 [==============================] - 1s 3ms/step - loss: 1.8866 - val_loss: 0.7126\n",
      "Epoch 2/10\n",
      "363/363 [==============================] - 1s 2ms/step - loss: 0.6577 - val_loss: 0.6880\n",
      "Epoch 3/10\n",
      "363/363 [==============================] - 1s 2ms/step - loss: 0.5934 - val_loss: 0.5803\n",
      "Epoch 4/10\n",
      "363/363 [==============================] - 1s 2ms/step - loss: 0.5557 - val_loss: 0.5166\n",
      "Epoch 5/10\n",
      "363/363 [==============================] - 1s 2ms/step - loss: 0.5272 - val_loss: 0.4895\n",
      "Epoch 6/10\n",
      "363/363 [==============================] - 1s 2ms/step - loss: 0.5033 - val_loss: 0.4951\n",
      "Epoch 7/10\n",
      "363/363 [==============================] - 1s 2ms/step - loss: 0.4854 - val_loss: 0.4861\n",
      "Epoch 8/10\n",
      "363/363 [==============================] - 1s 2ms/step - loss: 0.4709 - val_loss: 0.4554\n",
      "Epoch 9/10\n",
      "363/363 [==============================] - 1s 2ms/step - loss: 0.4578 - val_loss: 0.4413\n",
      "Epoch 10/10\n",
      "363/363 [==============================] - 1s 2ms/step - loss: 0.4474 - val_loss: 0.4379\n"
     ]
    }
   ],
   "source": [
    "history = model.fit(X_train, Y_train,\n",
    "                    epochs=10,\n",
    "                    validation_data=(X_valid, Y_valid),\n",
    "                    callbacks=[checkpoint_cb]) "
   ]
  },
  {
   "cell_type": "code",
   "execution_count": 30,
   "metadata": {},
   "outputs": [],
   "source": [
    "del model\n",
    "keras.backend.clear_session()"
   ]
  },
  {
   "cell_type": "code",
   "execution_count": 31,
   "metadata": {},
   "outputs": [],
   "source": [
    "model = keras.models.load_model(\"Sequential_Model_Housing_Price_Regressor/Model-10.h5\")"
   ]
  },
  {
   "cell_type": "code",
   "execution_count": 32,
   "metadata": {},
   "outputs": [
    {
     "name": "stdout",
     "output_type": "stream",
     "text": [
      "162/162 [==============================] - 0s 1ms/step - loss: 0.4382\n",
      "0.438228577375412\n"
     ]
    }
   ],
   "source": [
    "mse_test = model.evaluate(X_test, Y_test)\n",
    "print(mse_test)"
   ]
  },
  {
   "cell_type": "markdown",
   "metadata": {},
   "source": [
    "# Saving Best Model Only"
   ]
  },
  {
   "cell_type": "code",
   "execution_count": 33,
   "metadata": {},
   "outputs": [],
   "source": [
    "del model\n",
    "keras.backend.clear_session()"
   ]
  },
  {
   "cell_type": "code",
   "execution_count": 34,
   "metadata": {},
   "outputs": [],
   "source": [
    "np.random.seed(42)\n",
    "tf.random.set_seed(42)"
   ]
  },
  {
   "cell_type": "code",
   "execution_count": 35,
   "metadata": {},
   "outputs": [],
   "source": [
    "model = keras.models.Sequential([\n",
    "    keras.layers.Dense(30, activation=\"relu\", input_shape=[8]),\n",
    "    keras.layers.Dense(30, activation=\"relu\"),\n",
    "    keras.layers.Dense(1)\n",
    "])"
   ]
  },
  {
   "cell_type": "code",
   "execution_count": 36,
   "metadata": {},
   "outputs": [],
   "source": [
    "model.compile(loss='mse',\n",
    "             optimizer = keras.optimizers.SGD(lr=1e-3))"
   ]
  },
  {
   "cell_type": "code",
   "execution_count": 37,
   "metadata": {},
   "outputs": [],
   "source": [
    "checkpoint_cb = keras.callbacks.ModelCheckpoint(\"Sequential_Model_Housing_Price_Regressor/Best_Model.h5\", save_best_only=True)"
   ]
  },
  {
   "cell_type": "code",
   "execution_count": 38,
   "metadata": {},
   "outputs": [
    {
     "name": "stdout",
     "output_type": "stream",
     "text": [
      "Epoch 1/10\n",
      "363/363 [==============================] - 1s 2ms/step - loss: 1.8866 - val_loss: 0.7126\n",
      "Epoch 2/10\n",
      "363/363 [==============================] - 1s 1ms/step - loss: 0.6577 - val_loss: 0.6880\n",
      "Epoch 3/10\n",
      "363/363 [==============================] - 1s 2ms/step - loss: 0.5934 - val_loss: 0.5803\n",
      "Epoch 4/10\n",
      "363/363 [==============================] - 1s 2ms/step - loss: 0.5557 - val_loss: 0.5166\n",
      "Epoch 5/10\n",
      "363/363 [==============================] - 1s 2ms/step - loss: 0.5272 - val_loss: 0.4895\n",
      "Epoch 6/10\n",
      "363/363 [==============================] - 1s 2ms/step - loss: 0.5033 - val_loss: 0.4951\n",
      "Epoch 7/10\n",
      "363/363 [==============================] - 1s 1ms/step - loss: 0.4854 - val_loss: 0.4861\n",
      "Epoch 8/10\n",
      "363/363 [==============================] - 1s 2ms/step - loss: 0.4709 - val_loss: 0.4554\n",
      "Epoch 9/10\n",
      "363/363 [==============================] - 1s 2ms/step - loss: 0.4578 - val_loss: 0.4413\n",
      "Epoch 10/10\n",
      "363/363 [==============================] - 1s 2ms/step - loss: 0.4474 - val_loss: 0.4379\n"
     ]
    }
   ],
   "source": [
    "history = model.fit(X_train, Y_train,\n",
    "                    epochs=10,\n",
    "                    validation_data=(X_valid, Y_valid),\n",
    "                    callbacks=[checkpoint_cb]) "
   ]
  },
  {
   "cell_type": "code",
   "execution_count": 39,
   "metadata": {},
   "outputs": [],
   "source": [
    "model = keras.models.load_model(\"Sequential_Model_Housing_Price_Regressor/Best_Model.h5\")"
   ]
  },
  {
   "cell_type": "code",
   "execution_count": 40,
   "metadata": {},
   "outputs": [
    {
     "name": "stdout",
     "output_type": "stream",
     "text": [
      "162/162 [==============================] - 0s 1ms/step - loss: 0.4382\n",
      "0.438228577375412\n"
     ]
    }
   ],
   "source": [
    "mse_test = model.evaluate(X_test, Y_test)\n",
    "print(mse_test)"
   ]
  },
  {
   "cell_type": "markdown",
   "metadata": {},
   "source": [
    "# Saving Best Model from a large numer of epochs"
   ]
  },
  {
   "cell_type": "code",
   "execution_count": 41,
   "metadata": {},
   "outputs": [],
   "source": [
    "del model\n",
    "keras.backend.clear_session()"
   ]
  },
  {
   "cell_type": "code",
   "execution_count": 42,
   "metadata": {},
   "outputs": [],
   "source": [
    "np.random.seed(42)\n",
    "tf.random.set_seed(42)"
   ]
  },
  {
   "cell_type": "code",
   "execution_count": 43,
   "metadata": {},
   "outputs": [],
   "source": [
    "model = keras.models.Sequential([\n",
    "    keras.layers.Dense(30, activation=\"relu\", input_shape=[8]),\n",
    "    keras.layers.Dense(30, activation=\"relu\"),\n",
    "    keras.layers.Dense(1)\n",
    "])"
   ]
  },
  {
   "cell_type": "code",
   "execution_count": 44,
   "metadata": {},
   "outputs": [],
   "source": [
    "model.compile(loss='mse',\n",
    "             optimizer = keras.optimizers.SGD(lr=1e-3))"
   ]
  },
  {
   "cell_type": "code",
   "execution_count": 45,
   "metadata": {},
   "outputs": [],
   "source": [
    "checkpoint_cb = keras.callbacks.ModelCheckpoint(\"Sequential_Model_Housing_Price_Regressor/Early_Stop_Model.h5\", save_best_only=True)"
   ]
  },
  {
   "cell_type": "code",
   "execution_count": 46,
   "metadata": {},
   "outputs": [],
   "source": [
    "early_stopping_cb = keras.callbacks.EarlyStopping(patience=10,\n",
    "                                                 restore_best_weights=True)\n",
    "#patience number of epochs till which their is no imporvement and training should stop"
   ]
  },
  {
   "cell_type": "code",
   "execution_count": 47,
   "metadata": {},
   "outputs": [
    {
     "name": "stdout",
     "output_type": "stream",
     "text": [
      "Epoch 1/200\n",
      "363/363 [==============================] - 1s 2ms/step - loss: 1.8866 - val_loss: 0.7126\n",
      "Epoch 2/200\n",
      "363/363 [==============================] - 1s 2ms/step - loss: 0.6577 - val_loss: 0.6880\n",
      "Epoch 3/200\n",
      "363/363 [==============================] - 1s 2ms/step - loss: 0.5934 - val_loss: 0.5803\n",
      "Epoch 4/200\n",
      "363/363 [==============================] - 1s 2ms/step - loss: 0.5557 - val_loss: 0.5166\n",
      "Epoch 5/200\n",
      "363/363 [==============================] - 1s 2ms/step - loss: 0.5272 - val_loss: 0.4895\n",
      "Epoch 6/200\n",
      "363/363 [==============================] - 1s 2ms/step - loss: 0.5033 - val_loss: 0.4951\n",
      "Epoch 7/200\n",
      "363/363 [==============================] - 1s 2ms/step - loss: 0.4854 - val_loss: 0.4861\n",
      "Epoch 8/200\n",
      "363/363 [==============================] - 1s 2ms/step - loss: 0.4709 - val_loss: 0.4554\n",
      "Epoch 9/200\n",
      "363/363 [==============================] - 1s 2ms/step - loss: 0.4578 - val_loss: 0.4413\n",
      "Epoch 10/200\n",
      "363/363 [==============================] - 1s 2ms/step - loss: 0.4474 - val_loss: 0.4379\n",
      "Epoch 11/200\n",
      "363/363 [==============================] - 1s 2ms/step - loss: 0.4393 - val_loss: 0.4396\n",
      "Epoch 12/200\n",
      "363/363 [==============================] - 1s 2ms/step - loss: 0.4318 - val_loss: 0.4507\n",
      "Epoch 13/200\n",
      "363/363 [==============================] - 1s 2ms/step - loss: 0.4261 - val_loss: 0.3997\n",
      "Epoch 14/200\n",
      "363/363 [==============================] - 1s 2ms/step - loss: 0.4202 - val_loss: 0.3956\n",
      "Epoch 15/200\n",
      "363/363 [==============================] - 1s 2ms/step - loss: 0.4155 - val_loss: 0.3916\n",
      "Epoch 16/200\n",
      "363/363 [==============================] - 1s 2ms/step - loss: 0.4112 - val_loss: 0.3937\n",
      "Epoch 17/200\n",
      "363/363 [==============================] - 1s 2ms/step - loss: 0.4077 - val_loss: 0.3809\n",
      "Epoch 18/200\n",
      "363/363 [==============================] - 1s 2ms/step - loss: 0.4040 - val_loss: 0.3793\n",
      "Epoch 19/200\n",
      "363/363 [==============================] - 1s 2ms/step - loss: 0.4004 - val_loss: 0.3850\n",
      "Epoch 20/200\n",
      "363/363 [==============================] - 1s 2ms/step - loss: 0.3980 - val_loss: 0.3809\n",
      "Epoch 21/200\n",
      "363/363 [==============================] - 1s 2ms/step - loss: 0.3949 - val_loss: 0.3701\n",
      "Epoch 22/200\n",
      "363/363 [==============================] - 1s 2ms/step - loss: 0.3924 - val_loss: 0.3781\n",
      "Epoch 23/200\n",
      "363/363 [==============================] - 1s 2ms/step - loss: 0.3898 - val_loss: 0.3650\n",
      "Epoch 24/200\n",
      "363/363 [==============================] - 1s 2ms/step - loss: 0.3874 - val_loss: 0.3655\n",
      "Epoch 25/200\n",
      "363/363 [==============================] - 1s 2ms/step - loss: 0.3851 - val_loss: 0.3611\n",
      "Epoch 26/200\n",
      "363/363 [==============================] - 1s 2ms/step - loss: 0.3829 - val_loss: 0.3626\n",
      "Epoch 27/200\n",
      "363/363 [==============================] - 1s 2ms/step - loss: 0.3809 - val_loss: 0.3564\n",
      "Epoch 28/200\n",
      "363/363 [==============================] - 1s 2ms/step - loss: 0.3788 - val_loss: 0.3579\n",
      "Epoch 29/200\n",
      "363/363 [==============================] - 1s 2ms/step - loss: 0.3769 - val_loss: 0.3561\n",
      "Epoch 30/200\n",
      "363/363 [==============================] - 1s 2ms/step - loss: 0.3750 - val_loss: 0.3548\n",
      "Epoch 31/200\n",
      "363/363 [==============================] - 1s 2ms/step - loss: 0.3730 - val_loss: 0.3502\n",
      "Epoch 32/200\n",
      "363/363 [==============================] - 1s 2ms/step - loss: 0.3714 - val_loss: 0.3642\n",
      "Epoch 33/200\n",
      "363/363 [==============================] - 1s 2ms/step - loss: 0.3701 - val_loss: 0.3468\n",
      "Epoch 34/200\n",
      "363/363 [==============================] - 1s 2ms/step - loss: 0.3685 - val_loss: 0.3474\n",
      "Epoch 35/200\n",
      "363/363 [==============================] - 1s 2ms/step - loss: 0.3672 - val_loss: 0.3624\n",
      "Epoch 36/200\n",
      "363/363 [==============================] - 1s 2ms/step - loss: 0.3660 - val_loss: 0.3438\n",
      "Epoch 37/200\n",
      "363/363 [==============================] - 1s 2ms/step - loss: 0.3647 - val_loss: 0.3611\n",
      "Epoch 38/200\n",
      "363/363 [==============================] - 1s 2ms/step - loss: 0.3636 - val_loss: 0.3459\n",
      "Epoch 39/200\n",
      "363/363 [==============================] - 1s 2ms/step - loss: 0.3624 - val_loss: 0.3492\n",
      "Epoch 40/200\n",
      "363/363 [==============================] - 1s 2ms/step - loss: 0.3613 - val_loss: 0.3433\n",
      "Epoch 41/200\n",
      "363/363 [==============================] - 1s 2ms/step - loss: 0.3602 - val_loss: 0.3556\n",
      "Epoch 42/200\n",
      "363/363 [==============================] - 1s 2ms/step - loss: 0.3593 - val_loss: 0.3483\n",
      "Epoch 43/200\n",
      "363/363 [==============================] - 1s 2ms/step - loss: 0.3580 - val_loss: 0.3685\n",
      "Epoch 44/200\n",
      "363/363 [==============================] - 1s 2ms/step - loss: 0.3573 - val_loss: 0.3604\n",
      "Epoch 45/200\n",
      "363/363 [==============================] - 1s 2ms/step - loss: 0.3564 - val_loss: 0.3399\n",
      "Epoch 46/200\n",
      "363/363 [==============================] - 1s 2ms/step - loss: 0.3552 - val_loss: 0.3506\n",
      "Epoch 47/200\n",
      "363/363 [==============================] - 1s 2ms/step - loss: 0.3547 - val_loss: 0.3481\n",
      "Epoch 48/200\n",
      "363/363 [==============================] - 1s 2ms/step - loss: 0.3538 - val_loss: 0.3663\n",
      "Epoch 49/200\n",
      "363/363 [==============================] - 1s 2ms/step - loss: 0.3531 - val_loss: 0.3355\n",
      "Epoch 50/200\n",
      "363/363 [==============================] - 1s 2ms/step - loss: 0.3523 - val_loss: 0.3324\n",
      "Epoch 51/200\n",
      "363/363 [==============================] - 1s 2ms/step - loss: 0.3516 - val_loss: 0.3465\n",
      "Epoch 52/200\n",
      "363/363 [==============================] - 1s 2ms/step - loss: 0.3509 - val_loss: 0.3309\n",
      "Epoch 53/200\n",
      "363/363 [==============================] - 1s 2ms/step - loss: 0.3503 - val_loss: 0.3830\n",
      "Epoch 54/200\n",
      "363/363 [==============================] - 1s 2ms/step - loss: 0.3496 - val_loss: 0.3302\n",
      "Epoch 55/200\n",
      "363/363 [==============================] - 1s 2ms/step - loss: 0.3491 - val_loss: 0.3534\n",
      "Epoch 56/200\n",
      "363/363 [==============================] - 1s 2ms/step - loss: 0.3484 - val_loss: 0.3289\n",
      "Epoch 57/200\n",
      "363/363 [==============================] - 1s 2ms/step - loss: 0.3477 - val_loss: 0.3282\n",
      "Epoch 58/200\n",
      "363/363 [==============================] - 1s 2ms/step - loss: 0.3471 - val_loss: 0.3723\n",
      "Epoch 59/200\n",
      "363/363 [==============================] - 1s 2ms/step - loss: 0.3468 - val_loss: 0.3351\n",
      "Epoch 60/200\n",
      "363/363 [==============================] - 1s 2ms/step - loss: 0.3461 - val_loss: 0.3514\n",
      "Epoch 61/200\n",
      "363/363 [==============================] - 1s 2ms/step - loss: 0.3453 - val_loss: 0.3523\n",
      "Epoch 62/200\n",
      "363/363 [==============================] - 1s 2ms/step - loss: 0.3451 - val_loss: 0.3451\n",
      "Epoch 63/200\n",
      "363/363 [==============================] - 1s 2ms/step - loss: 0.3441 - val_loss: 0.3341\n",
      "Epoch 64/200\n",
      "363/363 [==============================] - 1s 1ms/step - loss: 0.3440 - val_loss: 0.3251\n",
      "Epoch 65/200\n",
      "363/363 [==============================] - 1s 2ms/step - loss: 0.3433 - val_loss: 0.3380\n",
      "Epoch 66/200\n",
      "363/363 [==============================] - 1s 2ms/step - loss: 0.3429 - val_loss: 0.3288\n",
      "Epoch 67/200\n",
      "363/363 [==============================] - 1s 2ms/step - loss: 0.3421 - val_loss: 0.3591\n",
      "Epoch 68/200\n",
      "363/363 [==============================] - 1s 1ms/step - loss: 0.3419 - val_loss: 0.3313\n",
      "Epoch 69/200\n",
      "363/363 [==============================] - 1s 2ms/step - loss: 0.3414 - val_loss: 0.3371\n",
      "Epoch 70/200\n",
      "363/363 [==============================] - 1s 2ms/step - loss: 0.3408 - val_loss: 0.3565\n",
      "Epoch 71/200\n",
      "363/363 [==============================] - 1s 2ms/step - loss: 0.3404 - val_loss: 0.3607\n",
      "Epoch 72/200\n",
      "363/363 [==============================] - 1s 1ms/step - loss: 0.3399 - val_loss: 0.3318\n",
      "Epoch 73/200\n",
      "363/363 [==============================] - 1s 1ms/step - loss: 0.3393 - val_loss: 0.3239\n",
      "Epoch 74/200\n",
      "363/363 [==============================] - 1s 2ms/step - loss: 0.3391 - val_loss: 0.3839\n",
      "Epoch 75/200\n",
      "363/363 [==============================] - 1s 2ms/step - loss: 0.3387 - val_loss: 0.3286\n",
      "Epoch 76/200\n",
      "363/363 [==============================] - 1s 2ms/step - loss: 0.3382 - val_loss: 0.3464\n",
      "Epoch 77/200\n",
      "363/363 [==============================] - 1s 2ms/step - loss: 0.3377 - val_loss: 0.3490\n",
      "Epoch 78/200\n",
      "363/363 [==============================] - 1s 2ms/step - loss: 0.3374 - val_loss: 0.3470\n",
      "Epoch 79/200\n",
      "363/363 [==============================] - 1s 2ms/step - loss: 0.3370 - val_loss: 0.3401\n",
      "Epoch 80/200\n",
      "363/363 [==============================] - 1s 2ms/step - loss: 0.3366 - val_loss: 0.3387\n",
      "Epoch 81/200\n",
      "363/363 [==============================] - 1s 2ms/step - loss: 0.3361 - val_loss: 0.3321\n",
      "Epoch 82/200\n",
      "363/363 [==============================] - 1s 2ms/step - loss: 0.3357 - val_loss: 0.3192\n",
      "Epoch 83/200\n",
      "363/363 [==============================] - 1s 2ms/step - loss: 0.3354 - val_loss: 0.3296\n",
      "Epoch 84/200\n",
      "363/363 [==============================] - 1s 2ms/step - loss: 0.3349 - val_loss: 0.3709\n",
      "Epoch 85/200\n",
      "363/363 [==============================] - 1s 2ms/step - loss: 0.3346 - val_loss: 0.3211\n",
      "Epoch 86/200\n",
      "363/363 [==============================] - 1s 2ms/step - loss: 0.3344 - val_loss: 0.3182\n",
      "Epoch 87/200\n",
      "363/363 [==============================] - 1s 2ms/step - loss: 0.3340 - val_loss: 0.3572\n",
      "Epoch 88/200\n",
      "363/363 [==============================] - 1s 2ms/step - loss: 0.3334 - val_loss: 0.3315\n",
      "Epoch 89/200\n",
      "363/363 [==============================] - 1s 2ms/step - loss: 0.3329 - val_loss: 0.3646\n",
      "Epoch 90/200\n",
      "363/363 [==============================] - 1s 2ms/step - loss: 0.3330 - val_loss: 0.3457\n",
      "Epoch 91/200\n",
      "363/363 [==============================] - 1s 2ms/step - loss: 0.3326 - val_loss: 0.3253\n",
      "Epoch 92/200\n",
      "363/363 [==============================] - 1s 2ms/step - loss: 0.3320 - val_loss: 0.3464\n",
      "Epoch 93/200\n",
      "363/363 [==============================] - 1s 2ms/step - loss: 0.3318 - val_loss: 0.3197\n",
      "Epoch 94/200\n",
      "363/363 [==============================] - 1s 2ms/step - loss: 0.3314 - val_loss: 0.3430\n",
      "Epoch 95/200\n",
      "363/363 [==============================] - 1s 2ms/step - loss: 0.3310 - val_loss: 0.3414\n",
      "Epoch 96/200\n",
      "363/363 [==============================] - 1s 2ms/step - loss: 0.3306 - val_loss: 0.3266\n"
     ]
    }
   ],
   "source": [
    "history = model.fit(X_train, Y_train,\n",
    "                    epochs=200,\n",
    "                    validation_data=(X_valid, Y_valid),\n",
    "                    callbacks=[checkpoint_cb, early_stopping_cb]) "
   ]
  },
  {
   "cell_type": "code",
   "execution_count": 48,
   "metadata": {},
   "outputs": [],
   "source": [
    "model = keras.models.load_model(\"Sequential_Model_Housing_Price_Regressor/Early_Stop_Model.h5\")"
   ]
  },
  {
   "cell_type": "code",
   "execution_count": 50,
   "metadata": {},
   "outputs": [
    {
     "name": "stdout",
     "output_type": "stream",
     "text": [
      "162/162 [==============================] - 0s 1ms/step - loss: 0.3343\n",
      "0.3342573642730713\n"
     ]
    }
   ],
   "source": [
    "mse_test = model.evaluate(X_test, Y_test)\n",
    "print(mse_test)"
   ]
  }
 ],
 "metadata": {
  "kernelspec": {
   "display_name": "Python 3",
   "language": "python",
   "name": "python3"
  },
  "language_info": {
   "codemirror_mode": {
    "name": "ipython",
    "version": 3
   },
   "file_extension": ".py",
   "mimetype": "text/x-python",
   "name": "python",
   "nbconvert_exporter": "python",
   "pygments_lexer": "ipython3",
   "version": "3.8.8"
  }
 },
 "nbformat": 4,
 "nbformat_minor": 4
}
