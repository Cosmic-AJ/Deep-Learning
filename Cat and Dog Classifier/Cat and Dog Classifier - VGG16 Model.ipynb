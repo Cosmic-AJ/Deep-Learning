{
 "cells": [
  {
   "cell_type": "markdown",
   "metadata": {},
   "source": [
    "# Cat and Dog Classifier"
   ]
  },
  {
   "cell_type": "code",
   "execution_count": 2,
   "metadata": {
    "id": "tA6daibNF6jn"
   },
   "outputs": [],
   "source": [
    "import numpy as np\n",
    "import pandas as pd\n",
    "import tensorflow as tf\n",
    "from tensorflow import keras\n",
    "import os\n",
    "import matplotlib.pyplot as plt\n",
    "plt.style.use('dark_background')\n",
    "import warnings\n",
    "warnings.filterwarnings(action='ignore')"
   ]
  },
  {
   "cell_type": "code",
   "execution_count": 3,
   "metadata": {
    "id": "VHMQRfJwF6ju"
   },
   "outputs": [],
   "source": [
    "train_dir = r\"cats_and_dogs\\train\"\n",
    "validation_dir = r\"cats_and_dogs\\validation\"\n",
    "test_dir = r\"cats_and_dogs\\test\""
   ]
  },
  {
   "cell_type": "code",
   "execution_count": 4,
   "metadata": {
    "id": "l8yDmqFDF6jv"
   },
   "outputs": [],
   "source": [
    "from tensorflow.keras.preprocessing.image import ImageDataGenerator"
   ]
  },
  {
   "cell_type": "code",
   "execution_count": 5,
   "metadata": {
    "colab": {
     "base_uri": "https://localhost:8080/"
    },
    "id": "Ob8hmFuzF6jw",
    "outputId": "2156084d-28aa-4db9-e1d9-b84c09302305"
   },
   "outputs": [
    {
     "name": "stdout",
     "output_type": "stream",
     "text": [
      "Found 2000 images belonging to 2 classes.\n",
      "Found 1000 images belonging to 2 classes.\n"
     ]
    }
   ],
   "source": [
    "train_datagen = ImageDataGenerator(rescale=1./255,\n",
    "                                   rotation_range=40,\n",
    "                                   width_shift_range=0.2,\n",
    "                                   height_shift_range=0.2,\n",
    "                                   shear_range=0.2,\n",
    "                                   zoom_range=0.2,\n",
    "                                   horizontal_flip=True)\n",
    "\n",
    "test_datagen = ImageDataGenerator(rescale=1./255)\n",
    "\n",
    "train_generator = train_datagen.flow_from_directory(train_dir,\n",
    "                                                   target_size=(150, 150),\n",
    "                                                   batch_size=32,\n",
    "                                                   class_mode='binary')\n",
    "\n",
    "validation_generator = test_datagen.flow_from_directory( validation_dir,\n",
    "                                                   target_size=(150, 150),\n",
    "                                                   batch_size=32,\n",
    "                                                   class_mode='binary')"
   ]
  },
  {
   "cell_type": "code",
   "execution_count": 6,
   "metadata": {
    "id": "nfFtl8ShF6jy"
   },
   "outputs": [],
   "source": [
    "from tensorflow.keras.applications import VGG16"
   ]
  },
  {
   "cell_type": "code",
   "execution_count": 7,
   "metadata": {
    "colab": {
     "base_uri": "https://localhost:8080/"
    },
    "id": "mU2Z2xwRF6jy",
    "outputId": "a918e441-246f-4218-9c01-94dcff7e9ce6"
   },
   "outputs": [
    {
     "name": "stdout",
     "output_type": "stream",
     "text": [
      "Downloading data from https://storage.googleapis.com/tensorflow/keras-applications/vgg16/vgg16_weights_tf_dim_ordering_tf_kernels_notop.h5\n",
      "58892288/58889256 [==============================] - 1s 0us/step\n"
     ]
    }
   ],
   "source": [
    "conv_base = VGG16(weights='imagenet',\n",
    "                  include_top = False,\n",
    "                  input_shape=(150, 150, 3))"
   ]
  },
  {
   "cell_type": "code",
   "execution_count": 8,
   "metadata": {
    "colab": {
     "base_uri": "https://localhost:8080/"
    },
    "id": "AtDNN2lwF6j9",
    "outputId": "db4f3142-81e3-4716-8e89-756161a11a91"
   },
   "outputs": [
    {
     "name": "stdout",
     "output_type": "stream",
     "text": [
      "Model: \"vgg16\"\n",
      "_________________________________________________________________\n",
      "Layer (type)                 Output Shape              Param #   \n",
      "=================================================================\n",
      "input_1 (InputLayer)         [(None, 150, 150, 3)]     0         \n",
      "_________________________________________________________________\n",
      "block1_conv1 (Conv2D)        (None, 150, 150, 64)      1792      \n",
      "_________________________________________________________________\n",
      "block1_conv2 (Conv2D)        (None, 150, 150, 64)      36928     \n",
      "_________________________________________________________________\n",
      "block1_pool (MaxPooling2D)   (None, 75, 75, 64)        0         \n",
      "_________________________________________________________________\n",
      "block2_conv1 (Conv2D)        (None, 75, 75, 128)       73856     \n",
      "_________________________________________________________________\n",
      "block2_conv2 (Conv2D)        (None, 75, 75, 128)       147584    \n",
      "_________________________________________________________________\n",
      "block2_pool (MaxPooling2D)   (None, 37, 37, 128)       0         \n",
      "_________________________________________________________________\n",
      "block3_conv1 (Conv2D)        (None, 37, 37, 256)       295168    \n",
      "_________________________________________________________________\n",
      "block3_conv2 (Conv2D)        (None, 37, 37, 256)       590080    \n",
      "_________________________________________________________________\n",
      "block3_conv3 (Conv2D)        (None, 37, 37, 256)       590080    \n",
      "_________________________________________________________________\n",
      "block3_pool (MaxPooling2D)   (None, 18, 18, 256)       0         \n",
      "_________________________________________________________________\n",
      "block4_conv1 (Conv2D)        (None, 18, 18, 512)       1180160   \n",
      "_________________________________________________________________\n",
      "block4_conv2 (Conv2D)        (None, 18, 18, 512)       2359808   \n",
      "_________________________________________________________________\n",
      "block4_conv3 (Conv2D)        (None, 18, 18, 512)       2359808   \n",
      "_________________________________________________________________\n",
      "block4_pool (MaxPooling2D)   (None, 9, 9, 512)         0         \n",
      "_________________________________________________________________\n",
      "block5_conv1 (Conv2D)        (None, 9, 9, 512)         2359808   \n",
      "_________________________________________________________________\n",
      "block5_conv2 (Conv2D)        (None, 9, 9, 512)         2359808   \n",
      "_________________________________________________________________\n",
      "block5_conv3 (Conv2D)        (None, 9, 9, 512)         2359808   \n",
      "_________________________________________________________________\n",
      "block5_pool (MaxPooling2D)   (None, 4, 4, 512)         0         \n",
      "=================================================================\n",
      "Total params: 14,714,688\n",
      "Trainable params: 14,714,688\n",
      "Non-trainable params: 0\n",
      "_________________________________________________________________\n"
     ]
    }
   ],
   "source": [
    "conv_base.summary()"
   ]
  },
  {
   "cell_type": "code",
   "execution_count": 9,
   "metadata": {
    "id": "RrlTcyGlF6j-"
   },
   "outputs": [],
   "source": [
    "from tensorflow.keras import layers\n",
    "from tensorflow.keras import models"
   ]
  },
  {
   "cell_type": "code",
   "execution_count": 10,
   "metadata": {
    "id": "FKAjVuNcF6kA"
   },
   "outputs": [],
   "source": [
    "model = models.Sequential()\n",
    "\n",
    "model.add(conv_base)\n",
    "model.add(layers.Flatten())\n",
    "model.add(layers.Dense(256, activation='relu'))\n",
    "model.add(layers.Dense(1, activation='sigmoid'))"
   ]
  },
  {
   "cell_type": "code",
   "execution_count": 11,
   "metadata": {
    "colab": {
     "base_uri": "https://localhost:8080/"
    },
    "id": "KXK5kRBAF6kB",
    "outputId": "bbf00962-a7ee-4ad4-de63-9e7967e05ec6"
   },
   "outputs": [
    {
     "name": "stdout",
     "output_type": "stream",
     "text": [
      "Model: \"sequential\"\n",
      "_________________________________________________________________\n",
      "Layer (type)                 Output Shape              Param #   \n",
      "=================================================================\n",
      "vgg16 (Functional)           (None, 4, 4, 512)         14714688  \n",
      "_________________________________________________________________\n",
      "flatten (Flatten)            (None, 8192)              0         \n",
      "_________________________________________________________________\n",
      "dense (Dense)                (None, 256)               2097408   \n",
      "_________________________________________________________________\n",
      "dense_1 (Dense)              (None, 1)                 257       \n",
      "=================================================================\n",
      "Total params: 16,812,353\n",
      "Trainable params: 16,812,353\n",
      "Non-trainable params: 0\n",
      "_________________________________________________________________\n"
     ]
    }
   ],
   "source": [
    "model.summary()"
   ]
  },
  {
   "cell_type": "code",
   "execution_count": 12,
   "metadata": {
    "id": "fefRrRYzF6kC"
   },
   "outputs": [],
   "source": [
    "conv_base.trainable = False"
   ]
  },
  {
   "cell_type": "code",
   "execution_count": 13,
   "metadata": {
    "colab": {
     "base_uri": "https://localhost:8080/"
    },
    "id": "LyZ1T-_NF6kC",
    "outputId": "d9edc96e-0bf2-431c-f04a-0ef7cd7f5e95"
   },
   "outputs": [
    {
     "name": "stdout",
     "output_type": "stream",
     "text": [
      "Model: \"sequential\"\n",
      "_________________________________________________________________\n",
      "Layer (type)                 Output Shape              Param #   \n",
      "=================================================================\n",
      "vgg16 (Functional)           (None, 4, 4, 512)         14714688  \n",
      "_________________________________________________________________\n",
      "flatten (Flatten)            (None, 8192)              0         \n",
      "_________________________________________________________________\n",
      "dense (Dense)                (None, 256)               2097408   \n",
      "_________________________________________________________________\n",
      "dense_1 (Dense)              (None, 1)                 257       \n",
      "=================================================================\n",
      "Total params: 16,812,353\n",
      "Trainable params: 2,097,665\n",
      "Non-trainable params: 14,714,688\n",
      "_________________________________________________________________\n"
     ]
    }
   ],
   "source": [
    "model.summary()"
   ]
  },
  {
   "cell_type": "code",
   "execution_count": 14,
   "metadata": {
    "id": "XxmP2E9vF6kD"
   },
   "outputs": [],
   "source": [
    "model.compile(loss='binary_crossentropy',\n",
    "             optimizer = keras.optimizers.RMSprop(lr=2e-5),\n",
    "             metrics=['acc'])"
   ]
  },
  {
   "cell_type": "code",
   "execution_count": 15,
   "metadata": {
    "id": "yUEd4w7OF6kD"
   },
   "outputs": [],
   "source": [
    "checkpoint_cb = keras.callbacks.ModelCheckpoint('Model-{epoch:02d}.h5')"
   ]
  },
  {
   "cell_type": "code",
   "execution_count": 16,
   "metadata": {
    "colab": {
     "base_uri": "https://localhost:8080/"
    },
    "id": "1b2QbnkqF6kE",
    "outputId": "0bfa9804-e255-4822-a952-d0d766cfc9ca"
   },
   "outputs": [
    {
     "name": "stdout",
     "output_type": "stream",
     "text": [
      "Epoch 1/30\n",
      "63/63 [==============================] - 962s 15s/step - loss: 0.6230 - acc: 0.6620 - val_loss: 0.4873 - val_acc: 0.8240\n",
      "Epoch 2/30\n",
      "63/63 [==============================] - 20s 310ms/step - loss: 0.5116 - acc: 0.7605 - val_loss: 0.4113 - val_acc: 0.8410\n",
      "Epoch 3/30\n",
      "63/63 [==============================] - 19s 308ms/step - loss: 0.4660 - acc: 0.7955 - val_loss: 0.3612 - val_acc: 0.8600\n",
      "Epoch 4/30\n",
      "63/63 [==============================] - 20s 310ms/step - loss: 0.4297 - acc: 0.8115 - val_loss: 0.3338 - val_acc: 0.8720\n",
      "Epoch 5/30\n",
      "63/63 [==============================] - 20s 310ms/step - loss: 0.4083 - acc: 0.8270 - val_loss: 0.3085 - val_acc: 0.8820\n",
      "Epoch 6/30\n",
      "63/63 [==============================] - 19s 308ms/step - loss: 0.3858 - acc: 0.8315 - val_loss: 0.2999 - val_acc: 0.8740\n",
      "Epoch 7/30\n",
      "63/63 [==============================] - 19s 308ms/step - loss: 0.3889 - acc: 0.8250 - val_loss: 0.2879 - val_acc: 0.8880\n",
      "Epoch 8/30\n",
      "63/63 [==============================] - 19s 304ms/step - loss: 0.3601 - acc: 0.8490 - val_loss: 0.2766 - val_acc: 0.8890\n",
      "Epoch 9/30\n",
      "63/63 [==============================] - 19s 308ms/step - loss: 0.3621 - acc: 0.8395 - val_loss: 0.2726 - val_acc: 0.8880\n",
      "Epoch 10/30\n",
      "63/63 [==============================] - 19s 308ms/step - loss: 0.3424 - acc: 0.8520 - val_loss: 0.2671 - val_acc: 0.8900\n",
      "Epoch 11/30\n",
      "63/63 [==============================] - 19s 307ms/step - loss: 0.3450 - acc: 0.8545 - val_loss: 0.2639 - val_acc: 0.8960\n",
      "Epoch 12/30\n",
      "63/63 [==============================] - 19s 307ms/step - loss: 0.3361 - acc: 0.8570 - val_loss: 0.2614 - val_acc: 0.8930\n",
      "Epoch 13/30\n",
      "63/63 [==============================] - 19s 308ms/step - loss: 0.3317 - acc: 0.8535 - val_loss: 0.2581 - val_acc: 0.8880\n",
      "Epoch 14/30\n",
      "63/63 [==============================] - 19s 305ms/step - loss: 0.3372 - acc: 0.8525 - val_loss: 0.2557 - val_acc: 0.8950\n",
      "Epoch 15/30\n",
      "63/63 [==============================] - 19s 303ms/step - loss: 0.3233 - acc: 0.8595 - val_loss: 0.2523 - val_acc: 0.8940\n",
      "Epoch 16/30\n",
      "63/63 [==============================] - 19s 309ms/step - loss: 0.3187 - acc: 0.8620 - val_loss: 0.2500 - val_acc: 0.9000\n",
      "Epoch 17/30\n",
      "63/63 [==============================] - 20s 317ms/step - loss: 0.3114 - acc: 0.8665 - val_loss: 0.2485 - val_acc: 0.9040\n",
      "Epoch 18/30\n",
      "63/63 [==============================] - 20s 320ms/step - loss: 0.3232 - acc: 0.8540 - val_loss: 0.2515 - val_acc: 0.8980\n",
      "Epoch 19/30\n",
      "63/63 [==============================] - 20s 311ms/step - loss: 0.3128 - acc: 0.8640 - val_loss: 0.2475 - val_acc: 0.9010\n",
      "Epoch 20/30\n",
      "63/63 [==============================] - 19s 309ms/step - loss: 0.3194 - acc: 0.8605 - val_loss: 0.2476 - val_acc: 0.8980\n",
      "Epoch 21/30\n",
      "63/63 [==============================] - 19s 310ms/step - loss: 0.3142 - acc: 0.8610 - val_loss: 0.2456 - val_acc: 0.9030\n",
      "Epoch 22/30\n",
      "63/63 [==============================] - 20s 312ms/step - loss: 0.3080 - acc: 0.8660 - val_loss: 0.2487 - val_acc: 0.8950\n",
      "Epoch 23/30\n",
      "63/63 [==============================] - 19s 310ms/step - loss: 0.2991 - acc: 0.8675 - val_loss: 0.2435 - val_acc: 0.9010\n",
      "Epoch 24/30\n",
      "63/63 [==============================] - 19s 309ms/step - loss: 0.3027 - acc: 0.8685 - val_loss: 0.2418 - val_acc: 0.9000\n",
      "Epoch 25/30\n",
      "63/63 [==============================] - 19s 306ms/step - loss: 0.2986 - acc: 0.8710 - val_loss: 0.2426 - val_acc: 0.8990\n",
      "Epoch 26/30\n",
      "63/63 [==============================] - 19s 309ms/step - loss: 0.3030 - acc: 0.8715 - val_loss: 0.2405 - val_acc: 0.9010\n",
      "Epoch 27/30\n",
      "63/63 [==============================] - 19s 308ms/step - loss: 0.2953 - acc: 0.8800 - val_loss: 0.2413 - val_acc: 0.9010\n",
      "Epoch 28/30\n",
      "63/63 [==============================] - 19s 307ms/step - loss: 0.3050 - acc: 0.8660 - val_loss: 0.2443 - val_acc: 0.9000\n",
      "Epoch 29/30\n",
      "63/63 [==============================] - 20s 311ms/step - loss: 0.2951 - acc: 0.8765 - val_loss: 0.2393 - val_acc: 0.9070\n",
      "Epoch 30/30\n",
      "63/63 [==============================] - 19s 310ms/step - loss: 0.2923 - acc: 0.8755 - val_loss: 0.2407 - val_acc: 0.9040\n"
     ]
    }
   ],
   "source": [
    "model_history = model.fit(train_generator, epochs=30,\n",
    "                         steps_per_epoch=63,\n",
    "                         validation_data = validation_generator,\n",
    "                         validation_steps=32,\n",
    "                         callbacks=[checkpoint_cb])"
   ]
  },
  {
   "cell_type": "code",
   "execution_count": 17,
   "metadata": {
    "colab": {
     "base_uri": "https://localhost:8080/"
    },
    "id": "BYMyeEVWF6kF",
    "outputId": "5a860d33-4862-452c-9620-f3ae8a5bd387"
   },
   "outputs": [
    {
     "data": {
      "text/plain": [
       "{'epochs': 30, 'steps': 63, 'verbose': 1}"
      ]
     },
     "execution_count": 17,
     "metadata": {
      "tags": []
     },
     "output_type": "execute_result"
    }
   ],
   "source": [
    "model_history.params"
   ]
  },
  {
   "cell_type": "code",
   "execution_count": 18,
   "metadata": {
    "colab": {
     "base_uri": "https://localhost:8080/"
    },
    "id": "J3TlDTFdF6kF",
    "outputId": "3be28031-6fd7-45e2-c97d-b79527c843cb"
   },
   "outputs": [
    {
     "data": {
      "text/plain": [
       "{'acc': [0.6620000004768372,\n",
       "  0.7605000138282776,\n",
       "  0.7954999804496765,\n",
       "  0.8115000128746033,\n",
       "  0.8270000219345093,\n",
       "  0.8314999938011169,\n",
       "  0.824999988079071,\n",
       "  0.8489999771118164,\n",
       "  0.8395000100135803,\n",
       "  0.8519999980926514,\n",
       "  0.8544999957084656,\n",
       "  0.8569999933242798,\n",
       "  0.8535000085830688,\n",
       "  0.8525000214576721,\n",
       "  0.859499990940094,\n",
       "  0.8619999885559082,\n",
       "  0.8665000200271606,\n",
       "  0.8539999723434448,\n",
       "  0.8640000224113464,\n",
       "  0.8604999780654907,\n",
       "  0.8610000014305115,\n",
       "  0.8659999966621399,\n",
       "  0.8675000071525574,\n",
       "  0.8684999942779541,\n",
       "  0.8709999918937683,\n",
       "  0.8715000152587891,\n",
       "  0.8799999952316284,\n",
       "  0.8659999966621399,\n",
       "  0.8765000104904175,\n",
       "  0.8755000233650208],\n",
       " 'loss': [0.622991681098938,\n",
       "  0.5116379261016846,\n",
       "  0.4660397171974182,\n",
       "  0.42973068356513977,\n",
       "  0.4083348214626312,\n",
       "  0.3858451843261719,\n",
       "  0.38889238238334656,\n",
       "  0.3600735366344452,\n",
       "  0.36212456226348877,\n",
       "  0.3424054682254791,\n",
       "  0.34497344493865967,\n",
       "  0.33611875772476196,\n",
       "  0.33172252774238586,\n",
       "  0.3371744155883789,\n",
       "  0.3232513964176178,\n",
       "  0.3186839818954468,\n",
       "  0.3114030957221985,\n",
       "  0.3231925964355469,\n",
       "  0.31280481815338135,\n",
       "  0.3194335103034973,\n",
       "  0.3141900599002838,\n",
       "  0.3080494999885559,\n",
       "  0.2991470396518707,\n",
       "  0.30265089869499207,\n",
       "  0.29864490032196045,\n",
       "  0.3029748201370239,\n",
       "  0.2952578365802765,\n",
       "  0.3050282895565033,\n",
       "  0.2951385974884033,\n",
       "  0.29231128096580505],\n",
       " 'val_acc': [0.8240000009536743,\n",
       "  0.8410000205039978,\n",
       "  0.8600000143051147,\n",
       "  0.871999979019165,\n",
       "  0.8820000290870667,\n",
       "  0.8740000128746033,\n",
       "  0.8880000114440918,\n",
       "  0.8889999985694885,\n",
       "  0.8880000114440918,\n",
       "  0.8899999856948853,\n",
       "  0.8960000276565552,\n",
       "  0.8930000066757202,\n",
       "  0.8880000114440918,\n",
       "  0.8949999809265137,\n",
       "  0.8939999938011169,\n",
       "  0.8999999761581421,\n",
       "  0.9039999842643738,\n",
       "  0.8980000019073486,\n",
       "  0.9010000228881836,\n",
       "  0.8980000019073486,\n",
       "  0.902999997138977,\n",
       "  0.8949999809265137,\n",
       "  0.9010000228881836,\n",
       "  0.8999999761581421,\n",
       "  0.8989999890327454,\n",
       "  0.9010000228881836,\n",
       "  0.9010000228881836,\n",
       "  0.8999999761581421,\n",
       "  0.9070000052452087,\n",
       "  0.9039999842643738],\n",
       " 'val_loss': [0.48727405071258545,\n",
       "  0.41130945086479187,\n",
       "  0.3611646890640259,\n",
       "  0.33382025361061096,\n",
       "  0.3085344433784485,\n",
       "  0.29994821548461914,\n",
       "  0.2878669500350952,\n",
       "  0.27657559514045715,\n",
       "  0.27260246872901917,\n",
       "  0.2671040892601013,\n",
       "  0.2638825476169586,\n",
       "  0.26137691736221313,\n",
       "  0.25811484456062317,\n",
       "  0.2557046711444855,\n",
       "  0.2522957921028137,\n",
       "  0.2500104606151581,\n",
       "  0.24851810932159424,\n",
       "  0.25145286321640015,\n",
       "  0.24750874936580658,\n",
       "  0.24757950007915497,\n",
       "  0.24564053118228912,\n",
       "  0.24867576360702515,\n",
       "  0.24346919357776642,\n",
       "  0.24176812171936035,\n",
       "  0.24255795776844025,\n",
       "  0.24053631722927094,\n",
       "  0.24133995175361633,\n",
       "  0.24434874951839447,\n",
       "  0.239284947514534,\n",
       "  0.24071523547172546]}"
      ]
     },
     "execution_count": 18,
     "metadata": {
      "tags": []
     },
     "output_type": "execute_result"
    }
   ],
   "source": [
    "model_history.history"
   ]
  },
  {
   "cell_type": "code",
   "execution_count": 19,
   "metadata": {
    "colab": {
     "base_uri": "https://localhost:8080/",
     "height": 324
    },
    "id": "qN75TGPnF6kG",
    "outputId": "0a22935c-a403-4bac-d756-aab6d39478a4"
   },
   "outputs": [
    {
     "data": {
      "image/png": "[encoded data removed]",
      "text/plain": [
       "<Figure size 576x360 with 1 Axes>"
      ]
     },
     "metadata": {
      "tags": []
     },
     "output_type": "display_data"
    }
   ],
   "source": [
    "pd.DataFrame(model_history.history).plot(figsize=(8, 5))\n",
    "plt.grid(True)\n",
    "plt.gca().set_ylim(0, 1)\n",
    "plt.show()"
   ]
  },
  {
   "cell_type": "code",
   "execution_count": 20,
   "metadata": {
    "id": "kxHIDZReF6kG"
   },
   "outputs": [],
   "source": [
    "hist_df = pd.DataFrame(model_history.history)"
   ]
  },
  {
   "cell_type": "code",
   "execution_count": 21,
   "metadata": {
    "id": "cZLiWe0lF6kI"
   },
   "outputs": [],
   "source": [
    "hist_csv_file = 'VGG16 Model History.csv'\n",
    "with open(hist_csv_file, mode='w') as f:\n",
    "    hist_df.to_csv(f)"
   ]
  },
  {
   "cell_type": "code",
   "execution_count": 22,
   "metadata": {
    "colab": {
     "base_uri": "https://localhost:8080/"
    },
    "id": "nI5PW2fAF6kJ",
    "outputId": "ce9e0981-2f01-4558-f82f-5f4d10e774ae"
   },
   "outputs": [
    {
     "name": "stdout",
     "output_type": "stream",
     "text": [
      "Found 1000 images belonging to 2 classes.\n"
     ]
    }
   ],
   "source": [
    "test_generator = test_datagen.flow_from_directory( test_dir,\n",
    "                                                   target_size=(150, 150),\n",
    "                                                   batch_size=20,\n",
    "                                                   class_mode='binary')"
   ]
  },
  {
   "cell_type": "code",
   "execution_count": 23,
   "metadata": {
    "colab": {
     "base_uri": "https://localhost:8080/"
    },
    "id": "jB6kVS_3F6kJ",
    "outputId": "9297efb6-c437-4f2a-b1a2-0b809b0d2d88"
   },
   "outputs": [
    {
     "name": "stdout",
     "output_type": "stream",
     "text": [
      "50/50 [==============================] - 309s 6s/step - loss: 0.2456 - acc: 0.9050\n"
     ]
    },
    {
     "data": {
      "text/plain": [
       "[0.2456471025943756, 0.9049999713897705]"
      ]
     },
     "execution_count": 23,
     "metadata": {
      "tags": []
     },
     "output_type": "execute_result"
    }
   ],
   "source": [
    "model.evaluate(test_generator, steps=50)"
   ]
  }
 ],
 "metadata": {
  "accelerator": "GPU",
  "colab": {
   "name": "VGG16 Model - Cat and Dog Classifier.ipynb",
   "provenance": []
  },
  "kernelspec": {
   "display_name": "Python 3",
   "language": "python",
   "name": "python3"
  },
  "language_info": {
   "codemirror_mode": {
    "name": "ipython",
    "version": 3
   },
   "file_extension": ".py",
   "mimetype": "text/x-python",
   "name": "python",
   "nbconvert_exporter": "python",
   "pygments_lexer": "ipython3",
   "version": "3.8.8"
  }
 },
 "nbformat": 4,
 "nbformat_minor": 1
}
