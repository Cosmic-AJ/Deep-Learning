{
 "cells": [
  {
   "cell_type": "markdown",
   "metadata": {},
   "source": [
    "# Cat and Dog Classifier"
   ]
  },
  {
   "cell_type": "code",
   "execution_count": 18,
   "metadata": {},
   "outputs": [],
   "source": [
    "import numpy as np\n",
    "import pandas as pd\n",
    "import tensorflow as tf\n",
    "from tensorflow import keras\n",
    "import os\n",
    "import matplotlib.pyplot as plt\n",
    "plt.style.use('dark_background')\n",
    "import warnings\n",
    "warnings.filterwarnings(action='ignore')"
   ]
  },
  {
   "cell_type": "code",
   "execution_count": 19,
   "metadata": {},
   "outputs": [],
   "source": [
    "train_dir = r\"cats_and_dogs\\train\"\n",
    "validation_dir = r\"cats_and_dogs\\validation\"\n",
    "test_dir = r\"cats_and_dogs\\test\""
   ]
  },
  {
   "cell_type": "code",
   "execution_count": 20,
   "metadata": {},
   "outputs": [],
   "source": [
    "from tensorflow.keras.preprocessing.image import ImageDataGenerator"
   ]
  },
  {
   "cell_type": "markdown",
   "metadata": {},
   "source": [
    "# Normal Classification using CNN"
   ]
  },
  {
   "cell_type": "code",
   "execution_count": 21,
   "metadata": {},
   "outputs": [
    {
     "name": "stdout",
     "output_type": "stream",
     "text": [
      "Found 2000 images belonging to 2 classes.\n",
      "Found 1000 images belonging to 2 classes.\n"
     ]
    }
   ],
   "source": [
    "train_datagen = ImageDataGenerator(rescale=1./255)\n",
    "test_datagen = ImageDataGenerator(rescale=1./255)\n",
    "\n",
    "train_generator = train_datagen.flow_from_directory(train_dir,\n",
    "                                                   target_size=(150, 150),\n",
    "                                                   batch_size=20,\n",
    "                                                   class_mode='binary')\n",
    "\n",
    "validation_generator = test_datagen.flow_from_directory( validation_dir,\n",
    "                                                   target_size=(150, 150),\n",
    "                                                   batch_size=20,\n",
    "                                                   class_mode='binary')"
   ]
  },
  {
   "cell_type": "code",
   "execution_count": 22,
   "metadata": {},
   "outputs": [],
   "source": [
    "from tensorflow.keras import layers\n",
    "from tensorflow.keras import models"
   ]
  },
  {
   "cell_type": "code",
   "execution_count": 23,
   "metadata": {},
   "outputs": [],
   "source": [
    "model = models.Sequential()\n",
    "\n",
    "model.add(layers.Conv2D(32, (3, 3), activation='relu', \n",
    "                        input_shape=(150, 150, 3)))\n",
    "model.add(layers.MaxPooling2D((2, 2)))\n",
    "\n",
    "model.add(layers.Conv2D(64, (3, 3), activation='relu'))\n",
    "model.add(layers.MaxPooling2D((2, 2)))\n",
    "\n",
    "model.add(layers.Conv2D(128, (3, 3), activation='relu'))\n",
    "model.add(layers.MaxPooling2D((2, 2)))\n",
    "\n",
    "model.add(layers.Conv2D(128, (3, 3), activation='relu'))\n",
    "model.add(layers.MaxPooling2D((2, 2)))\n",
    "\n",
    "model.add(layers.Flatten())\n",
    "\n",
    "model.add(layers.Dense(512, activation='relu'))\n",
    "\n",
    "model.add(layers.Dense(1, activation='sigmoid'))"
   ]
  },
  {
   "cell_type": "code",
   "execution_count": 24,
   "metadata": {},
   "outputs": [
    {
     "name": "stdout",
     "output_type": "stream",
     "text": [
      "Model: \"sequential_1\"\n",
      "_________________________________________________________________\n",
      "Layer (type)                 Output Shape              Param #   \n",
      "=================================================================\n",
      "conv2d_4 (Conv2D)            (None, 148, 148, 32)      896       \n",
      "_________________________________________________________________\n",
      "max_pooling2d_4 (MaxPooling2 (None, 74, 74, 32)        0         \n",
      "_________________________________________________________________\n",
      "conv2d_5 (Conv2D)            (None, 72, 72, 64)        18496     \n",
      "_________________________________________________________________\n",
      "max_pooling2d_5 (MaxPooling2 (None, 36, 36, 64)        0         \n",
      "_________________________________________________________________\n",
      "conv2d_6 (Conv2D)            (None, 34, 34, 128)       73856     \n",
      "_________________________________________________________________\n",
      "max_pooling2d_6 (MaxPooling2 (None, 17, 17, 128)       0         \n",
      "_________________________________________________________________\n",
      "conv2d_7 (Conv2D)            (None, 15, 15, 128)       147584    \n",
      "_________________________________________________________________\n",
      "max_pooling2d_7 (MaxPooling2 (None, 7, 7, 128)         0         \n",
      "_________________________________________________________________\n",
      "flatten_1 (Flatten)          (None, 6272)              0         \n",
      "_________________________________________________________________\n",
      "dense_2 (Dense)              (None, 512)               3211776   \n",
      "_________________________________________________________________\n",
      "dense_3 (Dense)              (None, 1)                 513       \n",
      "=================================================================\n",
      "Total params: 3,453,121\n",
      "Trainable params: 3,453,121\n",
      "Non-trainable params: 0\n",
      "_________________________________________________________________\n"
     ]
    }
   ],
   "source": [
    "model.summary()"
   ]
  },
  {
   "cell_type": "code",
   "execution_count": 25,
   "metadata": {},
   "outputs": [
    {
     "data": {
      "image/png": "[encoded data removed]",
      "text/plain": [
       "<IPython.core.display.Image object>"
      ]
     },
     "execution_count": 25,
     "metadata": {},
     "output_type": "execute_result"
    }
   ],
   "source": [
    "import pydot\n",
    "keras.utils.plot_model(model)"
   ]
  },
  {
   "cell_type": "code",
   "execution_count": 26,
   "metadata": {},
   "outputs": [],
   "source": [
    "model.compile(loss='binary_crossentropy',\n",
    "             optimizer = keras.optimizers.RMSprop(lr=1e-4),\n",
    "             metrics=['acc'])"
   ]
  },
  {
   "cell_type": "code",
   "execution_count": 27,
   "metadata": {},
   "outputs": [
    {
     "name": "stdout",
     "output_type": "stream",
     "text": [
      "WARNING:tensorflow:From <ipython-input-27-cedb8e3402b7>:1: Model.fit_generator (from tensorflow.python.keras.engine.training) is deprecated and will be removed in a future version.\n",
      "Instructions for updating:\n",
      "Please use Model.fit, which supports generators.\n",
      "Epoch 1/20\n",
      "100/100 [==============================] - 77s 771ms/step - loss: 0.6950 - acc: 0.5200 - val_loss: 0.6839 - val_acc: 0.5770\n",
      "Epoch 2/20\n",
      "100/100 [==============================] - 118s 1s/step - loss: 0.6648 - acc: 0.6025 - val_loss: 0.6509 - val_acc: 0.6030\n",
      "Epoch 3/20\n",
      "100/100 [==============================] - 143s 1s/step - loss: 0.6204 - acc: 0.6575 - val_loss: 0.6565 - val_acc: 0.5870\n",
      "Epoch 4/20\n",
      "100/100 [==============================] - 98s 983ms/step - loss: 0.5759 - acc: 0.6910 - val_loss: 0.5981 - val_acc: 0.6760\n",
      "Epoch 5/20\n",
      "100/100 [==============================] - 112s 1s/step - loss: 0.5478 - acc: 0.7225 - val_loss: 0.6102 - val_acc: 0.6640\n",
      "Epoch 6/20\n",
      "100/100 [==============================] - 422s 4s/step - loss: 0.5299 - acc: 0.7360 - val_loss: 0.5787 - val_acc: 0.6770\n",
      "Epoch 7/20\n",
      "100/100 [==============================] - 85s 849ms/step - loss: 0.4969 - acc: 0.7580 - val_loss: 0.5651 - val_acc: 0.6980\n",
      "Epoch 8/20\n",
      "100/100 [==============================] - 82s 824ms/step - loss: 0.4782 - acc: 0.7725 - val_loss: 0.5647 - val_acc: 0.7060\n",
      "Epoch 9/20\n",
      "100/100 [==============================] - 82s 821ms/step - loss: 0.4549 - acc: 0.7845 - val_loss: 0.5746 - val_acc: 0.7000\n",
      "Epoch 10/20\n",
      "100/100 [==============================] - 84s 845ms/step - loss: 0.4229 - acc: 0.8055 - val_loss: 0.5528 - val_acc: 0.7130\n",
      "Epoch 11/20\n",
      "100/100 [==============================] - 83s 835ms/step - loss: 0.4057 - acc: 0.8170 - val_loss: 0.5572 - val_acc: 0.7120\n",
      "Epoch 12/20\n",
      "100/100 [==============================] - 75s 752ms/step - loss: 0.3778 - acc: 0.8385 - val_loss: 0.5631 - val_acc: 0.7220\n",
      "Epoch 13/20\n",
      "100/100 [==============================] - 81s 805ms/step - loss: 0.3609 - acc: 0.8360 - val_loss: 0.6050 - val_acc: 0.7100\n",
      "Epoch 14/20\n",
      "100/100 [==============================] - 79s 789ms/step - loss: 0.3287 - acc: 0.8555 - val_loss: 0.5749 - val_acc: 0.7250\n",
      "Epoch 15/20\n",
      "100/100 [==============================] - 80s 803ms/step - loss: 0.3196 - acc: 0.8615 - val_loss: 0.5765 - val_acc: 0.7240\n",
      "Epoch 16/20\n",
      "100/100 [==============================] - 79s 787ms/step - loss: 0.2855 - acc: 0.8795 - val_loss: 0.5851 - val_acc: 0.7210\n",
      "Epoch 17/20\n",
      "100/100 [==============================] - 84s 838ms/step - loss: 0.2716 - acc: 0.8895 - val_loss: 0.6066 - val_acc: 0.7140\n",
      "Epoch 18/20\n",
      "100/100 [==============================] - 81s 805ms/step - loss: 0.2414 - acc: 0.9030 - val_loss: 0.6544 - val_acc: 0.7220\n",
      "Epoch 19/20\n",
      "100/100 [==============================] - 87s 874ms/step - loss: 0.2227 - acc: 0.9155 - val_loss: 0.6346 - val_acc: 0.7270\n",
      "Epoch 20/20\n",
      "100/100 [==============================] - 87s 874ms/step - loss: 0.2096 - acc: 0.9160 - val_loss: 0.6635 - val_acc: 0.7320\n"
     ]
    }
   ],
   "source": [
    "model_history = model.fit(train_generator, epochs=20,\n",
    "                         steps_per_epoch=100,\n",
    "                         validation_data = validation_generator,\n",
    "                         validation_steps=50)"
   ]
  },
  {
   "cell_type": "code",
   "execution_count": 28,
   "metadata": {},
   "outputs": [
    {
     "data": {
      "text/plain": [
       "{'verbose': 1, 'epochs': 20, 'steps': 100}"
      ]
     },
     "execution_count": 28,
     "metadata": {},
     "output_type": "execute_result"
    }
   ],
   "source": [
    "model_history.params"
   ]
  },
  {
   "cell_type": "code",
   "execution_count": 29,
   "metadata": {},
   "outputs": [
    {
     "data": {
      "text/plain": [
       "{'loss': [0.6950422525405884,\n",
       "  0.6648290157318115,\n",
       "  0.6203858852386475,\n",
       "  0.5759462714195251,\n",
       "  0.5477854013442993,\n",
       "  0.5299036502838135,\n",
       "  0.49692580103874207,\n",
       "  0.4782000482082367,\n",
       "  0.45488542318344116,\n",
       "  0.42286020517349243,\n",
       "  0.4057345986366272,\n",
       "  0.37780874967575073,\n",
       "  0.360933393239975,\n",
       "  0.32865574955940247,\n",
       "  0.31963300704956055,\n",
       "  0.28553035855293274,\n",
       "  0.2716374397277832,\n",
       "  0.2413972020149231,\n",
       "  0.22265663743019104,\n",
       "  0.20956338942050934],\n",
       " 'acc': [0.5199999809265137,\n",
       "  0.6025000214576721,\n",
       "  0.6575000286102295,\n",
       "  0.6909999847412109,\n",
       "  0.7225000262260437,\n",
       "  0.7360000014305115,\n",
       "  0.7580000162124634,\n",
       "  0.7724999785423279,\n",
       "  0.784500002861023,\n",
       "  0.8054999709129333,\n",
       "  0.8169999718666077,\n",
       "  0.8385000228881836,\n",
       "  0.8360000252723694,\n",
       "  0.8554999828338623,\n",
       "  0.8615000247955322,\n",
       "  0.8794999718666077,\n",
       "  0.8895000219345093,\n",
       "  0.902999997138977,\n",
       "  0.9154999852180481,\n",
       "  0.9160000085830688],\n",
       " 'val_loss': [0.6839200854301453,\n",
       "  0.6508697867393494,\n",
       "  0.6565367579460144,\n",
       "  0.598092794418335,\n",
       "  0.6102405786514282,\n",
       "  0.5786806344985962,\n",
       "  0.5650674104690552,\n",
       "  0.5647478103637695,\n",
       "  0.5746133923530579,\n",
       "  0.5528069138526917,\n",
       "  0.5571545362472534,\n",
       "  0.5630629062652588,\n",
       "  0.6049565672874451,\n",
       "  0.5748899579048157,\n",
       "  0.576463520526886,\n",
       "  0.585131824016571,\n",
       "  0.6066291332244873,\n",
       "  0.6543921828269958,\n",
       "  0.6346433758735657,\n",
       "  0.6634871959686279],\n",
       " 'val_acc': [0.5770000219345093,\n",
       "  0.6029999852180481,\n",
       "  0.5870000123977661,\n",
       "  0.6759999990463257,\n",
       "  0.6639999747276306,\n",
       "  0.6769999861717224,\n",
       "  0.6980000138282776,\n",
       "  0.7059999704360962,\n",
       "  0.699999988079071,\n",
       "  0.7129999995231628,\n",
       "  0.7120000123977661,\n",
       "  0.722000002861023,\n",
       "  0.7099999785423279,\n",
       "  0.7250000238418579,\n",
       "  0.7239999771118164,\n",
       "  0.7210000157356262,\n",
       "  0.7139999866485596,\n",
       "  0.722000002861023,\n",
       "  0.7269999980926514,\n",
       "  0.7319999933242798]}"
      ]
     },
     "execution_count": 29,
     "metadata": {},
     "output_type": "execute_result"
    }
   ],
   "source": [
    "model_history.history"
   ]
  },
  {
   "cell_type": "code",
   "execution_count": 30,
   "metadata": {},
   "outputs": [
    {
     "data": {
      "image/png": "[encoded data removed]",
      "text/plain": [
       "<Figure size 576x360 with 1 Axes>"
      ]
     },
     "metadata": {},
     "output_type": "display_data"
    }
   ],
   "source": [
    "pd.DataFrame(model_history.history).plot(figsize=(8, 5))\n",
    "plt.grid(True)\n",
    "plt.gca().set_ylim(0, 1)\n",
    "plt.show()"
   ]
  },
  {
   "cell_type": "code",
   "execution_count": 31,
   "metadata": {},
   "outputs": [],
   "source": [
    "model.save('CNN Sequential Model - Cat and Dog Normal Classifier.h5')"
   ]
  },
  {
   "cell_type": "code",
   "execution_count": 45,
   "metadata": {},
   "outputs": [],
   "source": [
    "del model\n",
    "keras.backend.clear_session()"
   ]
  }
 ],
 "metadata": {
  "kernelspec": {
   "display_name": "Python 3",
   "language": "python",
   "name": "python3"
  },
  "language_info": {
   "codemirror_mode": {
    "name": "ipython",
    "version": 3
   },
   "file_extension": ".py",
   "mimetype": "text/x-python",
   "name": "python",
   "nbconvert_exporter": "python",
   "pygments_lexer": "ipython3",
   "version": "3.8.8"
  }
 },
 "nbformat": 4,
 "nbformat_minor": 4
}
