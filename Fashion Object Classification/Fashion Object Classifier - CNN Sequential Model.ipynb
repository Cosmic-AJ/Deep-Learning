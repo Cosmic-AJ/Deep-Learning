{
 "cells": [
  {
   "cell_type": "markdown",
   "metadata": {},
   "source": [
    "# Fashion Object Classifier"
   ]
  },
  {
   "cell_type": "code",
   "execution_count": 1,
   "metadata": {},
   "outputs": [],
   "source": [
    "import numpy as np\n",
    "import pandas as pd\n",
    "import matplotlib.pyplot as plt\n",
    "%matplotlib inline\n",
    "plt.style.use('dark_background')\n",
    "import tensorflow as tf\n",
    "from tensorflow import keras"
   ]
  },
  {
   "cell_type": "code",
   "execution_count": 2,
   "metadata": {},
   "outputs": [
    {
     "data": {
      "text/plain": [
       "'2.3.0'"
      ]
     },
     "execution_count": 2,
     "metadata": {},
     "output_type": "execute_result"
    }
   ],
   "source": [
    "tf.__version__"
   ]
  },
  {
   "cell_type": "code",
   "execution_count": 3,
   "metadata": {},
   "outputs": [
    {
     "data": {
      "text/plain": [
       "'2.4.0'"
      ]
     },
     "execution_count": 3,
     "metadata": {},
     "output_type": "execute_result"
    }
   ],
   "source": [
    "keras.__version__"
   ]
  },
  {
   "cell_type": "code",
   "execution_count": 4,
   "metadata": {},
   "outputs": [
    {
     "name": "stderr",
     "output_type": "stream",
     "text": [
      "Using TensorFlow backend.\n"
     ]
    }
   ],
   "source": [
    "from keras.datasets import fashion_mnist"
   ]
  },
  {
   "cell_type": "code",
   "execution_count": 5,
   "metadata": {},
   "outputs": [],
   "source": [
    "(X_train_full, Y_train_full), (X_test, Y_test) = fashion_mnist.load_data()"
   ]
  },
  {
   "cell_type": "code",
   "execution_count": 6,
   "metadata": {},
   "outputs": [],
   "source": [
    "class_names = [\"T-shirt/top\", \"Trouser\", \"Pullover\", \"Dress\", \"Coat\",\n",
    "              \"Sandal\", \"Shirt\", \"Sweater\", \"Bag\", \"Ankle boot\"]"
   ]
  },
  {
   "cell_type": "code",
   "execution_count": 7,
   "metadata": {},
   "outputs": [],
   "source": [
    "X_train_full = X_train_full.reshape((60000, 28, 28, 1))\n",
    "X_test = X_test.reshape((10000, 28, 28, 1))"
   ]
  },
  {
   "cell_type": "code",
   "execution_count": 8,
   "metadata": {},
   "outputs": [],
   "source": [
    "X_train_n = X_train_full/255.\n",
    "X_test_n = X_test/255."
   ]
  },
  {
   "cell_type": "code",
   "execution_count": 9,
   "metadata": {},
   "outputs": [],
   "source": [
    "X_valid, X_train = X_train_n[:5000], X_train_n[5000:]\n",
    "Y_valid, Y_train = Y_train_full[:5000], Y_train_full[5000:]\n",
    "X_test = X_test_n"
   ]
  },
  {
   "cell_type": "code",
   "execution_count": 10,
   "metadata": {},
   "outputs": [],
   "source": [
    "np.random.seed(42)\n",
    "tf.random.set_seed(42)"
   ]
  },
  {
   "cell_type": "code",
   "execution_count": 11,
   "metadata": {},
   "outputs": [],
   "source": [
    "model = keras.models.Sequential()\n",
    "model.add(keras.layers.Conv2D(filters=32, kernel_size=(3, 3), strides=1, padding='valid', activation='relu',\n",
    "                             input_shape=(28, 28, 1)))\n",
    "model.add(keras.layers.MaxPooling2D((2, 2)))\n",
    "\n",
    "model.add(keras.layers.Flatten())\n",
    "model.add(keras.layers.Dense(300, activation=\"relu\"))\n",
    "model.add(keras.layers.Dense(100, activation=\"relu\"))\n",
    "model.add(keras.layers.Dense(10, activation=\"softmax\"))"
   ]
  },
  {
   "cell_type": "code",
   "execution_count": 12,
   "metadata": {},
   "outputs": [
    {
     "name": "stdout",
     "output_type": "stream",
     "text": [
      "Model: \"sequential\"\n",
      "_________________________________________________________________\n",
      "Layer (type)                 Output Shape              Param #   \n",
      "=================================================================\n",
      "conv2d (Conv2D)              (None, 26, 26, 32)        320       \n",
      "_________________________________________________________________\n",
      "max_pooling2d (MaxPooling2D) (None, 13, 13, 32)        0         \n",
      "_________________________________________________________________\n",
      "flatten (Flatten)            (None, 5408)              0         \n",
      "_________________________________________________________________\n",
      "dense (Dense)                (None, 300)               1622700   \n",
      "_________________________________________________________________\n",
      "dense_1 (Dense)              (None, 100)               30100     \n",
      "_________________________________________________________________\n",
      "dense_2 (Dense)              (None, 10)                1010      \n",
      "=================================================================\n",
      "Total params: 1,654,130\n",
      "Trainable params: 1,654,130\n",
      "Non-trainable params: 0\n",
      "_________________________________________________________________\n"
     ]
    }
   ],
   "source": [
    "model.summary()"
   ]
  },
  {
   "cell_type": "code",
   "execution_count": 13,
   "metadata": {},
   "outputs": [
    {
     "data": {
      "image/png": "[encoded data removed]",
      "text/plain": [
       "<IPython.core.display.Image object>"
      ]
     },
     "execution_count": 13,
     "metadata": {},
     "output_type": "execute_result"
    }
   ],
   "source": [
    "import pydot\n",
    "keras.utils.plot_model(model)"
   ]
  },
  {
   "cell_type": "code",
   "execution_count": 14,
   "metadata": {},
   "outputs": [],
   "source": [
    "model.compile(loss=\"sparse_categorical_crossentropy\",\n",
    "             optimizer=\"sgd\",\n",
    "             metrics=[\"accuracy\"])"
   ]
  },
  {
   "cell_type": "code",
   "execution_count": 15,
   "metadata": {},
   "outputs": [
    {
     "name": "stdout",
     "output_type": "stream",
     "text": [
      "Epoch 1/30\n",
      "860/860 [==============================] - 35s 41ms/step - loss: 0.8774 - accuracy: 0.6990 - val_loss: 0.7443 - val_accuracy: 0.7376\n",
      "Epoch 2/30\n",
      "860/860 [==============================] - 37s 43ms/step - loss: 0.5391 - accuracy: 0.8045 - val_loss: 0.4968 - val_accuracy: 0.8144\n",
      "Epoch 3/30\n",
      "860/860 [==============================] - 45s 52ms/step - loss: 0.4812 - accuracy: 0.8263 - val_loss: 0.9007 - val_accuracy: 0.7116\n",
      "Epoch 4/30\n",
      "860/860 [==============================] - 48s 56ms/step - loss: 0.4440 - accuracy: 0.8413 - val_loss: 0.4141 - val_accuracy: 0.8566\n",
      "Epoch 5/30\n",
      "860/860 [==============================] - 46s 54ms/step - loss: 0.4201 - accuracy: 0.8497 - val_loss: 0.4420 - val_accuracy: 0.8440\n",
      "Epoch 6/30\n",
      "860/860 [==============================] - 46s 54ms/step - loss: 0.3962 - accuracy: 0.8581 - val_loss: 0.3779 - val_accuracy: 0.8700\n",
      "Epoch 7/30\n",
      "860/860 [==============================] - 41s 48ms/step - loss: 0.3787 - accuracy: 0.8661 - val_loss: 0.4099 - val_accuracy: 0.8538\n",
      "Epoch 8/30\n",
      "860/860 [==============================] - 34s 40ms/step - loss: 0.3634 - accuracy: 0.8696 - val_loss: 0.5086 - val_accuracy: 0.8114\n",
      "Epoch 9/30\n",
      "860/860 [==============================] - 40s 46ms/step - loss: 0.3495 - accuracy: 0.8736 - val_loss: 0.3675 - val_accuracy: 0.8698\n",
      "Epoch 10/30\n",
      "860/860 [==============================] - 37s 43ms/step - loss: 0.3372 - accuracy: 0.8783 - val_loss: 0.3854 - val_accuracy: 0.8594\n",
      "Epoch 11/30\n",
      "860/860 [==============================] - 31s 36ms/step - loss: 0.3251 - accuracy: 0.8817 - val_loss: 0.3464 - val_accuracy: 0.8758\n",
      "Epoch 12/30\n",
      "860/860 [==============================] - 32s 37ms/step - loss: 0.3138 - accuracy: 0.8868 - val_loss: 0.3225 - val_accuracy: 0.8896\n",
      "Epoch 13/30\n",
      "860/860 [==============================] - 28s 33ms/step - loss: 0.3068 - accuracy: 0.8887 - val_loss: 0.3313 - val_accuracy: 0.8892\n",
      "Epoch 14/30\n",
      "860/860 [==============================] - 27s 31ms/step - loss: 0.2982 - accuracy: 0.8911 - val_loss: 0.3916 - val_accuracy: 0.8570\n",
      "Epoch 15/30\n",
      "860/860 [==============================] - 26s 30ms/step - loss: 0.2901 - accuracy: 0.8950 - val_loss: 0.3822 - val_accuracy: 0.8612\n",
      "Epoch 16/30\n",
      "860/860 [==============================] - 26s 31ms/step - loss: 0.2837 - accuracy: 0.8970 - val_loss: 0.2966 - val_accuracy: 0.8926\n",
      "Epoch 17/30\n",
      "860/860 [==============================] - 27s 32ms/step - loss: 0.2759 - accuracy: 0.8999 - val_loss: 0.4122 - val_accuracy: 0.8602\n",
      "Epoch 18/30\n",
      "860/860 [==============================] - 27s 32ms/step - loss: 0.2708 - accuracy: 0.9014 - val_loss: 0.3493 - val_accuracy: 0.8738\n",
      "Epoch 19/30\n",
      "860/860 [==============================] - 30s 35ms/step - loss: 0.2644 - accuracy: 0.9034 - val_loss: 0.3099 - val_accuracy: 0.8892\n",
      "Epoch 20/30\n",
      "860/860 [==============================] - 213s 247ms/step - loss: 0.2591 - accuracy: 0.9048 - val_loss: 0.3262 - val_accuracy: 0.8834\n",
      "Epoch 21/30\n",
      "860/860 [==============================] - 28s 32ms/step - loss: 0.2529 - accuracy: 0.9080 - val_loss: 0.2834 - val_accuracy: 0.9010\n",
      "Epoch 22/30\n",
      "860/860 [==============================] - 29s 34ms/step - loss: 0.2476 - accuracy: 0.9095 - val_loss: 0.2863 - val_accuracy: 0.8974\n",
      "Epoch 23/30\n",
      "860/860 [==============================] - 28s 32ms/step - loss: 0.2424 - accuracy: 0.9109 - val_loss: 0.2792 - val_accuracy: 0.9042\n",
      "Epoch 24/30\n",
      "860/860 [==============================] - 30s 35ms/step - loss: 0.2377 - accuracy: 0.9127 - val_loss: 0.2980 - val_accuracy: 0.8922\n",
      "Epoch 25/30\n",
      "860/860 [==============================] - 26s 31ms/step - loss: 0.2330 - accuracy: 0.9153 - val_loss: 0.2905 - val_accuracy: 0.8952\n",
      "Epoch 26/30\n",
      "860/860 [==============================] - 29s 33ms/step - loss: 0.2292 - accuracy: 0.9162 - val_loss: 0.2771 - val_accuracy: 0.9046\n",
      "Epoch 27/30\n",
      "860/860 [==============================] - 29s 34ms/step - loss: 0.2252 - accuracy: 0.9183 - val_loss: 0.2733 - val_accuracy: 0.8994\n",
      "Epoch 28/30\n",
      "860/860 [==============================] - 26s 30ms/step - loss: 0.2203 - accuracy: 0.9192 - val_loss: 0.3073 - val_accuracy: 0.8916\n",
      "Epoch 29/30\n",
      "860/860 [==============================] - 32s 37ms/step - loss: 0.2153 - accuracy: 0.9211 - val_loss: 0.2719 - val_accuracy: 0.9034\n",
      "Epoch 30/30\n",
      "860/860 [==============================] - 28s 32ms/step - loss: 0.2124 - accuracy: 0.9211 - val_loss: 0.2755 - val_accuracy: 0.9004\n"
     ]
    }
   ],
   "source": [
    "model_history = model.fit(X_train, Y_train,\n",
    "                         epochs=30, batch_size=64,\n",
    "                         validation_data=(X_valid, Y_valid))"
   ]
  },
  {
   "cell_type": "code",
   "execution_count": 16,
   "metadata": {},
   "outputs": [
    {
     "data": {
      "text/plain": [
       "{'verbose': 1, 'epochs': 30, 'steps': 860}"
      ]
     },
     "execution_count": 16,
     "metadata": {},
     "output_type": "execute_result"
    }
   ],
   "source": [
    "model_history.params"
   ]
  },
  {
   "cell_type": "code",
   "execution_count": 17,
   "metadata": {},
   "outputs": [
    {
     "data": {
      "text/plain": [
       "{'loss': [0.8774202466011047,\n",
       "  0.5391242504119873,\n",
       "  0.48124808073043823,\n",
       "  0.44402021169662476,\n",
       "  0.42010873556137085,\n",
       "  0.39615771174430847,\n",
       "  0.3787437975406647,\n",
       "  0.363400936126709,\n",
       "  0.34945055842399597,\n",
       "  0.337227463722229,\n",
       "  0.32507428526878357,\n",
       "  0.31380122900009155,\n",
       "  0.30683013796806335,\n",
       "  0.29816967248916626,\n",
       "  0.29008007049560547,\n",
       "  0.2836661636829376,\n",
       "  0.2758951783180237,\n",
       "  0.27084216475486755,\n",
       "  0.26441389322280884,\n",
       "  0.25905337929725647,\n",
       "  0.2529255151748657,\n",
       "  0.24762827157974243,\n",
       "  0.24241569638252258,\n",
       "  0.2377203106880188,\n",
       "  0.2329920083284378,\n",
       "  0.22924990952014923,\n",
       "  0.22515492141246796,\n",
       "  0.22030332684516907,\n",
       "  0.2153332680463791,\n",
       "  0.21241095662117004],\n",
       " 'accuracy': [0.6990000009536743,\n",
       "  0.8045091032981873,\n",
       "  0.8263454437255859,\n",
       "  0.8413272500038147,\n",
       "  0.8497454524040222,\n",
       "  0.8581091165542603,\n",
       "  0.8661272525787354,\n",
       "  0.8696181774139404,\n",
       "  0.8735818266868591,\n",
       "  0.8783090710639954,\n",
       "  0.881745457649231,\n",
       "  0.8867818117141724,\n",
       "  0.8887090682983398,\n",
       "  0.8910545706748962,\n",
       "  0.8950181603431702,\n",
       "  0.8970000147819519,\n",
       "  0.8998727202415466,\n",
       "  0.9014363884925842,\n",
       "  0.9034000039100647,\n",
       "  0.9047636389732361,\n",
       "  0.907981812953949,\n",
       "  0.9094727039337158,\n",
       "  0.9108909368515015,\n",
       "  0.9126545190811157,\n",
       "  0.915290892124176,\n",
       "  0.9161999821662903,\n",
       "  0.918254554271698,\n",
       "  0.9191636443138123,\n",
       "  0.9210727214813232,\n",
       "  0.9210909008979797],\n",
       " 'val_loss': [0.744300901889801,\n",
       "  0.496843546628952,\n",
       "  0.9006525278091431,\n",
       "  0.41414088010787964,\n",
       "  0.4420006275177002,\n",
       "  0.37786054611206055,\n",
       "  0.40989044308662415,\n",
       "  0.5085663199424744,\n",
       "  0.367484450340271,\n",
       "  0.38541707396507263,\n",
       "  0.3464198112487793,\n",
       "  0.3225182890892029,\n",
       "  0.33131861686706543,\n",
       "  0.391645610332489,\n",
       "  0.38215333223342896,\n",
       "  0.296634703874588,\n",
       "  0.4121742248535156,\n",
       "  0.3492673337459564,\n",
       "  0.30994927883148193,\n",
       "  0.326194703578949,\n",
       "  0.2833600640296936,\n",
       "  0.28628283739089966,\n",
       "  0.27919459342956543,\n",
       "  0.298043817281723,\n",
       "  0.29045385122299194,\n",
       "  0.2771287262439728,\n",
       "  0.2733215093612671,\n",
       "  0.3073420524597168,\n",
       "  0.2718966007232666,\n",
       "  0.2754764258861542],\n",
       " 'val_accuracy': [0.7376000285148621,\n",
       "  0.8144000172615051,\n",
       "  0.7116000056266785,\n",
       "  0.8565999865531921,\n",
       "  0.843999981880188,\n",
       "  0.8700000047683716,\n",
       "  0.8537999987602234,\n",
       "  0.8113999962806702,\n",
       "  0.8697999715805054,\n",
       "  0.8593999743461609,\n",
       "  0.8758000135421753,\n",
       "  0.8895999789237976,\n",
       "  0.88919997215271,\n",
       "  0.8569999933242798,\n",
       "  0.8611999750137329,\n",
       "  0.8925999999046326,\n",
       "  0.8601999878883362,\n",
       "  0.8737999796867371,\n",
       "  0.88919997215271,\n",
       "  0.883400022983551,\n",
       "  0.9010000228881836,\n",
       "  0.8974000215530396,\n",
       "  0.90420001745224,\n",
       "  0.8921999931335449,\n",
       "  0.8952000141143799,\n",
       "  0.9046000242233276,\n",
       "  0.899399995803833,\n",
       "  0.8916000127792358,\n",
       "  0.9034000039100647,\n",
       "  0.9003999829292297]}"
      ]
     },
     "execution_count": 17,
     "metadata": {},
     "output_type": "execute_result"
    }
   ],
   "source": [
    "model_history.history"
   ]
  },
  {
   "cell_type": "code",
   "execution_count": 18,
   "metadata": {},
   "outputs": [
    {
     "data": {
      "image/png": "[encoded data removed]",
      "text/plain": [
       "<Figure size 576x360 with 1 Axes>"
      ]
     },
     "metadata": {},
     "output_type": "display_data"
    }
   ],
   "source": [
    "import pandas as pd\n",
    "\n",
    "pd.DataFrame(model_history.history).plot(figsize=(8, 5))\n",
    "plt.gca().set_ylim(0, 1)\n",
    "plt.grid(True)\n",
    "plt.show()"
   ]
  },
  {
   "cell_type": "code",
   "execution_count": 20,
   "metadata": {},
   "outputs": [
    {
     "name": "stdout",
     "output_type": "stream",
     "text": [
      "313/313 [==============================] - 2s 5ms/step - loss: 0.2856 - accuracy: 0.8988\n"
     ]
    },
    {
     "data": {
      "text/plain": [
       "[0.2856121361255646, 0.8988000154495239]"
      ]
     },
     "execution_count": 20,
     "metadata": {},
     "output_type": "execute_result"
    }
   ],
   "source": [
    "model.evaluate(X_test, Y_test)"
   ]
  },
  {
   "cell_type": "code",
   "execution_count": 23,
   "metadata": {},
   "outputs": [],
   "source": [
    "x_new = X_test[:3]"
   ]
  },
  {
   "cell_type": "code",
   "execution_count": 24,
   "metadata": {},
   "outputs": [
    {
     "name": "stdout",
     "output_type": "stream",
     "text": [
      "WARNING:tensorflow:From <ipython-input-24-95de46adb07b>:1: Sequential.predict_classes (from tensorflow.python.keras.engine.sequential) is deprecated and will be removed after 2021-01-01.\n",
      "Instructions for updating:\n",
      "Please use instead:* `np.argmax(model.predict(x), axis=-1)`,   if your model does multi-class classification   (e.g. if it uses a `softmax` last-layer activation).* `(model.predict(x) > 0.5).astype(\"int32\")`,   if your model does binary classification   (e.g. if it uses a `sigmoid` last-layer activation).\n"
     ]
    }
   ],
   "source": [
    "y_pred = model.predict_classes(x_new)"
   ]
  },
  {
   "cell_type": "code",
   "execution_count": 25,
   "metadata": {},
   "outputs": [
    {
     "data": {
      "text/plain": [
       "array([9, 2, 1], dtype=int64)"
      ]
     },
     "execution_count": 25,
     "metadata": {},
     "output_type": "execute_result"
    }
   ],
   "source": [
    "y_pred"
   ]
  },
  {
   "cell_type": "code",
   "execution_count": 26,
   "metadata": {},
   "outputs": [
    {
     "data": {
      "text/plain": [
       "array([9, 2, 1], dtype=int64)"
      ]
     },
     "execution_count": 26,
     "metadata": {},
     "output_type": "execute_result"
    }
   ],
   "source": [
    "np.argmax(model.predict(x_new), axis=-1)"
   ]
  },
  {
   "cell_type": "code",
   "execution_count": 27,
   "metadata": {},
   "outputs": [
    {
     "data": {
      "text/plain": [
       "array(['Ankle boot', 'Pullover', 'Trouser'], dtype='<U11')"
      ]
     },
     "execution_count": 27,
     "metadata": {},
     "output_type": "execute_result"
    }
   ],
   "source": [
    "np.array(class_names)[y_pred]"
   ]
  },
  {
   "cell_type": "code",
   "execution_count": 29,
   "metadata": {},
   "outputs": [
    {
     "data": {
      "text/plain": [
       "array([9, 2, 1], dtype=uint8)"
      ]
     },
     "execution_count": 29,
     "metadata": {},
     "output_type": "execute_result"
    }
   ],
   "source": [
    "Y_test[:3]"
   ]
  },
  {
   "cell_type": "code",
   "execution_count": 30,
   "metadata": {},
   "outputs": [
    {
     "name": "stdout",
     "output_type": "stream",
     "text": [
      "AxesImage(54,36;334.8x217.44)\n"
     ]
    },
    {
     "data": {
      "image/png": "[encoded data removed]",
      "text/plain": [
       "<Figure size 432x288 with 1 Axes>"
      ]
     },
     "metadata": {},
     "output_type": "display_data"
    }
   ],
   "source": [
    "print(plt.imshow(X_test[0].reshape((28, 28))))"
   ]
  },
  {
   "cell_type": "markdown",
   "metadata": {},
   "source": [
    "## Pooling and Without Pooling"
   ]
  },
  {
   "cell_type": "code",
   "execution_count": 31,
   "metadata": {},
   "outputs": [],
   "source": [
    "del model"
   ]
  },
  {
   "cell_type": "code",
   "execution_count": 33,
   "metadata": {},
   "outputs": [],
   "source": [
    "keras.backend.clear_session()"
   ]
  },
  {
   "cell_type": "code",
   "execution_count": 34,
   "metadata": {},
   "outputs": [],
   "source": [
    "modela = keras.models.Sequential()\n",
    "modela.add(keras.layers.Conv2D(filters=32, kernel_size=(3, 3), strides=1, padding='valid', activation='relu',\n",
    "                             input_shape=(28, 28, 1)))\n",
    "modela.add(keras.layers.MaxPooling2D((2, 2)))\n",
    "\n",
    "modela.add(keras.layers.Flatten())\n",
    "modela.add(keras.layers.Dense(300, activation=\"relu\"))\n",
    "modela.add(keras.layers.Dense(100, activation=\"relu\"))\n",
    "modela.add(keras.layers.Dense(10, activation=\"softmax\"))"
   ]
  },
  {
   "cell_type": "code",
   "execution_count": 37,
   "metadata": {},
   "outputs": [],
   "source": [
    "modelb = keras.models.Sequential()\n",
    "modelb.add(keras.layers.Conv2D(filters=32, kernel_size=(3, 3), strides=1, padding='valid', activation='relu',\n",
    "                             input_shape=(28, 28, 1)))\n",
    "\n",
    "modelb.add(keras.layers.Flatten())\n",
    "modelb.add(keras.layers.Dense(300, activation=\"relu\"))\n",
    "modelb.add(keras.layers.Dense(100, activation=\"relu\"))\n",
    "modelb.add(keras.layers.Dense(10, activation=\"softmax\"))"
   ]
  },
  {
   "cell_type": "code",
   "execution_count": 35,
   "metadata": {},
   "outputs": [],
   "source": [
    "modela.compile(loss=\"sparse_categorical_crossentropy\",\n",
    "             optimizer=\"sgd\",\n",
    "             metrics=[\"accuracy\"])"
   ]
  },
  {
   "cell_type": "code",
   "execution_count": 38,
   "metadata": {},
   "outputs": [],
   "source": [
    "modelb.compile(loss=\"sparse_categorical_crossentropy\",\n",
    "             optimizer=\"sgd\",\n",
    "             metrics=[\"accuracy\"])"
   ]
  },
  {
   "cell_type": "code",
   "execution_count": 39,
   "metadata": {},
   "outputs": [
    {
     "name": "stdout",
     "output_type": "stream",
     "text": [
      "Epoch 1/10\n",
      "860/860 [==============================] - 28s 32ms/step - loss: 0.8468 - accuracy: 0.7084 - val_loss: 0.8046 - val_accuracy: 0.7044\n",
      "Epoch 2/10\n",
      "860/860 [==============================] - 27s 32ms/step - loss: 0.5358 - accuracy: 0.8062 - val_loss: 0.4992 - val_accuracy: 0.8080\n",
      "Epoch 3/10\n",
      "860/860 [==============================] - 29s 34ms/step - loss: 0.4790 - accuracy: 0.8269 - val_loss: 0.9725 - val_accuracy: 0.6954\n",
      "Epoch 4/10\n",
      "860/860 [==============================] - 30s 35ms/step - loss: 0.4426 - accuracy: 0.8420 - val_loss: 0.4150 - val_accuracy: 0.8558\n",
      "Epoch 5/10\n",
      "860/860 [==============================] - 28s 33ms/step - loss: 0.4189 - accuracy: 0.8493 - val_loss: 0.4326 - val_accuracy: 0.8464\n",
      "Epoch 6/10\n",
      "860/860 [==============================] - 29s 34ms/step - loss: 0.3955 - accuracy: 0.8578 - val_loss: 0.3784 - val_accuracy: 0.8678\n",
      "Epoch 7/10\n",
      "860/860 [==============================] - 30s 35ms/step - loss: 0.3781 - accuracy: 0.8652 - val_loss: 0.4063 - val_accuracy: 0.8540\n",
      "Epoch 8/10\n",
      "860/860 [==============================] - 29s 34ms/step - loss: 0.3632 - accuracy: 0.8692 - val_loss: 0.5024 - val_accuracy: 0.8154\n",
      "Epoch 9/10\n",
      "860/860 [==============================] - 27s 31ms/step - loss: 0.3493 - accuracy: 0.8736 - val_loss: 0.3556 - val_accuracy: 0.8710\n",
      "Epoch 10/10\n",
      "860/860 [==============================] - 30s 35ms/step - loss: 0.3373 - accuracy: 0.8787 - val_loss: 0.3954 - val_accuracy: 0.8532\n"
     ]
    }
   ],
   "source": [
    "modela_history = modela.fit(X_train, Y_train,\n",
    "                         epochs=10, batch_size=64,\n",
    "                         validation_data=(X_valid, Y_valid))"
   ]
  },
  {
   "cell_type": "code",
   "execution_count": 40,
   "metadata": {},
   "outputs": [
    {
     "name": "stdout",
     "output_type": "stream",
     "text": [
      "Epoch 1/10\n",
      "860/860 [==============================] - 48s 56ms/step - loss: 0.7403 - accuracy: 0.7455 - val_loss: 0.6989 - val_accuracy: 0.7572\n",
      "Epoch 2/10\n",
      "860/860 [==============================] - 51s 59ms/step - loss: 0.4956 - accuracy: 0.8213 - val_loss: 0.4629 - val_accuracy: 0.8246\n",
      "Epoch 3/10\n",
      "860/860 [==============================] - 49s 57ms/step - loss: 0.4433 - accuracy: 0.8393 - val_loss: 0.9842 - val_accuracy: 0.6924\n",
      "Epoch 4/10\n",
      "860/860 [==============================] - 54s 63ms/step - loss: 0.4099 - accuracy: 0.8520 - val_loss: 0.3891 - val_accuracy: 0.8624\n",
      "Epoch 5/10\n",
      "860/860 [==============================] - 54s 63ms/step - loss: 0.3883 - accuracy: 0.8595 - val_loss: 0.3870 - val_accuracy: 0.8602\n",
      "Epoch 6/10\n",
      "860/860 [==============================] - 49s 57ms/step - loss: 0.3669 - accuracy: 0.8666 - val_loss: 0.3679 - val_accuracy: 0.8678\n",
      "Epoch 7/10\n",
      "860/860 [==============================] - 51s 60ms/step - loss: 0.3532 - accuracy: 0.8715 - val_loss: 0.4019 - val_accuracy: 0.8530\n",
      "Epoch 8/10\n",
      "860/860 [==============================] - 51s 59ms/step - loss: 0.3401 - accuracy: 0.8762 - val_loss: 0.4231 - val_accuracy: 0.8382\n",
      "Epoch 9/10\n",
      "860/860 [==============================] - 49s 57ms/step - loss: 0.3296 - accuracy: 0.8800 - val_loss: 0.3596 - val_accuracy: 0.8652\n",
      "Epoch 10/10\n",
      "860/860 [==============================] - 49s 57ms/step - loss: 0.3192 - accuracy: 0.8835 - val_loss: 0.3960 - val_accuracy: 0.8482\n"
     ]
    }
   ],
   "source": [
    "modelb_history = modelb.fit(X_train, Y_train,\n",
    "                         epochs=10, batch_size=64,\n",
    "                         validation_data=(X_valid, Y_valid))"
   ]
  },
  {
   "cell_type": "code",
   "execution_count": 41,
   "metadata": {},
   "outputs": [
    {
     "data": {
      "image/png": "[encoded data removed]",
      "text/plain": [
       "<Figure size 576x360 with 1 Axes>"
      ]
     },
     "metadata": {},
     "output_type": "display_data"
    }
   ],
   "source": [
    "import pandas as pd\n",
    "\n",
    "pd.DataFrame(modela_history.history).plot(figsize=(8, 5))\n",
    "plt.gca().set_ylim(0, 1)\n",
    "plt.grid(True)\n",
    "plt.show()"
   ]
  },
  {
   "cell_type": "code",
   "execution_count": 42,
   "metadata": {},
   "outputs": [
    {
     "data": {
      "image/png": "[encoded data removed]",
      "text/plain": [
       "<Figure size 576x360 with 1 Axes>"
      ]
     },
     "metadata": {},
     "output_type": "display_data"
    }
   ],
   "source": [
    "import pandas as pd\n",
    "\n",
    "pd.DataFrame(modelb_history.history).plot(figsize=(8, 5))\n",
    "plt.gca().set_ylim(0, 1)\n",
    "plt.grid(True)\n",
    "plt.show()"
   ]
  },
  {
   "cell_type": "code",
   "execution_count": 43,
   "metadata": {},
   "outputs": [
    {
     "name": "stdout",
     "output_type": "stream",
     "text": [
      "313/313 [==============================] - 2s 5ms/step - loss: 0.4307 - accuracy: 0.8360\n"
     ]
    },
    {
     "data": {
      "text/plain": [
       "[0.43065574765205383, 0.8360000252723694]"
      ]
     },
     "execution_count": 43,
     "metadata": {},
     "output_type": "execute_result"
    }
   ],
   "source": [
    "modela.evaluate(X_test, Y_test)"
   ]
  },
  {
   "cell_type": "code",
   "execution_count": 44,
   "metadata": {},
   "outputs": [
    {
     "name": "stdout",
     "output_type": "stream",
     "text": [
      "313/313 [==============================] - 3s 10ms/step - loss: 0.4440 - accuracy: 0.8333\n"
     ]
    },
    {
     "data": {
      "text/plain": [
       "[0.4440024793148041, 0.833299994468689]"
      ]
     },
     "execution_count": 44,
     "metadata": {},
     "output_type": "execute_result"
    }
   ],
   "source": [
    "modelb.evaluate(X_test, Y_test)"
   ]
  }
 ],
 "metadata": {
  "kernelspec": {
   "display_name": "Python 3",
   "language": "python",
   "name": "python3"
  },
  "language_info": {
   "codemirror_mode": {
    "name": "ipython",
    "version": 3
   },
   "file_extension": ".py",
   "mimetype": "text/x-python",
   "name": "python",
   "nbconvert_exporter": "python",
   "pygments_lexer": "ipython3",
   "version": "3.8.8"
  }
 },
 "nbformat": 4,
 "nbformat_minor": 4
}
