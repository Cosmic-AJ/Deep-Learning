{
 "cells": [
  {
   "cell_type": "markdown",
   "metadata": {},
   "source": [
    "# Number Classifier"
   ]
  },
  {
   "cell_type": "code",
   "execution_count": 1,
   "metadata": {},
   "outputs": [],
   "source": [
    "import tensorflow as tf\n",
    "from tensorflow import keras\n",
    "import numpy as np\n",
    "import pandas as pd\n",
    "import matplotlib.pyplot as plt\n",
    "plt.style.use('dark_background')\n",
    "import warnings\n",
    "warnings.filterwarnings(action = 'ignore')"
   ]
  },
  {
   "cell_type": "code",
   "execution_count": 2,
   "metadata": {},
   "outputs": [
    {
     "data": {
      "text/plain": [
       "'2.3.0'"
      ]
     },
     "execution_count": 2,
     "metadata": {},
     "output_type": "execute_result"
    }
   ],
   "source": [
    "tf.__version__"
   ]
  },
  {
   "cell_type": "code",
   "execution_count": 3,
   "metadata": {},
   "outputs": [
    {
     "data": {
      "text/plain": [
       "'2.4.0'"
      ]
     },
     "execution_count": 3,
     "metadata": {},
     "output_type": "execute_result"
    }
   ],
   "source": [
    "keras.__version__"
   ]
  },
  {
   "cell_type": "code",
   "execution_count": 4,
   "metadata": {},
   "outputs": [],
   "source": [
    "digit_mnist = keras.datasets.mnist"
   ]
  },
  {
   "cell_type": "code",
   "execution_count": 5,
   "metadata": {},
   "outputs": [],
   "source": [
    "(X_train_full, y_train_full), (X_test, y_test) = digit_mnist.load_data()"
   ]
  },
  {
   "cell_type": "code",
   "execution_count": 6,
   "metadata": {},
   "outputs": [
    {
     "data": {
      "text/plain": [
       "<matplotlib.image.AxesImage at 0x22991761d00>"
      ]
     },
     "execution_count": 6,
     "metadata": {},
     "output_type": "execute_result"
    },
    {
     "data": {
      "image/png": "[encoded data removed]",
      "text/plain": [
       "<Figure size 432x288 with 1 Axes>"
      ]
     },
     "metadata": {},
     "output_type": "display_data"
    }
   ],
   "source": [
    "plt.imshow(X_train_full[0])"
   ]
  },
  {
   "cell_type": "code",
   "execution_count": 7,
   "metadata": {},
   "outputs": [
    {
     "data": {
      "text/plain": [
       "<matplotlib.image.AxesImage at 0x22993844610>"
      ]
     },
     "execution_count": 7,
     "metadata": {},
     "output_type": "execute_result"
    },
    {
     "data": {
      "image/png": "[encoded data removed]",
      "text/plain": [
       "<Figure size 432x288 with 1 Axes>"
      ]
     },
     "metadata": {},
     "output_type": "display_data"
    }
   ],
   "source": [
    "plt.imshow(X_train_full[1])"
   ]
  },
  {
   "cell_type": "code",
   "execution_count": 8,
   "metadata": {},
   "outputs": [
    {
     "data": {
      "text/plain": [
       "0"
      ]
     },
     "execution_count": 8,
     "metadata": {},
     "output_type": "execute_result"
    }
   ],
   "source": [
    "y_train_full[1]"
   ]
  },
  {
   "cell_type": "code",
   "execution_count": 9,
   "metadata": {},
   "outputs": [
    {
     "data": {
      "text/plain": [
       "5"
      ]
     },
     "execution_count": 9,
     "metadata": {},
     "output_type": "execute_result"
    }
   ],
   "source": [
    "y_train_full[0]"
   ]
  },
  {
   "cell_type": "code",
   "execution_count": 10,
   "metadata": {},
   "outputs": [
    {
     "data": {
      "text/plain": [
       "array([[  0,   0,   0,   0,   0,   0,   0,   0,   0,   0,   0,   0,   0,\n",
       "          0,   0,   0,   0,   0,   0,   0,   0,   0,   0,   0,   0,   0,\n",
       "          0,   0],\n",
       "       [  0,   0,   0,   0,   0,   0,   0,   0,   0,   0,   0,   0,   0,\n",
       "          0,   0,   0,   0,   0,   0,   0,   0,   0,   0,   0,   0,   0,\n",
       "          0,   0],\n",
       "       [  0,   0,   0,   0,   0,   0,   0,   0,   0,   0,   0,   0,   0,\n",
       "          0,   0,   0,   0,   0,   0,   0,   0,   0,   0,   0,   0,   0,\n",
       "          0,   0],\n",
       "       [  0,   0,   0,   0,   0,   0,   0,   0,   0,   0,   0,   0,   0,\n",
       "          0,   0,   0,   0,   0,   0,   0,   0,   0,   0,   0,   0,   0,\n",
       "          0,   0],\n",
       "       [  0,   0,   0,   0,   0,   0,   0,   0,   0,   0,   0,   0,   0,\n",
       "          0,   0,  51, 159, 253, 159,  50,   0,   0,   0,   0,   0,   0,\n",
       "          0,   0],\n",
       "       [  0,   0,   0,   0,   0,   0,   0,   0,   0,   0,   0,   0,   0,\n",
       "          0,  48, 238, 252, 252, 252, 237,   0,   0,   0,   0,   0,   0,\n",
       "          0,   0],\n",
       "       [  0,   0,   0,   0,   0,   0,   0,   0,   0,   0,   0,   0,   0,\n",
       "         54, 227, 253, 252, 239, 233, 252,  57,   6,   0,   0,   0,   0,\n",
       "          0,   0],\n",
       "       [  0,   0,   0,   0,   0,   0,   0,   0,   0,   0,   0,  10,  60,\n",
       "        224, 252, 253, 252, 202,  84, 252, 253, 122,   0,   0,   0,   0,\n",
       "          0,   0],\n",
       "       [  0,   0,   0,   0,   0,   0,   0,   0,   0,   0,   0, 163, 252,\n",
       "        252, 252, 253, 252, 252,  96, 189, 253, 167,   0,   0,   0,   0,\n",
       "          0,   0],\n",
       "       [  0,   0,   0,   0,   0,   0,   0,   0,   0,   0,  51, 238, 253,\n",
       "        253, 190, 114, 253, 228,  47,  79, 255, 168,   0,   0,   0,   0,\n",
       "          0,   0],\n",
       "       [  0,   0,   0,   0,   0,   0,   0,   0,   0,  48, 238, 252, 252,\n",
       "        179,  12,  75, 121,  21,   0,   0, 253, 243,  50,   0,   0,   0,\n",
       "          0,   0],\n",
       "       [  0,   0,   0,   0,   0,   0,   0,   0,  38, 165, 253, 233, 208,\n",
       "         84,   0,   0,   0,   0,   0,   0, 253, 252, 165,   0,   0,   0,\n",
       "          0,   0],\n",
       "       [  0,   0,   0,   0,   0,   0,   0,   7, 178, 252, 240,  71,  19,\n",
       "         28,   0,   0,   0,   0,   0,   0, 253, 252, 195,   0,   0,   0,\n",
       "          0,   0],\n",
       "       [  0,   0,   0,   0,   0,   0,   0,  57, 252, 252,  63,   0,   0,\n",
       "          0,   0,   0,   0,   0,   0,   0, 253, 252, 195,   0,   0,   0,\n",
       "          0,   0],\n",
       "       [  0,   0,   0,   0,   0,   0,   0, 198, 253, 190,   0,   0,   0,\n",
       "          0,   0,   0,   0,   0,   0,   0, 255, 253, 196,   0,   0,   0,\n",
       "          0,   0],\n",
       "       [  0,   0,   0,   0,   0,   0,  76, 246, 252, 112,   0,   0,   0,\n",
       "          0,   0,   0,   0,   0,   0,   0, 253, 252, 148,   0,   0,   0,\n",
       "          0,   0],\n",
       "       [  0,   0,   0,   0,   0,   0,  85, 252, 230,  25,   0,   0,   0,\n",
       "          0,   0,   0,   0,   0,   7, 135, 253, 186,  12,   0,   0,   0,\n",
       "          0,   0],\n",
       "       [  0,   0,   0,   0,   0,   0,  85, 252, 223,   0,   0,   0,   0,\n",
       "          0,   0,   0,   0,   7, 131, 252, 225,  71,   0,   0,   0,   0,\n",
       "          0,   0],\n",
       "       [  0,   0,   0,   0,   0,   0,  85, 252, 145,   0,   0,   0,   0,\n",
       "          0,   0,   0,  48, 165, 252, 173,   0,   0,   0,   0,   0,   0,\n",
       "          0,   0],\n",
       "       [  0,   0,   0,   0,   0,   0,  86, 253, 225,   0,   0,   0,   0,\n",
       "          0,   0, 114, 238, 253, 162,   0,   0,   0,   0,   0,   0,   0,\n",
       "          0,   0],\n",
       "       [  0,   0,   0,   0,   0,   0,  85, 252, 249, 146,  48,  29,  85,\n",
       "        178, 225, 253, 223, 167,  56,   0,   0,   0,   0,   0,   0,   0,\n",
       "          0,   0],\n",
       "       [  0,   0,   0,   0,   0,   0,  85, 252, 252, 252, 229, 215, 252,\n",
       "        252, 252, 196, 130,   0,   0,   0,   0,   0,   0,   0,   0,   0,\n",
       "          0,   0],\n",
       "       [  0,   0,   0,   0,   0,   0,  28, 199, 252, 252, 253, 252, 252,\n",
       "        233, 145,   0,   0,   0,   0,   0,   0,   0,   0,   0,   0,   0,\n",
       "          0,   0],\n",
       "       [  0,   0,   0,   0,   0,   0,   0,  25, 128, 252, 253, 252, 141,\n",
       "         37,   0,   0,   0,   0,   0,   0,   0,   0,   0,   0,   0,   0,\n",
       "          0,   0],\n",
       "       [  0,   0,   0,   0,   0,   0,   0,   0,   0,   0,   0,   0,   0,\n",
       "          0,   0,   0,   0,   0,   0,   0,   0,   0,   0,   0,   0,   0,\n",
       "          0,   0],\n",
       "       [  0,   0,   0,   0,   0,   0,   0,   0,   0,   0,   0,   0,   0,\n",
       "          0,   0,   0,   0,   0,   0,   0,   0,   0,   0,   0,   0,   0,\n",
       "          0,   0],\n",
       "       [  0,   0,   0,   0,   0,   0,   0,   0,   0,   0,   0,   0,   0,\n",
       "          0,   0,   0,   0,   0,   0,   0,   0,   0,   0,   0,   0,   0,\n",
       "          0,   0],\n",
       "       [  0,   0,   0,   0,   0,   0,   0,   0,   0,   0,   0,   0,   0,\n",
       "          0,   0,   0,   0,   0,   0,   0,   0,   0,   0,   0,   0,   0,\n",
       "          0,   0]], dtype=uint8)"
      ]
     },
     "execution_count": 10,
     "metadata": {},
     "output_type": "execute_result"
    }
   ],
   "source": [
    "X_train_full[1]"
   ]
  },
  {
   "cell_type": "code",
   "execution_count": 11,
   "metadata": {},
   "outputs": [],
   "source": [
    "X_train_full = X_train_full/255.\n",
    "X_test = X_test/255."
   ]
  },
  {
   "cell_type": "code",
   "execution_count": 12,
   "metadata": {},
   "outputs": [],
   "source": [
    "x_valid, X_train = X_train_full[:6000], X_train_full[6000:]\n",
    "y_valid, y_train = y_train_full[:6000], y_train_full[6000:]"
   ]
  },
  {
   "cell_type": "code",
   "execution_count": 13,
   "metadata": {},
   "outputs": [
    {
     "data": {
      "text/plain": [
       "(6000, 28, 28)"
      ]
     },
     "execution_count": 13,
     "metadata": {},
     "output_type": "execute_result"
    }
   ],
   "source": [
    "x_valid.shape"
   ]
  },
  {
   "cell_type": "code",
   "execution_count": 14,
   "metadata": {},
   "outputs": [],
   "source": [
    "np.random.seed(42)\n",
    "tf.random.set_seed(42)"
   ]
  },
  {
   "cell_type": "code",
   "execution_count": 15,
   "metadata": {},
   "outputs": [],
   "source": [
    "model = keras.models.Sequential()\n",
    "model.add(keras.layers.Flatten(input_shape=[28, 28]))\n",
    "model.add(keras.layers.Dense(200, activation=\"relu\"))\n",
    "model.add(keras.layers.Dense(100, activation=\"relu\"))\n",
    "model.add(keras.layers.Dense(10, activation=\"softmax\"))"
   ]
  },
  {
   "cell_type": "code",
   "execution_count": 16,
   "metadata": {},
   "outputs": [
    {
     "name": "stdout",
     "output_type": "stream",
     "text": [
      "Model: \"sequential\"\n",
      "_________________________________________________________________\n",
      "Layer (type)                 Output Shape              Param #   \n",
      "=================================================================\n",
      "flatten (Flatten)            (None, 784)               0         \n",
      "_________________________________________________________________\n",
      "dense (Dense)                (None, 200)               157000    \n",
      "_________________________________________________________________\n",
      "dense_1 (Dense)              (None, 100)               20100     \n",
      "_________________________________________________________________\n",
      "dense_2 (Dense)              (None, 10)                1010      \n",
      "=================================================================\n",
      "Total params: 178,110\n",
      "Trainable params: 178,110\n",
      "Non-trainable params: 0\n",
      "_________________________________________________________________\n"
     ]
    }
   ],
   "source": [
    "model.summary()"
   ]
  },
  {
   "cell_type": "code",
   "execution_count": 17,
   "metadata": {},
   "outputs": [
    {
     "data": {
      "image/png": "[encoded data removed]",
      "text/plain": [
       "<IPython.core.display.Image object>"
      ]
     },
     "execution_count": 17,
     "metadata": {},
     "output_type": "execute_result"
    }
   ],
   "source": [
    "import pydot\n",
    "keras.utils.plot_model(model)"
   ]
  },
  {
   "cell_type": "code",
   "execution_count": 18,
   "metadata": {},
   "outputs": [
    {
     "data": {
      "text/plain": [
       "array([[ 0.02570029, -0.00921319, -0.02297589, ...,  0.03759523,\n",
       "         0.01990343, -0.00419658],\n",
       "       [ 0.0493257 ,  0.07532704,  0.04591972, ...,  0.01272719,\n",
       "         0.07017377,  0.06893378],\n",
       "       [-0.00902112,  0.0490617 ,  0.01508749, ...,  0.00632862,\n",
       "        -0.02900814, -0.04371899],\n",
       "       ...,\n",
       "       [ 0.06044598,  0.02830634,  0.04788385, ..., -0.02156743,\n",
       "        -0.06206664, -0.06688078],\n",
       "       [ 0.03822813,  0.07278952,  0.02177001, ..., -0.04696669,\n",
       "        -0.04292265,  0.0316055 ],\n",
       "       [-0.01534326, -0.03178874, -0.04308994, ...,  0.00643031,\n",
       "         0.02572545, -0.03443564]], dtype=float32)"
      ]
     },
     "execution_count": 18,
     "metadata": {},
     "output_type": "execute_result"
    }
   ],
   "source": [
    "weights, biases = model.layers[1].get_weights()\n",
    "weights"
   ]
  },
  {
   "cell_type": "code",
   "execution_count": 19,
   "metadata": {},
   "outputs": [
    {
     "data": {
      "text/plain": [
       "array([0., 0., 0., 0., 0., 0., 0., 0., 0., 0., 0., 0., 0., 0., 0., 0., 0.,\n",
       "       0., 0., 0., 0., 0., 0., 0., 0., 0., 0., 0., 0., 0., 0., 0., 0., 0.,\n",
       "       0., 0., 0., 0., 0., 0., 0., 0., 0., 0., 0., 0., 0., 0., 0., 0., 0.,\n",
       "       0., 0., 0., 0., 0., 0., 0., 0., 0., 0., 0., 0., 0., 0., 0., 0., 0.,\n",
       "       0., 0., 0., 0., 0., 0., 0., 0., 0., 0., 0., 0., 0., 0., 0., 0., 0.,\n",
       "       0., 0., 0., 0., 0., 0., 0., 0., 0., 0., 0., 0., 0., 0., 0., 0., 0.,\n",
       "       0., 0., 0., 0., 0., 0., 0., 0., 0., 0., 0., 0., 0., 0., 0., 0., 0.,\n",
       "       0., 0., 0., 0., 0., 0., 0., 0., 0., 0., 0., 0., 0., 0., 0., 0., 0.,\n",
       "       0., 0., 0., 0., 0., 0., 0., 0., 0., 0., 0., 0., 0., 0., 0., 0., 0.,\n",
       "       0., 0., 0., 0., 0., 0., 0., 0., 0., 0., 0., 0., 0., 0., 0., 0., 0.,\n",
       "       0., 0., 0., 0., 0., 0., 0., 0., 0., 0., 0., 0., 0., 0., 0., 0., 0.,\n",
       "       0., 0., 0., 0., 0., 0., 0., 0., 0., 0., 0., 0., 0.], dtype=float32)"
      ]
     },
     "execution_count": 19,
     "metadata": {},
     "output_type": "execute_result"
    }
   ],
   "source": [
    "biases"
   ]
  },
  {
   "cell_type": "code",
   "execution_count": 20,
   "metadata": {},
   "outputs": [
    {
     "data": {
      "text/plain": [
       "((784, 200), (200,))"
      ]
     },
     "execution_count": 20,
     "metadata": {},
     "output_type": "execute_result"
    }
   ],
   "source": [
    "weights.shape, biases.shape"
   ]
  },
  {
   "cell_type": "code",
   "execution_count": 21,
   "metadata": {},
   "outputs": [],
   "source": [
    "model.compile(loss=\"sparse_categorical_crossentropy\",\n",
    "              optimizer=\"sgd\",\n",
    "              metrics=[\"accuracy\"])"
   ]
  },
  {
   "cell_type": "code",
   "execution_count": 22,
   "metadata": {},
   "outputs": [
    {
     "name": "stdout",
     "output_type": "stream",
     "text": [
      "Epoch 1/60\n",
      "1688/1688 [==============================] - 4s 3ms/step - loss: 0.6607 - accuracy: 0.8267 - val_loss: 0.3216 - val_accuracy: 0.9125\n",
      "Epoch 2/60\n",
      "1688/1688 [==============================] - 4s 2ms/step - loss: 0.3006 - accuracy: 0.9141 - val_loss: 0.2585 - val_accuracy: 0.9283\n",
      "Epoch 3/60\n",
      "1688/1688 [==============================] - 3s 2ms/step - loss: 0.2488 - accuracy: 0.9292 - val_loss: 0.2254 - val_accuracy: 0.9383\n",
      "Epoch 4/60\n",
      "1688/1688 [==============================] - 3s 2ms/step - loss: 0.2151 - accuracy: 0.9390 - val_loss: 0.1961 - val_accuracy: 0.9442\n",
      "Epoch 5/60\n",
      "1688/1688 [==============================] - 3s 2ms/step - loss: 0.1893 - accuracy: 0.9461 - val_loss: 0.1790 - val_accuracy: 0.9483\n",
      "Epoch 6/60\n",
      "1688/1688 [==============================] - 3s 2ms/step - loss: 0.1690 - accuracy: 0.9517 - val_loss: 0.1638 - val_accuracy: 0.9522\n",
      "Epoch 7/60\n",
      "1688/1688 [==============================] - 3s 2ms/step - loss: 0.1521 - accuracy: 0.9569 - val_loss: 0.1482 - val_accuracy: 0.9588\n",
      "Epoch 8/60\n",
      "1688/1688 [==============================] - 3s 2ms/step - loss: 0.1378 - accuracy: 0.9610 - val_loss: 0.1416 - val_accuracy: 0.9610\n",
      "Epoch 9/60\n",
      "1688/1688 [==============================] - 3s 2ms/step - loss: 0.1260 - accuracy: 0.9642 - val_loss: 0.1315 - val_accuracy: 0.9647\n",
      "Epoch 10/60\n",
      "1688/1688 [==============================] - 3s 2ms/step - loss: 0.1157 - accuracy: 0.9672 - val_loss: 0.1273 - val_accuracy: 0.9637\n",
      "Epoch 11/60\n",
      "1688/1688 [==============================] - 3s 2ms/step - loss: 0.1066 - accuracy: 0.9698 - val_loss: 0.1158 - val_accuracy: 0.9680\n",
      "Epoch 12/60\n",
      "1688/1688 [==============================] - 3s 2ms/step - loss: 0.0991 - accuracy: 0.9722 - val_loss: 0.1118 - val_accuracy: 0.9700\n",
      "Epoch 13/60\n",
      "1688/1688 [==============================] - 3s 2ms/step - loss: 0.0917 - accuracy: 0.9746 - val_loss: 0.1057 - val_accuracy: 0.9707\n",
      "Epoch 14/60\n",
      "1688/1688 [==============================] - 3s 2ms/step - loss: 0.0857 - accuracy: 0.9765 - val_loss: 0.1006 - val_accuracy: 0.9722\n",
      "Epoch 15/60\n",
      "1688/1688 [==============================] - 3s 2ms/step - loss: 0.0802 - accuracy: 0.9778 - val_loss: 0.0991 - val_accuracy: 0.9725\n",
      "Epoch 16/60\n",
      "1688/1688 [==============================] - 3s 2ms/step - loss: 0.0752 - accuracy: 0.9794 - val_loss: 0.0946 - val_accuracy: 0.9728\n",
      "Epoch 17/60\n",
      "1688/1688 [==============================] - 3s 2ms/step - loss: 0.0707 - accuracy: 0.9809 - val_loss: 0.0934 - val_accuracy: 0.9730\n",
      "Epoch 18/60\n",
      "1688/1688 [==============================] - 3s 2ms/step - loss: 0.0659 - accuracy: 0.9819 - val_loss: 0.0894 - val_accuracy: 0.9757\n",
      "Epoch 19/60\n",
      "1688/1688 [==============================] - 3s 2ms/step - loss: 0.0624 - accuracy: 0.9829 - val_loss: 0.0894 - val_accuracy: 0.9735\n",
      "Epoch 20/60\n",
      "1688/1688 [==============================] - 3s 2ms/step - loss: 0.0587 - accuracy: 0.9841 - val_loss: 0.0875 - val_accuracy: 0.9752\n",
      "Epoch 21/60\n",
      "1688/1688 [==============================] - 3s 2ms/step - loss: 0.0555 - accuracy: 0.9851 - val_loss: 0.0864 - val_accuracy: 0.9755\n",
      "Epoch 22/60\n",
      "1688/1688 [==============================] - 3s 2ms/step - loss: 0.0525 - accuracy: 0.9860 - val_loss: 0.0838 - val_accuracy: 0.9758\n",
      "Epoch 23/60\n",
      "1688/1688 [==============================] - 3s 2ms/step - loss: 0.0496 - accuracy: 0.9864 - val_loss: 0.0830 - val_accuracy: 0.9763\n",
      "Epoch 24/60\n",
      "1688/1688 [==============================] - 3s 2ms/step - loss: 0.0468 - accuracy: 0.9873 - val_loss: 0.0825 - val_accuracy: 0.9758\n",
      "Epoch 25/60\n",
      "1688/1688 [==============================] - 3s 2ms/step - loss: 0.0443 - accuracy: 0.9885 - val_loss: 0.0833 - val_accuracy: 0.9747\n",
      "Epoch 26/60\n",
      "1688/1688 [==============================] - 3s 2ms/step - loss: 0.0420 - accuracy: 0.9888 - val_loss: 0.0812 - val_accuracy: 0.9767\n",
      "Epoch 27/60\n",
      "1688/1688 [==============================] - 3s 2ms/step - loss: 0.0398 - accuracy: 0.9892 - val_loss: 0.0773 - val_accuracy: 0.9778\n",
      "Epoch 28/60\n",
      "1688/1688 [==============================] - 3s 2ms/step - loss: 0.0378 - accuracy: 0.9902 - val_loss: 0.0773 - val_accuracy: 0.9770\n",
      "Epoch 29/60\n",
      "1688/1688 [==============================] - 3s 2ms/step - loss: 0.0358 - accuracy: 0.9906 - val_loss: 0.0761 - val_accuracy: 0.9773\n",
      "Epoch 30/60\n",
      "1688/1688 [==============================] - 3s 2ms/step - loss: 0.0338 - accuracy: 0.9916 - val_loss: 0.0787 - val_accuracy: 0.9768\n",
      "Epoch 31/60\n",
      "1688/1688 [==============================] - 3s 2ms/step - loss: 0.0322 - accuracy: 0.9919 - val_loss: 0.0754 - val_accuracy: 0.9777\n",
      "Epoch 32/60\n",
      "1688/1688 [==============================] - 3s 2ms/step - loss: 0.0304 - accuracy: 0.9926 - val_loss: 0.0775 - val_accuracy: 0.9778\n",
      "Epoch 33/60\n",
      "1688/1688 [==============================] - 3s 2ms/step - loss: 0.0289 - accuracy: 0.9931 - val_loss: 0.0765 - val_accuracy: 0.9778\n",
      "Epoch 34/60\n",
      "1688/1688 [==============================] - 3s 2ms/step - loss: 0.0274 - accuracy: 0.9938 - val_loss: 0.0765 - val_accuracy: 0.9775\n",
      "Epoch 35/60\n",
      "1688/1688 [==============================] - 3s 2ms/step - loss: 0.0260 - accuracy: 0.9941 - val_loss: 0.0751 - val_accuracy: 0.9785\n",
      "Epoch 36/60\n",
      "1688/1688 [==============================] - 3s 2ms/step - loss: 0.0246 - accuracy: 0.9945 - val_loss: 0.0800 - val_accuracy: 0.9765\n",
      "Epoch 37/60\n",
      "1688/1688 [==============================] - 3s 2ms/step - loss: 0.0237 - accuracy: 0.9943 - val_loss: 0.0756 - val_accuracy: 0.9780\n",
      "Epoch 38/60\n",
      "1688/1688 [==============================] - 3s 2ms/step - loss: 0.0223 - accuracy: 0.9953 - val_loss: 0.0761 - val_accuracy: 0.9782\n",
      "Epoch 39/60\n",
      "1688/1688 [==============================] - 3s 2ms/step - loss: 0.0212 - accuracy: 0.9958 - val_loss: 0.0753 - val_accuracy: 0.9773\n",
      "Epoch 40/60\n",
      "1688/1688 [==============================] - 3s 2ms/step - loss: 0.0202 - accuracy: 0.9961 - val_loss: 0.0759 - val_accuracy: 0.9778\n",
      "Epoch 41/60\n",
      "1688/1688 [==============================] - 3s 2ms/step - loss: 0.0191 - accuracy: 0.9968 - val_loss: 0.0755 - val_accuracy: 0.9782\n",
      "Epoch 42/60\n",
      "1688/1688 [==============================] - 3s 2ms/step - loss: 0.0183 - accuracy: 0.9969 - val_loss: 0.0772 - val_accuracy: 0.9777\n",
      "Epoch 43/60\n",
      "1688/1688 [==============================] - 3s 2ms/step - loss: 0.0174 - accuracy: 0.9971 - val_loss: 0.0824 - val_accuracy: 0.9765\n",
      "Epoch 44/60\n",
      "1688/1688 [==============================] - 3s 2ms/step - loss: 0.0166 - accuracy: 0.9973 - val_loss: 0.0757 - val_accuracy: 0.9787\n",
      "Epoch 45/60\n",
      "1688/1688 [==============================] - 3s 2ms/step - loss: 0.0157 - accuracy: 0.9977 - val_loss: 0.0759 - val_accuracy: 0.9780\n",
      "Epoch 46/60\n",
      "1688/1688 [==============================] - 3s 2ms/step - loss: 0.0150 - accuracy: 0.9979 - val_loss: 0.0763 - val_accuracy: 0.9778\n",
      "Epoch 47/60\n",
      "1688/1688 [==============================] - 4s 2ms/step - loss: 0.0143 - accuracy: 0.9980 - val_loss: 0.0770 - val_accuracy: 0.9773\n",
      "Epoch 48/60\n",
      "1688/1688 [==============================] - 4s 2ms/step - loss: 0.0137 - accuracy: 0.9984 - val_loss: 0.0772 - val_accuracy: 0.9772\n",
      "Epoch 49/60\n",
      "1688/1688 [==============================] - 3s 2ms/step - loss: 0.0130 - accuracy: 0.9982 - val_loss: 0.0779 - val_accuracy: 0.9772\n",
      "Epoch 50/60\n",
      "1688/1688 [==============================] - 3s 2ms/step - loss: 0.0124 - accuracy: 0.9986 - val_loss: 0.0793 - val_accuracy: 0.9775\n",
      "Epoch 51/60\n",
      "1688/1688 [==============================] - 3s 2ms/step - loss: 0.0119 - accuracy: 0.9986 - val_loss: 0.0772 - val_accuracy: 0.9773\n",
      "Epoch 52/60\n",
      "1688/1688 [==============================] - 3s 2ms/step - loss: 0.0114 - accuracy: 0.9987 - val_loss: 0.0764 - val_accuracy: 0.9780\n",
      "Epoch 53/60\n",
      "1688/1688 [==============================] - 3s 2ms/step - loss: 0.0109 - accuracy: 0.9988 - val_loss: 0.0782 - val_accuracy: 0.9778\n",
      "Epoch 54/60\n",
      "1688/1688 [==============================] - 3s 2ms/step - loss: 0.0105 - accuracy: 0.9989 - val_loss: 0.0765 - val_accuracy: 0.9788\n",
      "Epoch 55/60\n",
      "1688/1688 [==============================] - 3s 2ms/step - loss: 0.0100 - accuracy: 0.9990 - val_loss: 0.0782 - val_accuracy: 0.9778\n",
      "Epoch 56/60\n",
      "1688/1688 [==============================] - 3s 2ms/step - loss: 0.0095 - accuracy: 0.9991 - val_loss: 0.0789 - val_accuracy: 0.9775\n",
      "Epoch 57/60\n",
      "1688/1688 [==============================] - 3s 2ms/step - loss: 0.0091 - accuracy: 0.9993 - val_loss: 0.0795 - val_accuracy: 0.9777\n",
      "Epoch 58/60\n",
      "1688/1688 [==============================] - 3s 2ms/step - loss: 0.0088 - accuracy: 0.9992 - val_loss: 0.0777 - val_accuracy: 0.9782\n",
      "Epoch 59/60\n",
      "1688/1688 [==============================] - 3s 2ms/step - loss: 0.0084 - accuracy: 0.9993 - val_loss: 0.0802 - val_accuracy: 0.9773\n",
      "Epoch 60/60\n",
      "1688/1688 [==============================] - 4s 2ms/step - loss: 0.0081 - accuracy: 0.9993 - val_loss: 0.0807 - val_accuracy: 0.9778\n"
     ]
    }
   ],
   "source": [
    "model_create = model.fit(X_train, y_train, epochs=60,\n",
    "                        validation_data=(x_valid, y_valid))"
   ]
  },
  {
   "cell_type": "code",
   "execution_count": 23,
   "metadata": {},
   "outputs": [
    {
     "data": {
      "text/plain": [
       "{'verbose': 1, 'epochs': 60, 'steps': 1688}"
      ]
     },
     "execution_count": 23,
     "metadata": {},
     "output_type": "execute_result"
    }
   ],
   "source": [
    "model_create.params"
   ]
  },
  {
   "cell_type": "code",
   "execution_count": 24,
   "metadata": {},
   "outputs": [
    {
     "data": {
      "text/plain": [
       "{'loss': [0.6606810092926025,\n",
       "  0.30064910650253296,\n",
       "  0.24880096316337585,\n",
       "  0.21511711180210114,\n",
       "  0.18928387761116028,\n",
       "  0.16897206008434296,\n",
       "  0.15211254358291626,\n",
       "  0.13781490921974182,\n",
       "  0.1260201632976532,\n",
       "  0.1157253235578537,\n",
       "  0.10663460195064545,\n",
       "  0.09911271184682846,\n",
       "  0.09174101799726486,\n",
       "  0.08569958806037903,\n",
       "  0.08015569299459457,\n",
       "  0.07516244053840637,\n",
       "  0.07067800313234329,\n",
       "  0.06592419743537903,\n",
       "  0.0624399296939373,\n",
       "  0.058745719492435455,\n",
       "  0.05553574860095978,\n",
       "  0.05248778313398361,\n",
       "  0.04959080368280411,\n",
       "  0.04681885987520218,\n",
       "  0.04428007826209068,\n",
       "  0.04202835261821747,\n",
       "  0.03982100263237953,\n",
       "  0.03779098764061928,\n",
       "  0.03577915579080582,\n",
       "  0.03384553641080856,\n",
       "  0.03216800093650818,\n",
       "  0.030371930450201035,\n",
       "  0.028932776302099228,\n",
       "  0.027381546795368195,\n",
       "  0.025990838184952736,\n",
       "  0.02463597059249878,\n",
       "  0.023668816313147545,\n",
       "  0.02228458598256111,\n",
       "  0.021180303767323494,\n",
       "  0.020184975117444992,\n",
       "  0.019117841497063637,\n",
       "  0.018255814909934998,\n",
       "  0.017379438504576683,\n",
       "  0.016622401773929596,\n",
       "  0.015719160437583923,\n",
       "  0.015040251426398754,\n",
       "  0.014294929802417755,\n",
       "  0.013672351837158203,\n",
       "  0.01303013227880001,\n",
       "  0.012418059632182121,\n",
       "  0.011926700361073017,\n",
       "  0.011355126276612282,\n",
       "  0.01091107539832592,\n",
       "  0.010477854870259762,\n",
       "  0.009991183876991272,\n",
       "  0.009491235949099064,\n",
       "  0.009090146981179714,\n",
       "  0.008806800469756126,\n",
       "  0.008448047563433647,\n",
       "  0.008069539442658424],\n",
       " 'accuracy': [0.8267222046852112,\n",
       "  0.9140740633010864,\n",
       "  0.9292222261428833,\n",
       "  0.9390000104904175,\n",
       "  0.9461110830307007,\n",
       "  0.9517222046852112,\n",
       "  0.9568518400192261,\n",
       "  0.9610370397567749,\n",
       "  0.9642037153244019,\n",
       "  0.9672222137451172,\n",
       "  0.9697962999343872,\n",
       "  0.9722037315368652,\n",
       "  0.974574089050293,\n",
       "  0.9765370488166809,\n",
       "  0.9777963161468506,\n",
       "  0.9793888926506042,\n",
       "  0.9808703660964966,\n",
       "  0.9818888902664185,\n",
       "  0.9829259514808655,\n",
       "  0.9841481447219849,\n",
       "  0.9850925803184509,\n",
       "  0.985962986946106,\n",
       "  0.9863888621330261,\n",
       "  0.987333357334137,\n",
       "  0.9884999990463257,\n",
       "  0.9888148307800293,\n",
       "  0.9892222285270691,\n",
       "  0.9902222156524658,\n",
       "  0.9906111359596252,\n",
       "  0.9916481375694275,\n",
       "  0.9919259548187256,\n",
       "  0.9926111102104187,\n",
       "  0.993148148059845,\n",
       "  0.9937962889671326,\n",
       "  0.9940740466117859,\n",
       "  0.994518518447876,\n",
       "  0.9943147897720337,\n",
       "  0.99529629945755,\n",
       "  0.9958148002624512,\n",
       "  0.9961110949516296,\n",
       "  0.9967777729034424,\n",
       "  0.996925950050354,\n",
       "  0.9971110820770264,\n",
       "  0.997259259223938,\n",
       "  0.9976666569709778,\n",
       "  0.9979074001312256,\n",
       "  0.9979814887046814,\n",
       "  0.9983518719673157,\n",
       "  0.9981851577758789,\n",
       "  0.9985740780830383,\n",
       "  0.9985926151275635,\n",
       "  0.9987407326698303,\n",
       "  0.9987778067588806,\n",
       "  0.9988703727722168,\n",
       "  0.9990370273590088,\n",
       "  0.9991296529769897,\n",
       "  0.9992592334747314,\n",
       "  0.9991852045059204,\n",
       "  0.9993333220481873,\n",
       "  0.9993333220481873],\n",
       " 'val_loss': [0.32164785265922546,\n",
       "  0.2585418224334717,\n",
       "  0.22538582980632782,\n",
       "  0.1960676908493042,\n",
       "  0.1790180504322052,\n",
       "  0.163761168718338,\n",
       "  0.1482330560684204,\n",
       "  0.14160287380218506,\n",
       "  0.13149955868721008,\n",
       "  0.12728369235992432,\n",
       "  0.1157650575041771,\n",
       "  0.11176162958145142,\n",
       "  0.1057276502251625,\n",
       "  0.10058122873306274,\n",
       "  0.0991484597325325,\n",
       "  0.094608835875988,\n",
       "  0.09340712428092957,\n",
       "  0.08936282247304916,\n",
       "  0.08940725028514862,\n",
       "  0.0874679759144783,\n",
       "  0.08638634532690048,\n",
       "  0.08380169421434402,\n",
       "  0.08300051093101501,\n",
       "  0.08248208463191986,\n",
       "  0.08334980905056,\n",
       "  0.08123496174812317,\n",
       "  0.07728860527276993,\n",
       "  0.07732246071100235,\n",
       "  0.0760563537478447,\n",
       "  0.07866702973842621,\n",
       "  0.07538498193025589,\n",
       "  0.07746954262256622,\n",
       "  0.07654006779193878,\n",
       "  0.0765242651104927,\n",
       "  0.07510639727115631,\n",
       "  0.07999148964881897,\n",
       "  0.07560627162456512,\n",
       "  0.07610493153333664,\n",
       "  0.0752524733543396,\n",
       "  0.0758609026670456,\n",
       "  0.07553581148386002,\n",
       "  0.07717908918857574,\n",
       "  0.08238741010427475,\n",
       "  0.07566802948713303,\n",
       "  0.07589481770992279,\n",
       "  0.07631473988294601,\n",
       "  0.07702748477458954,\n",
       "  0.07717843353748322,\n",
       "  0.07786296308040619,\n",
       "  0.0793292224407196,\n",
       "  0.07716801762580872,\n",
       "  0.07642854005098343,\n",
       "  0.07819262892007828,\n",
       "  0.07649412751197815,\n",
       "  0.07820945233106613,\n",
       "  0.07892211526632309,\n",
       "  0.07947003096342087,\n",
       "  0.07765205204486847,\n",
       "  0.08020208030939102,\n",
       "  0.08067741245031357],\n",
       " 'val_accuracy': [0.9125000238418579,\n",
       "  0.9283333420753479,\n",
       "  0.9383333325386047,\n",
       "  0.9441666603088379,\n",
       "  0.9483333230018616,\n",
       "  0.9521666765213013,\n",
       "  0.9588333368301392,\n",
       "  0.9610000252723694,\n",
       "  0.9646666646003723,\n",
       "  0.9636666774749756,\n",
       "  0.9679999947547913,\n",
       "  0.9700000286102295,\n",
       "  0.9706666469573975,\n",
       "  0.9721666574478149,\n",
       "  0.9725000262260437,\n",
       "  0.9728333353996277,\n",
       "  0.9729999899864197,\n",
       "  0.9756666421890259,\n",
       "  0.9735000133514404,\n",
       "  0.9751666784286499,\n",
       "  0.9754999876022339,\n",
       "  0.9758333563804626,\n",
       "  0.9763333201408386,\n",
       "  0.9758333563804626,\n",
       "  0.9746666550636292,\n",
       "  0.9766666889190674,\n",
       "  0.9778333306312561,\n",
       "  0.9769999980926514,\n",
       "  0.9773333072662354,\n",
       "  0.9768333435058594,\n",
       "  0.9776666760444641,\n",
       "  0.9778333306312561,\n",
       "  0.9778333306312561,\n",
       "  0.9775000214576721,\n",
       "  0.9785000085830688,\n",
       "  0.9764999747276306,\n",
       "  0.9779999852180481,\n",
       "  0.9781666398048401,\n",
       "  0.9773333072662354,\n",
       "  0.9778333306312561,\n",
       "  0.9781666398048401,\n",
       "  0.9776666760444641,\n",
       "  0.9764999747276306,\n",
       "  0.9786666631698608,\n",
       "  0.9779999852180481,\n",
       "  0.9778333306312561,\n",
       "  0.9773333072662354,\n",
       "  0.9771666526794434,\n",
       "  0.9771666526794434,\n",
       "  0.9775000214576721,\n",
       "  0.9773333072662354,\n",
       "  0.9779999852180481,\n",
       "  0.9778333306312561,\n",
       "  0.9788333177566528,\n",
       "  0.9778333306312561,\n",
       "  0.9775000214576721,\n",
       "  0.9776666760444641,\n",
       "  0.9781666398048401,\n",
       "  0.9773333072662354,\n",
       "  0.9778333306312561]}"
      ]
     },
     "execution_count": 24,
     "metadata": {},
     "output_type": "execute_result"
    }
   ],
   "source": [
    "model_create.history"
   ]
  },
  {
   "cell_type": "code",
   "execution_count": 25,
   "metadata": {},
   "outputs": [
    {
     "data": {
      "image/png": "[encoded data removed]",
      "text/plain": [
       "<Figure size 576x360 with 1 Axes>"
      ]
     },
     "metadata": {},
     "output_type": "display_data"
    }
   ],
   "source": [
    "pd.DataFrame(model_create.history).plot(figsize=(8, 5))\n",
    "plt.grid(True)\n",
    "plt.gca().set_ylim(0, 1)\n",
    "plt.show()"
   ]
  },
  {
   "cell_type": "code",
   "execution_count": 26,
   "metadata": {},
   "outputs": [
    {
     "name": "stdout",
     "output_type": "stream",
     "text": [
      "313/313 [==============================] - 0s 1ms/step - loss: 0.0741 - accuracy: 0.9795\n"
     ]
    },
    {
     "data": {
      "text/plain": [
       "[0.07405887544155121, 0.9794999957084656]"
      ]
     },
     "execution_count": 26,
     "metadata": {},
     "output_type": "execute_result"
    }
   ],
   "source": [
    "model.evaluate(X_test, y_test)"
   ]
  },
  {
   "cell_type": "code",
   "execution_count": 27,
   "metadata": {},
   "outputs": [],
   "source": [
    "x_new = X_test[:5]"
   ]
  },
  {
   "cell_type": "code",
   "execution_count": 28,
   "metadata": {},
   "outputs": [
    {
     "data": {
      "text/plain": [
       "array([[0., 0., 0., 0., 0., 0., 0., 1., 0., 0.],\n",
       "       [0., 0., 1., 0., 0., 0., 0., 0., 0., 0.],\n",
       "       [0., 1., 0., 0., 0., 0., 0., 0., 0., 0.],\n",
       "       [1., 0., 0., 0., 0., 0., 0., 0., 0., 0.],\n",
       "       [0., 0., 0., 0., 1., 0., 0., 0., 0., 0.]], dtype=float32)"
      ]
     },
     "execution_count": 28,
     "metadata": {},
     "output_type": "execute_result"
    }
   ],
   "source": [
    "model.predict(x_new).round(2)"
   ]
  },
  {
   "cell_type": "code",
   "execution_count": 29,
   "metadata": {},
   "outputs": [],
   "source": [
    "classes = [0, 1, 2, 3, 4, 5, 6, 7, 8, 9]"
   ]
  },
  {
   "cell_type": "code",
   "execution_count": 30,
   "metadata": {},
   "outputs": [
    {
     "name": "stdout",
     "output_type": "stream",
     "text": [
      "WARNING:tensorflow:From <ipython-input-30-2a45323cfad0>:1: Sequential.predict_classes (from tensorflow.python.keras.engine.sequential) is deprecated and will be removed after 2021-01-01.\n",
      "Instructions for updating:\n",
      "Please use instead:* `np.argmax(model.predict(x), axis=-1)`,   if your model does multi-class classification   (e.g. if it uses a `softmax` last-layer activation).* `(model.predict(x) > 0.5).astype(\"int32\")`,   if your model does binary classification   (e.g. if it uses a `sigmoid` last-layer activation).\n"
     ]
    },
    {
     "data": {
      "text/plain": [
       "array([7, 2, 1, 0, 4], dtype=int64)"
      ]
     },
     "execution_count": 30,
     "metadata": {},
     "output_type": "execute_result"
    }
   ],
   "source": [
    "y_pred = model.predict_classes(x_new)\n",
    "y_pred"
   ]
  },
  {
   "cell_type": "code",
   "execution_count": 31,
   "metadata": {},
   "outputs": [
    {
     "data": {
      "text/plain": [
       "array([7, 2, 1, 0, 4], dtype=int64)"
      ]
     },
     "execution_count": 31,
     "metadata": {},
     "output_type": "execute_result"
    }
   ],
   "source": [
    "np.argmax(model.predict(x_new), axis=-1)"
   ]
  },
  {
   "cell_type": "code",
   "execution_count": 32,
   "metadata": {},
   "outputs": [
    {
     "data": {
      "text/plain": [
       "array([7, 2, 1, 0, 4])"
      ]
     },
     "execution_count": 32,
     "metadata": {},
     "output_type": "execute_result"
    }
   ],
   "source": [
    "np.array(classes)[y_pred]"
   ]
  },
  {
   "cell_type": "code",
   "execution_count": 33,
   "metadata": {},
   "outputs": [
    {
     "name": "stdout",
     "output_type": "stream",
     "text": [
      "7\n"
     ]
    },
    {
     "data": {
      "image/png": "[encoded data removed]",
      "text/plain": [
       "<Figure size 432x288 with 1 Axes>"
      ]
     },
     "metadata": {},
     "output_type": "display_data"
    }
   ],
   "source": [
    "plt.imshow(x_new[0])\n",
    "print(y_pred[0])"
   ]
  },
  {
   "cell_type": "code",
   "execution_count": 34,
   "metadata": {},
   "outputs": [
    {
     "name": "stdout",
     "output_type": "stream",
     "text": [
      "2\n"
     ]
    },
    {
     "data": {
      "image/png": "[encoded data removed]",
      "text/plain": [
       "<Figure size 432x288 with 1 Axes>"
      ]
     },
     "metadata": {},
     "output_type": "display_data"
    }
   ],
   "source": [
    "plt.imshow(x_new[1])\n",
    "print(y_pred[1])"
   ]
  },
  {
   "cell_type": "code",
   "execution_count": 35,
   "metadata": {},
   "outputs": [
    {
     "name": "stdout",
     "output_type": "stream",
     "text": [
      "0\n"
     ]
    },
    {
     "data": {
      "image/png": "[encoded data removed]",
      "text/plain": [
       "<Figure size 432x288 with 1 Axes>"
      ]
     },
     "metadata": {},
     "output_type": "display_data"
    }
   ],
   "source": [
    "plt.imshow(x_new[3])\n",
    "print(y_pred[3])"
   ]
  },
  {
   "cell_type": "code",
   "execution_count": 36,
   "metadata": {},
   "outputs": [
    {
     "name": "stdout",
     "output_type": "stream",
     "text": [
      "4\n"
     ]
    },
    {
     "data": {
      "image/png": "[encoded data removed]",
      "text/plain": [
       "<Figure size 432x288 with 1 Axes>"
      ]
     },
     "metadata": {},
     "output_type": "display_data"
    }
   ],
   "source": [
    "plt.imshow(x_new[4])\n",
    "print(y_pred[4])"
   ]
  }
 ],
 "metadata": {
  "kernelspec": {
   "display_name": "Python 3",
   "language": "python",
   "name": "python3"
  },
  "language_info": {
   "codemirror_mode": {
    "name": "ipython",
    "version": 3
   },
   "file_extension": ".py",
   "mimetype": "text/x-python",
   "name": "python",
   "nbconvert_exporter": "python",
   "pygments_lexer": "ipython3",
   "version": "3.8.8"
  }
 },
 "nbformat": 4,
 "nbformat_minor": 4
}
