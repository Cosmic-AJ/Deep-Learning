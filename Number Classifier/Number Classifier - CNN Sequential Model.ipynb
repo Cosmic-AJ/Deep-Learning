{
 "cells": [
  {
   "cell_type": "markdown",
   "metadata": {},
   "source": [
    "# Number Classifier"
   ]
  },
  {
   "cell_type": "code",
   "execution_count": 6,
   "metadata": {},
   "outputs": [],
   "source": [
    "import numpy as np\n",
    "import pandas as pd\n",
    "import matplotlib.pyplot as plt\n",
    "import tensorflow as tf\n",
    "from tensorflow import keras\n",
    "plt.style.use('dark_background')\n",
    "import warnings\n",
    "warnings.filterwarnings(action = 'ignore')"
   ]
  },
  {
   "cell_type": "code",
   "execution_count": 7,
   "metadata": {},
   "outputs": [
    {
     "data": {
      "text/plain": [
       "'2.3.0'"
      ]
     },
     "execution_count": 7,
     "metadata": {},
     "output_type": "execute_result"
    }
   ],
   "source": [
    "tf.__version__"
   ]
  },
  {
   "cell_type": "code",
   "execution_count": 8,
   "metadata": {},
   "outputs": [
    {
     "data": {
      "text/plain": [
       "'2.4.0'"
      ]
     },
     "execution_count": 8,
     "metadata": {},
     "output_type": "execute_result"
    }
   ],
   "source": [
    "keras.__version__"
   ]
  },
  {
   "cell_type": "code",
   "execution_count": 9,
   "metadata": {},
   "outputs": [],
   "source": [
    "digit_mnist = keras.datasets.mnist"
   ]
  },
  {
   "cell_type": "code",
   "execution_count": 10,
   "metadata": {},
   "outputs": [],
   "source": [
    "(X_train_full, y_train_full), (X_test, y_test) = digit_mnist.load_data()"
   ]
  },
  {
   "cell_type": "code",
   "execution_count": 11,
   "metadata": {},
   "outputs": [
    {
     "data": {
      "text/plain": [
       "<matplotlib.image.AxesImage at 0x270539e64c0>"
      ]
     },
     "execution_count": 11,
     "metadata": {},
     "output_type": "execute_result"
    },
    {
     "data": {
      "image/png": "[encoded data removed]",
      "text/plain": [
       "<Figure size 432x288 with 1 Axes>"
      ]
     },
     "metadata": {},
     "output_type": "display_data"
    }
   ],
   "source": [
    "plt.imshow(X_train_full[0])"
   ]
  },
  {
   "cell_type": "code",
   "execution_count": 12,
   "metadata": {},
   "outputs": [
    {
     "data": {
      "text/plain": [
       "5"
      ]
     },
     "execution_count": 12,
     "metadata": {},
     "output_type": "execute_result"
    }
   ],
   "source": [
    "y_train_full[0]"
   ]
  },
  {
   "cell_type": "code",
   "execution_count": 13,
   "metadata": {},
   "outputs": [
    {
     "data": {
      "text/plain": [
       "(60000, 28, 28)"
      ]
     },
     "execution_count": 13,
     "metadata": {},
     "output_type": "execute_result"
    }
   ],
   "source": [
    "X_train_full.shape"
   ]
  },
  {
   "cell_type": "code",
   "execution_count": 15,
   "metadata": {},
   "outputs": [
    {
     "data": {
      "text/plain": [
       "(10000, 28, 28)"
      ]
     },
     "execution_count": 15,
     "metadata": {},
     "output_type": "execute_result"
    }
   ],
   "source": [
    "X_test.shape"
   ]
  },
  {
   "cell_type": "code",
   "execution_count": 16,
   "metadata": {},
   "outputs": [],
   "source": [
    "X_train_full = X_train_full.reshape((60000, 28, 28, 1))\n",
    "X_test = X_test.reshape((10000, 28, 28, 1))"
   ]
  },
  {
   "cell_type": "code",
   "execution_count": 17,
   "metadata": {},
   "outputs": [],
   "source": [
    "X_train_full = X_train_full/255.\n",
    "X_test = X_test/255."
   ]
  },
  {
   "cell_type": "code",
   "execution_count": 18,
   "metadata": {},
   "outputs": [],
   "source": [
    "x_valid, X_train = X_train_full[:6000], X_train_full[6000:]\n",
    "y_valid, y_train = y_train_full[:6000], y_train_full[6000:]"
   ]
  },
  {
   "cell_type": "code",
   "execution_count": 19,
   "metadata": {},
   "outputs": [],
   "source": [
    "np.random.seed(42)\n",
    "tf.random.set_seed(42)"
   ]
  },
  {
   "cell_type": "markdown",
   "metadata": {},
   "source": [
    "## Model 1 with 32 filters"
   ]
  },
  {
   "cell_type": "code",
   "execution_count": 22,
   "metadata": {},
   "outputs": [],
   "source": [
    "model_a = keras.models.Sequential()\n",
    "model_a.add(keras.layers.Conv2D(filters=32, kernel_size=(3, 3), strides=1, padding=\"valid\", activation=\"relu\",\n",
    "                               input_shape=(28, 28, 1)))\n",
    "model_a.add(keras.layers.MaxPooling2D((2, 2)))\n",
    "model_a.add(keras.layers.Flatten())\n",
    "model_a.add(keras.layers.Dense(200, activation=\"relu\"))\n",
    "model_a.add(keras.layers.Dense(100, activation=\"relu\"))\n",
    "model_a.add(keras.layers.Dense(10, activation=\"softmax\"))"
   ]
  },
  {
   "cell_type": "code",
   "execution_count": 23,
   "metadata": {},
   "outputs": [
    {
     "name": "stdout",
     "output_type": "stream",
     "text": [
      "Model: \"sequential_1\"\n",
      "_________________________________________________________________\n",
      "Layer (type)                 Output Shape              Param #   \n",
      "=================================================================\n",
      "conv2d_1 (Conv2D)            (None, 26, 26, 32)        320       \n",
      "_________________________________________________________________\n",
      "max_pooling2d_1 (MaxPooling2 (None, 13, 13, 32)        0         \n",
      "_________________________________________________________________\n",
      "flatten (Flatten)            (None, 5408)              0         \n",
      "_________________________________________________________________\n",
      "dense_3 (Dense)              (None, 200)               1081800   \n",
      "_________________________________________________________________\n",
      "dense_4 (Dense)              (None, 100)               20100     \n",
      "_________________________________________________________________\n",
      "dense_5 (Dense)              (None, 10)                1010      \n",
      "=================================================================\n",
      "Total params: 1,103,230\n",
      "Trainable params: 1,103,230\n",
      "Non-trainable params: 0\n",
      "_________________________________________________________________\n"
     ]
    }
   ],
   "source": [
    "model_a.summary()"
   ]
  },
  {
   "cell_type": "code",
   "execution_count": 27,
   "metadata": {},
   "outputs": [
    {
     "data": {
      "image/png": "[encoded data removed]",
      "text/plain": [
       "<IPython.core.display.Image object>"
      ]
     },
     "execution_count": 27,
     "metadata": {},
     "output_type": "execute_result"
    }
   ],
   "source": [
    "import pydot\n",
    "keras.utils.plot_model(model_a)"
   ]
  },
  {
   "cell_type": "code",
   "execution_count": 26,
   "metadata": {},
   "outputs": [],
   "source": [
    "model_a.compile(loss=\"sparse_categorical_crossentropy\",\n",
    "              optimizer=\"sgd\",\n",
    "              metrics=[\"accuracy\"])"
   ]
  },
  {
   "cell_type": "code",
   "execution_count": 28,
   "metadata": {},
   "outputs": [
    {
     "name": "stdout",
     "output_type": "stream",
     "text": [
      "Epoch 1/60\n",
      "1688/1688 [==============================] - 32s 19ms/step - loss: 0.5003 - accuracy: 0.8606 - val_loss: 0.2206 - val_accuracy: 0.9357\n",
      "Epoch 2/60\n",
      "1688/1688 [==============================] - 33s 19ms/step - loss: 0.2040 - accuracy: 0.9393 - val_loss: 0.1658 - val_accuracy: 0.9530\n",
      "Epoch 3/60\n",
      "1688/1688 [==============================] - 33s 20ms/step - loss: 0.1504 - accuracy: 0.9550 - val_loss: 0.1271 - val_accuracy: 0.9655\n",
      "Epoch 4/60\n",
      "1688/1688 [==============================] - 33s 19ms/step - loss: 0.1213 - accuracy: 0.9637 - val_loss: 0.1031 - val_accuracy: 0.9703\n",
      "Epoch 5/60\n",
      "1688/1688 [==============================] - 30s 18ms/step - loss: 0.1020 - accuracy: 0.9685 - val_loss: 0.0952 - val_accuracy: 0.9712\n",
      "Epoch 6/60\n",
      "1688/1688 [==============================] - 29s 17ms/step - loss: 0.0873 - accuracy: 0.9729 - val_loss: 0.0828 - val_accuracy: 0.9730\n",
      "Epoch 7/60\n",
      "1688/1688 [==============================] - 27s 16ms/step - loss: 0.0773 - accuracy: 0.9761 - val_loss: 0.0963 - val_accuracy: 0.9697\n",
      "Epoch 8/60\n",
      "1688/1688 [==============================] - 28s 16ms/step - loss: 0.0687 - accuracy: 0.9791 - val_loss: 0.0721 - val_accuracy: 0.9783\n",
      "Epoch 9/60\n",
      "1688/1688 [==============================] - 28s 17ms/step - loss: 0.0618 - accuracy: 0.9811 - val_loss: 0.0778 - val_accuracy: 0.9767\n",
      "Epoch 10/60\n",
      "1688/1688 [==============================] - 29s 17ms/step - loss: 0.0563 - accuracy: 0.9822 - val_loss: 0.0689 - val_accuracy: 0.9788\n",
      "Epoch 11/60\n",
      "1688/1688 [==============================] - 28s 17ms/step - loss: 0.0505 - accuracy: 0.9843 - val_loss: 0.0641 - val_accuracy: 0.9793\n",
      "Epoch 12/60\n",
      "1688/1688 [==============================] - 30s 18ms/step - loss: 0.0466 - accuracy: 0.9854 - val_loss: 0.0677 - val_accuracy: 0.9792\n",
      "Epoch 13/60\n",
      "1688/1688 [==============================] - 33s 19ms/step - loss: 0.0419 - accuracy: 0.9869 - val_loss: 0.0654 - val_accuracy: 0.9803\n",
      "Epoch 14/60\n",
      "1688/1688 [==============================] - 29s 17ms/step - loss: 0.0384 - accuracy: 0.9877 - val_loss: 0.0590 - val_accuracy: 0.9820\n",
      "Epoch 15/60\n",
      "1688/1688 [==============================] - 30s 18ms/step - loss: 0.0359 - accuracy: 0.9889 - val_loss: 0.0597 - val_accuracy: 0.9817\n",
      "Epoch 16/60\n",
      "1688/1688 [==============================] - 32s 19ms/step - loss: 0.0330 - accuracy: 0.9897 - val_loss: 0.0608 - val_accuracy: 0.9812\n",
      "Epoch 17/60\n",
      "1688/1688 [==============================] - 33s 19ms/step - loss: 0.0303 - accuracy: 0.9906 - val_loss: 0.0648 - val_accuracy: 0.9795\n",
      "Epoch 18/60\n",
      "1688/1688 [==============================] - 30s 18ms/step - loss: 0.0269 - accuracy: 0.9918 - val_loss: 0.0576 - val_accuracy: 0.9825\n",
      "Epoch 19/60\n",
      "1688/1688 [==============================] - 30s 18ms/step - loss: 0.0253 - accuracy: 0.9924 - val_loss: 0.0696 - val_accuracy: 0.9793\n",
      "Epoch 20/60\n",
      "1688/1688 [==============================] - 34s 20ms/step - loss: 0.0234 - accuracy: 0.9930 - val_loss: 0.0593 - val_accuracy: 0.9838\n",
      "Epoch 21/60\n",
      "1688/1688 [==============================] - 30s 18ms/step - loss: 0.0213 - accuracy: 0.9938 - val_loss: 0.0575 - val_accuracy: 0.9827\n",
      "Epoch 22/60\n",
      "1688/1688 [==============================] - 31s 19ms/step - loss: 0.0194 - accuracy: 0.9945 - val_loss: 0.0568 - val_accuracy: 0.9835\n",
      "Epoch 23/60\n",
      "1688/1688 [==============================] - 31s 19ms/step - loss: 0.0190 - accuracy: 0.9944 - val_loss: 0.0652 - val_accuracy: 0.9823\n",
      "Epoch 24/60\n",
      "1688/1688 [==============================] - 29s 17ms/step - loss: 0.0160 - accuracy: 0.9959 - val_loss: 0.0601 - val_accuracy: 0.9825\n",
      "Epoch 25/60\n",
      "1688/1688 [==============================] - 30s 18ms/step - loss: 0.0157 - accuracy: 0.9959 - val_loss: 0.0606 - val_accuracy: 0.9820\n",
      "Epoch 26/60\n",
      "1688/1688 [==============================] - 31s 18ms/step - loss: 0.0144 - accuracy: 0.9962 - val_loss: 0.0594 - val_accuracy: 0.9825\n",
      "Epoch 27/60\n",
      "1688/1688 [==============================] - 31s 18ms/step - loss: 0.0128 - accuracy: 0.9968 - val_loss: 0.0589 - val_accuracy: 0.9838\n",
      "Epoch 28/60\n",
      "1688/1688 [==============================] - 27s 16ms/step - loss: 0.0117 - accuracy: 0.9971 - val_loss: 0.0574 - val_accuracy: 0.9843\n",
      "Epoch 29/60\n",
      "1688/1688 [==============================] - 34s 20ms/step - loss: 0.0109 - accuracy: 0.9971 - val_loss: 0.0609 - val_accuracy: 0.9835\n",
      "Epoch 30/60\n",
      "1688/1688 [==============================] - 31s 18ms/step - loss: 0.0096 - accuracy: 0.9976 - val_loss: 0.0643 - val_accuracy: 0.9837\n",
      "Epoch 31/60\n",
      "1688/1688 [==============================] - 31s 18ms/step - loss: 0.0086 - accuracy: 0.9981 - val_loss: 0.0574 - val_accuracy: 0.9833\n",
      "Epoch 32/60\n",
      "1688/1688 [==============================] - 33s 19ms/step - loss: 0.0089 - accuracy: 0.9979 - val_loss: 0.0765 - val_accuracy: 0.9812\n",
      "Epoch 33/60\n",
      "1688/1688 [==============================] - 32s 19ms/step - loss: 0.0072 - accuracy: 0.9986 - val_loss: 0.0842 - val_accuracy: 0.9773\n",
      "Epoch 34/60\n",
      "1688/1688 [==============================] - 32s 19ms/step - loss: 0.0067 - accuracy: 0.9987 - val_loss: 0.0620 - val_accuracy: 0.9837\n",
      "Epoch 35/60\n",
      "1688/1688 [==============================] - 30s 18ms/step - loss: 0.0057 - accuracy: 0.9988 - val_loss: 0.0618 - val_accuracy: 0.9843\n",
      "Epoch 36/60\n",
      "1688/1688 [==============================] - 31s 18ms/step - loss: 0.0054 - accuracy: 0.9990 - val_loss: 0.0707 - val_accuracy: 0.9828\n",
      "Epoch 37/60\n",
      "1688/1688 [==============================] - 29s 17ms/step - loss: 0.0059 - accuracy: 0.9988 - val_loss: 0.0640 - val_accuracy: 0.9837\n",
      "Epoch 38/60\n",
      "1688/1688 [==============================] - 28s 17ms/step - loss: 0.0044 - accuracy: 0.9994 - val_loss: 0.0629 - val_accuracy: 0.9837\n",
      "Epoch 39/60\n",
      "1688/1688 [==============================] - 33s 19ms/step - loss: 0.0040 - accuracy: 0.9994 - val_loss: 0.0616 - val_accuracy: 0.9847\n",
      "Epoch 40/60\n",
      "1688/1688 [==============================] - 31s 18ms/step - loss: 0.0036 - accuracy: 0.9995 - val_loss: 0.0624 - val_accuracy: 0.9847\n",
      "Epoch 41/60\n",
      "1688/1688 [==============================] - 31s 18ms/step - loss: 0.0035 - accuracy: 0.9994 - val_loss: 0.0623 - val_accuracy: 0.9845\n",
      "Epoch 42/60\n",
      "1688/1688 [==============================] - 30s 18ms/step - loss: 0.0030 - accuracy: 0.9997 - val_loss: 0.0650 - val_accuracy: 0.9832\n",
      "Epoch 43/60\n",
      "1688/1688 [==============================] - 31s 18ms/step - loss: 0.0029 - accuracy: 0.9996 - val_loss: 0.0646 - val_accuracy: 0.9833\n",
      "Epoch 44/60\n",
      "1688/1688 [==============================] - 32s 19ms/step - loss: 0.0027 - accuracy: 0.9997 - val_loss: 0.0646 - val_accuracy: 0.9840\n",
      "Epoch 45/60\n",
      "1688/1688 [==============================] - 29s 17ms/step - loss: 0.0025 - accuracy: 0.9997 - val_loss: 0.0637 - val_accuracy: 0.9842\n",
      "Epoch 46/60\n",
      "1688/1688 [==============================] - 28s 16ms/step - loss: 0.0028 - accuracy: 0.9996 - val_loss: 0.0649 - val_accuracy: 0.9848\n",
      "Epoch 47/60\n",
      "1688/1688 [==============================] - 27s 16ms/step - loss: 0.0022 - accuracy: 0.9998 - val_loss: 0.0648 - val_accuracy: 0.9847\n",
      "Epoch 48/60\n",
      "1688/1688 [==============================] - 27s 16ms/step - loss: 0.0019 - accuracy: 0.9998 - val_loss: 0.0667 - val_accuracy: 0.9843\n",
      "Epoch 49/60\n",
      "1688/1688 [==============================] - 30s 18ms/step - loss: 0.0015 - accuracy: 0.9999 - val_loss: 0.0653 - val_accuracy: 0.9848\n",
      "Epoch 50/60\n",
      "1688/1688 [==============================] - 26s 16ms/step - loss: 0.0016 - accuracy: 0.9999 - val_loss: 0.0679 - val_accuracy: 0.9847\n",
      "Epoch 51/60\n",
      "1688/1688 [==============================] - 31s 18ms/step - loss: 0.0016 - accuracy: 0.9999 - val_loss: 0.0659 - val_accuracy: 0.9850\n",
      "Epoch 52/60\n",
      "1688/1688 [==============================] - 28s 17ms/step - loss: 0.0014 - accuracy: 0.9999 - val_loss: 0.0667 - val_accuracy: 0.9845\n",
      "Epoch 53/60\n",
      "1688/1688 [==============================] - 30s 18ms/step - loss: 0.0013 - accuracy: 0.9999 - val_loss: 0.0676 - val_accuracy: 0.9847\n",
      "Epoch 54/60\n",
      "1688/1688 [==============================] - 26s 16ms/step - loss: 0.0012 - accuracy: 0.9999 - val_loss: 0.0668 - val_accuracy: 0.9842\n",
      "Epoch 55/60\n",
      "1688/1688 [==============================] - 29s 17ms/step - loss: 0.0012 - accuracy: 0.9999 - val_loss: 0.0660 - val_accuracy: 0.9848\n",
      "Epoch 56/60\n",
      "1688/1688 [==============================] - 28s 17ms/step - loss: 0.0011 - accuracy: 0.9999 - val_loss: 0.0682 - val_accuracy: 0.9852\n",
      "Epoch 57/60\n",
      "1688/1688 [==============================] - 28s 17ms/step - loss: 0.0011 - accuracy: 1.0000 - val_loss: 0.0679 - val_accuracy: 0.9845\n",
      "Epoch 58/60\n",
      "1688/1688 [==============================] - 28s 17ms/step - loss: 0.0011 - accuracy: 0.9999 - val_loss: 0.0669 - val_accuracy: 0.9845\n",
      "Epoch 59/60\n",
      "1688/1688 [==============================] - 28s 17ms/step - loss: 0.0010 - accuracy: 0.9999 - val_loss: 0.0680 - val_accuracy: 0.9842\n",
      "Epoch 60/60\n",
      "1688/1688 [==============================] - 28s 17ms/step - loss: 8.6447e-04 - accuracy: 1.0000 - val_loss: 0.0686 - val_accuracy: 0.9842\n"
     ]
    }
   ],
   "source": [
    "model_a_history = model_a.fit(X_train, y_train, epochs=60, #batch_size=64\n",
    "                             validation_data=(x_valid, y_valid))"
   ]
  },
  {
   "cell_type": "code",
   "execution_count": 29,
   "metadata": {},
   "outputs": [
    {
     "data": {
      "text/plain": [
       "{'verbose': 1, 'epochs': 60, 'steps': 1688}"
      ]
     },
     "execution_count": 29,
     "metadata": {},
     "output_type": "execute_result"
    }
   ],
   "source": [
    "model_a_history.params"
   ]
  },
  {
   "cell_type": "code",
   "execution_count": 30,
   "metadata": {},
   "outputs": [
    {
     "data": {
      "text/plain": [
       "{'loss': [0.5003190636634827,\n",
       "  0.20399390161037445,\n",
       "  0.15037770569324493,\n",
       "  0.12125671654939651,\n",
       "  0.10200871527194977,\n",
       "  0.08726629614830017,\n",
       "  0.07730044424533844,\n",
       "  0.06867966055870056,\n",
       "  0.06176476180553436,\n",
       "  0.05634862557053566,\n",
       "  0.05053131282329559,\n",
       "  0.04664928466081619,\n",
       "  0.041927266865968704,\n",
       "  0.038358770310878754,\n",
       "  0.03591792657971382,\n",
       "  0.03301788866519928,\n",
       "  0.030277123674750328,\n",
       "  0.0269280057400465,\n",
       "  0.025263119488954544,\n",
       "  0.023444589227437973,\n",
       "  0.021336007863283157,\n",
       "  0.019356613978743553,\n",
       "  0.01896054483950138,\n",
       "  0.015974752604961395,\n",
       "  0.015720384195446968,\n",
       "  0.014428634196519852,\n",
       "  0.012761152349412441,\n",
       "  0.01166551187634468,\n",
       "  0.0108850859105587,\n",
       "  0.009587095119059086,\n",
       "  0.008605504408478737,\n",
       "  0.008937856182456017,\n",
       "  0.007177025079727173,\n",
       "  0.006658982019871473,\n",
       "  0.005682808347046375,\n",
       "  0.00543988635763526,\n",
       "  0.005885946098715067,\n",
       "  0.00439748028293252,\n",
       "  0.0039873248897492886,\n",
       "  0.003616779576987028,\n",
       "  0.003467925125733018,\n",
       "  0.0030131160747259855,\n",
       "  0.0028579458594322205,\n",
       "  0.0027460625860840082,\n",
       "  0.0024648031685501337,\n",
       "  0.002778770634904504,\n",
       "  0.0021951375529170036,\n",
       "  0.001885431818664074,\n",
       "  0.0015496284468099475,\n",
       "  0.0016202812548726797,\n",
       "  0.0015858819242566824,\n",
       "  0.0013584387488663197,\n",
       "  0.0013196037616580725,\n",
       "  0.0012031333753839135,\n",
       "  0.0012146213557571173,\n",
       "  0.0011243645567446947,\n",
       "  0.0010742683662101626,\n",
       "  0.001068086363375187,\n",
       "  0.0010147575521841645,\n",
       "  0.0008644736371934414],\n",
       " 'accuracy': [0.8605555295944214,\n",
       "  0.9393333196640015,\n",
       "  0.9550370573997498,\n",
       "  0.9637036919593811,\n",
       "  0.9684814810752869,\n",
       "  0.9729074239730835,\n",
       "  0.9761296510696411,\n",
       "  0.9791481494903564,\n",
       "  0.9810925722122192,\n",
       "  0.9822037220001221,\n",
       "  0.9842777848243713,\n",
       "  0.9854259490966797,\n",
       "  0.986907422542572,\n",
       "  0.987666666507721,\n",
       "  0.9888518452644348,\n",
       "  0.9897222518920898,\n",
       "  0.9906296133995056,\n",
       "  0.991777777671814,\n",
       "  0.9924444556236267,\n",
       "  0.9930370450019836,\n",
       "  0.9938333630561829,\n",
       "  0.9944629669189453,\n",
       "  0.9944074153900146,\n",
       "  0.9958703517913818,\n",
       "  0.9959259033203125,\n",
       "  0.9961851835250854,\n",
       "  0.9968147873878479,\n",
       "  0.9971110820770264,\n",
       "  0.9971296191215515,\n",
       "  0.997592568397522,\n",
       "  0.9980925917625427,\n",
       "  0.9978518486022949,\n",
       "  0.9985926151275635,\n",
       "  0.9986666440963745,\n",
       "  0.9988148212432861,\n",
       "  0.9990370273590088,\n",
       "  0.9987592697143555,\n",
       "  0.9994259476661682,\n",
       "  0.9993703961372375,\n",
       "  0.9994814991950989,\n",
       "  0.9994259476661682,\n",
       "  0.999666690826416,\n",
       "  0.9996481537818909,\n",
       "  0.9996851682662964,\n",
       "  0.9996851682662964,\n",
       "  0.9995926022529602,\n",
       "  0.9997777938842773,\n",
       "  0.999833345413208,\n",
       "  0.9999259114265442,\n",
       "  0.9998518228530884,\n",
       "  0.9998888969421387,\n",
       "  0.9999074339866638,\n",
       "  0.9999259114265442,\n",
       "  0.9999444484710693,\n",
       "  0.9999259114265442,\n",
       "  0.9999074339866638,\n",
       "  0.9999629855155945,\n",
       "  0.9999259114265442,\n",
       "  0.9999444484710693,\n",
       "  0.9999814629554749],\n",
       " 'val_loss': [0.2205931544303894,\n",
       "  0.16582457721233368,\n",
       "  0.12713828682899475,\n",
       "  0.10308383405208588,\n",
       "  0.0951777920126915,\n",
       "  0.08276766538619995,\n",
       "  0.09626138210296631,\n",
       "  0.07207481563091278,\n",
       "  0.07775513082742691,\n",
       "  0.06894560903310776,\n",
       "  0.0640796646475792,\n",
       "  0.0677291601896286,\n",
       "  0.06539396941661835,\n",
       "  0.0589735247194767,\n",
       "  0.059749506413936615,\n",
       "  0.06078331172466278,\n",
       "  0.06479369848966599,\n",
       "  0.057597916573286057,\n",
       "  0.06961052119731903,\n",
       "  0.0592980720102787,\n",
       "  0.05745192989706993,\n",
       "  0.05684378743171692,\n",
       "  0.06521259993314743,\n",
       "  0.06010158732533455,\n",
       "  0.060611069202423096,\n",
       "  0.05943917855620384,\n",
       "  0.05886802077293396,\n",
       "  0.05741921812295914,\n",
       "  0.06090705841779709,\n",
       "  0.06427329778671265,\n",
       "  0.0574457086622715,\n",
       "  0.07653864473104477,\n",
       "  0.08416085690259933,\n",
       "  0.06197161227464676,\n",
       "  0.06181292608380318,\n",
       "  0.07073840498924255,\n",
       "  0.06399303674697876,\n",
       "  0.06293272227048874,\n",
       "  0.06155325472354889,\n",
       "  0.06237088516354561,\n",
       "  0.062341172248125076,\n",
       "  0.06503093987703323,\n",
       "  0.06457927823066711,\n",
       "  0.06462643295526505,\n",
       "  0.06367441266775131,\n",
       "  0.0648946538567543,\n",
       "  0.06479781866073608,\n",
       "  0.06674008816480637,\n",
       "  0.0653148666024208,\n",
       "  0.06789664179086685,\n",
       "  0.0658816397190094,\n",
       "  0.06673797965049744,\n",
       "  0.06758381426334381,\n",
       "  0.06677862256765366,\n",
       "  0.06596031039953232,\n",
       "  0.06818851828575134,\n",
       "  0.06786242127418518,\n",
       "  0.06687760353088379,\n",
       "  0.06801635026931763,\n",
       "  0.06864842772483826],\n",
       " 'val_accuracy': [0.9356666803359985,\n",
       "  0.953000009059906,\n",
       "  0.965499997138977,\n",
       "  0.9703333377838135,\n",
       "  0.9711666703224182,\n",
       "  0.9729999899864197,\n",
       "  0.9696666598320007,\n",
       "  0.9783333539962769,\n",
       "  0.9766666889190674,\n",
       "  0.9788333177566528,\n",
       "  0.9793333411216736,\n",
       "  0.9791666865348816,\n",
       "  0.9803333282470703,\n",
       "  0.9819999933242798,\n",
       "  0.9816666841506958,\n",
       "  0.981166660785675,\n",
       "  0.9794999957084656,\n",
       "  0.9825000166893005,\n",
       "  0.9793333411216736,\n",
       "  0.9838333129882812,\n",
       "  0.9826666712760925,\n",
       "  0.9835000038146973,\n",
       "  0.9823333621025085,\n",
       "  0.9825000166893005,\n",
       "  0.9819999933242798,\n",
       "  0.9825000166893005,\n",
       "  0.9838333129882812,\n",
       "  0.984333336353302,\n",
       "  0.9835000038146973,\n",
       "  0.9836666584014893,\n",
       "  0.9833333492279053,\n",
       "  0.981166660785675,\n",
       "  0.9773333072662354,\n",
       "  0.9836666584014893,\n",
       "  0.984333336353302,\n",
       "  0.9828333258628845,\n",
       "  0.9836666584014893,\n",
       "  0.9836666584014893,\n",
       "  0.984666645526886,\n",
       "  0.984666645526886,\n",
       "  0.984499990940094,\n",
       "  0.9831666946411133,\n",
       "  0.9833333492279053,\n",
       "  0.984000027179718,\n",
       "  0.98416668176651,\n",
       "  0.9848333597183228,\n",
       "  0.984666645526886,\n",
       "  0.984333336353302,\n",
       "  0.9848333597183228,\n",
       "  0.984666645526886,\n",
       "  0.9850000143051147,\n",
       "  0.984499990940094,\n",
       "  0.984666645526886,\n",
       "  0.98416668176651,\n",
       "  0.9848333597183228,\n",
       "  0.9851666688919067,\n",
       "  0.984499990940094,\n",
       "  0.984499990940094,\n",
       "  0.98416668176651,\n",
       "  0.98416668176651]}"
      ]
     },
     "execution_count": 30,
     "metadata": {},
     "output_type": "execute_result"
    }
   ],
   "source": [
    "model_a_history.history"
   ]
  },
  {
   "cell_type": "code",
   "execution_count": 32,
   "metadata": {},
   "outputs": [
    {
     "data": {
      "image/png": "[encoded data removed]",
      "text/plain": [
       "<Figure size 576x360 with 1 Axes>"
      ]
     },
     "metadata": {},
     "output_type": "display_data"
    }
   ],
   "source": [
    "import pandas as pd\n",
    "\n",
    "pd.DataFrame(model_a_history.history).plot(figsize=(8, 5))\n",
    "plt.gca().set_ylim(0, 1)\n",
    "plt.grid(True)\n",
    "plt.show()"
   ]
  },
  {
   "cell_type": "code",
   "execution_count": 31,
   "metadata": {},
   "outputs": [
    {
     "name": "stdout",
     "output_type": "stream",
     "text": [
      "313/313 [==============================] - 2s 5ms/step - loss: 0.0633 - accuracy: 0.9849\n"
     ]
    },
    {
     "data": {
      "text/plain": [
       "[0.06332680583000183, 0.9848999977111816]"
      ]
     },
     "execution_count": 31,
     "metadata": {},
     "output_type": "execute_result"
    }
   ],
   "source": [
    "model_a.evaluate(X_test, y_test)"
   ]
  },
  {
   "cell_type": "markdown",
   "metadata": {},
   "source": [
    "## Model 2 with 64 filters"
   ]
  },
  {
   "cell_type": "code",
   "execution_count": 33,
   "metadata": {},
   "outputs": [],
   "source": [
    "model_b = keras.models.Sequential()\n",
    "model_b.add(keras.layers.Conv2D(filters=64, kernel_size=(3, 3), strides=1, padding=\"valid\", activation=\"relu\",\n",
    "                               input_shape=(28, 28, 1)))\n",
    "model_b.add(keras.layers.MaxPooling2D((2, 2)))\n",
    "model_b.add(keras.layers.Flatten())\n",
    "model_b.add(keras.layers.Dense(200, activation=\"relu\"))\n",
    "model_b.add(keras.layers.Dense(100, activation=\"relu\"))\n",
    "model_b.add(keras.layers.Dense(10, activation=\"softmax\"))"
   ]
  },
  {
   "cell_type": "code",
   "execution_count": 34,
   "metadata": {},
   "outputs": [
    {
     "name": "stdout",
     "output_type": "stream",
     "text": [
      "Model: \"sequential_2\"\n",
      "_________________________________________________________________\n",
      "Layer (type)                 Output Shape              Param #   \n",
      "=================================================================\n",
      "conv2d_2 (Conv2D)            (None, 26, 26, 64)        640       \n",
      "_________________________________________________________________\n",
      "max_pooling2d_2 (MaxPooling2 (None, 13, 13, 64)        0         \n",
      "_________________________________________________________________\n",
      "flatten_1 (Flatten)          (None, 10816)             0         \n",
      "_________________________________________________________________\n",
      "dense_6 (Dense)              (None, 200)               2163400   \n",
      "_________________________________________________________________\n",
      "dense_7 (Dense)              (None, 100)               20100     \n",
      "_________________________________________________________________\n",
      "dense_8 (Dense)              (None, 10)                1010      \n",
      "=================================================================\n",
      "Total params: 2,185,150\n",
      "Trainable params: 2,185,150\n",
      "Non-trainable params: 0\n",
      "_________________________________________________________________\n"
     ]
    }
   ],
   "source": [
    "model_b.summary()"
   ]
  },
  {
   "cell_type": "code",
   "execution_count": 35,
   "metadata": {},
   "outputs": [
    {
     "data": {
      "image/png": "[encoded data removed]",
      "text/plain": [
       "<IPython.core.display.Image object>"
      ]
     },
     "execution_count": 35,
     "metadata": {},
     "output_type": "execute_result"
    }
   ],
   "source": [
    "import pydot\n",
    "keras.utils.plot_model(model_a)"
   ]
  },
  {
   "cell_type": "code",
   "execution_count": 36,
   "metadata": {},
   "outputs": [],
   "source": [
    "model_b.compile(loss=\"sparse_categorical_crossentropy\",\n",
    "              optimizer=\"sgd\",\n",
    "              metrics=[\"accuracy\"])"
   ]
  },
  {
   "cell_type": "code",
   "execution_count": 37,
   "metadata": {},
   "outputs": [
    {
     "name": "stdout",
     "output_type": "stream",
     "text": [
      "Epoch 1/60\n",
      "1688/1688 [==============================] - 70s 41ms/step - loss: 0.4968 - accuracy: 0.8614 - val_loss: 0.2251 - val_accuracy: 0.9323\n",
      "Epoch 2/60\n",
      "1688/1688 [==============================] - 47s 28ms/step - loss: 0.2076 - accuracy: 0.9371 - val_loss: 0.1688 - val_accuracy: 0.9520\n",
      "Epoch 3/60\n",
      "1688/1688 [==============================] - 47s 28ms/step - loss: 0.1527 - accuracy: 0.9536 - val_loss: 0.1236 - val_accuracy: 0.9642\n",
      "Epoch 4/60\n",
      "1688/1688 [==============================] - 44s 26ms/step - loss: 0.1214 - accuracy: 0.9635 - val_loss: 0.1068 - val_accuracy: 0.9705\n",
      "Epoch 5/60\n",
      "1688/1688 [==============================] - 42s 25ms/step - loss: 0.1029 - accuracy: 0.9681 - val_loss: 0.0990 - val_accuracy: 0.9682\n",
      "Epoch 6/60\n",
      "1688/1688 [==============================] - 42s 25ms/step - loss: 0.0881 - accuracy: 0.9728 - val_loss: 0.0836 - val_accuracy: 0.9752\n",
      "Epoch 7/60\n",
      "1688/1688 [==============================] - 47s 28ms/step - loss: 0.0774 - accuracy: 0.9759 - val_loss: 0.0811 - val_accuracy: 0.9760\n",
      "Epoch 8/60\n",
      "1688/1688 [==============================] - 46s 27ms/step - loss: 0.0692 - accuracy: 0.9788 - val_loss: 0.0756 - val_accuracy: 0.9767\n",
      "Epoch 9/60\n",
      "1688/1688 [==============================] - 43s 26ms/step - loss: 0.0627 - accuracy: 0.9805 - val_loss: 0.0779 - val_accuracy: 0.9745\n",
      "Epoch 10/60\n",
      "1688/1688 [==============================] - 55s 33ms/step - loss: 0.0561 - accuracy: 0.9822 - val_loss: 0.0719 - val_accuracy: 0.9773\n",
      "Epoch 11/60\n",
      "1688/1688 [==============================] - 48s 28ms/step - loss: 0.0505 - accuracy: 0.9840 - val_loss: 0.0621 - val_accuracy: 0.9817\n",
      "Epoch 12/60\n",
      "1688/1688 [==============================] - 45s 27ms/step - loss: 0.0466 - accuracy: 0.9855 - val_loss: 0.0701 - val_accuracy: 0.9792\n",
      "Epoch 13/60\n",
      "1688/1688 [==============================] - 53s 31ms/step - loss: 0.0416 - accuracy: 0.9870 - val_loss: 0.0753 - val_accuracy: 0.9763\n",
      "Epoch 14/60\n",
      "1688/1688 [==============================] - 52s 31ms/step - loss: 0.0385 - accuracy: 0.9880 - val_loss: 0.0591 - val_accuracy: 0.9835\n",
      "Epoch 15/60\n",
      "1688/1688 [==============================] - 53s 32ms/step - loss: 0.0353 - accuracy: 0.9895 - val_loss: 0.0597 - val_accuracy: 0.9818\n",
      "Epoch 16/60\n",
      "1688/1688 [==============================] - 65s 38ms/step - loss: 0.0328 - accuracy: 0.9901 - val_loss: 0.0589 - val_accuracy: 0.9825\n",
      "Epoch 17/60\n",
      "1688/1688 [==============================] - 67s 40ms/step - loss: 0.0300 - accuracy: 0.9907 - val_loss: 0.0620 - val_accuracy: 0.9810\n",
      "Epoch 18/60\n",
      "1688/1688 [==============================] - 63s 37ms/step - loss: 0.0267 - accuracy: 0.9919 - val_loss: 0.0565 - val_accuracy: 0.9832\n",
      "Epoch 19/60\n",
      "1688/1688 [==============================] - 50s 30ms/step - loss: 0.0257 - accuracy: 0.9922 - val_loss: 0.0739 - val_accuracy: 0.9785\n",
      "Epoch 20/60\n",
      "1688/1688 [==============================] - 49s 29ms/step - loss: 0.0225 - accuracy: 0.9935 - val_loss: 0.0586 - val_accuracy: 0.9823\n",
      "Epoch 21/60\n",
      "1688/1688 [==============================] - 48s 29ms/step - loss: 0.0217 - accuracy: 0.9934 - val_loss: 0.0617 - val_accuracy: 0.9823\n",
      "Epoch 22/60\n",
      "1688/1688 [==============================] - 45s 27ms/step - loss: 0.0192 - accuracy: 0.9943 - val_loss: 0.0567 - val_accuracy: 0.9832\n",
      "Epoch 23/60\n",
      "1688/1688 [==============================] - 46s 27ms/step - loss: 0.0190 - accuracy: 0.9945 - val_loss: 0.0692 - val_accuracy: 0.9827\n",
      "Epoch 24/60\n",
      "1688/1688 [==============================] - 49s 29ms/step - loss: 0.0159 - accuracy: 0.9957 - val_loss: 0.0625 - val_accuracy: 0.9818\n",
      "Epoch 25/60\n",
      "1688/1688 [==============================] - 48s 28ms/step - loss: 0.0158 - accuracy: 0.9956 - val_loss: 0.0621 - val_accuracy: 0.9840\n",
      "Epoch 26/60\n",
      "1688/1688 [==============================] - 52s 31ms/step - loss: 0.0143 - accuracy: 0.9963 - val_loss: 0.0642 - val_accuracy: 0.9808\n",
      "Epoch 27/60\n",
      "1688/1688 [==============================] - 54s 32ms/step - loss: 0.0124 - accuracy: 0.9969 - val_loss: 0.0573 - val_accuracy: 0.9838\n",
      "Epoch 28/60\n",
      "1688/1688 [==============================] - 55s 32ms/step - loss: 0.0113 - accuracy: 0.9973 - val_loss: 0.0717 - val_accuracy: 0.9807\n",
      "Epoch 29/60\n",
      "1688/1688 [==============================] - 51s 30ms/step - loss: 0.0105 - accuracy: 0.9974 - val_loss: 0.0630 - val_accuracy: 0.9820\n",
      "Epoch 30/60\n",
      "1688/1688 [==============================] - 50s 30ms/step - loss: 0.0097 - accuracy: 0.9978 - val_loss: 0.0631 - val_accuracy: 0.9833\n",
      "Epoch 31/60\n",
      "1688/1688 [==============================] - 50s 29ms/step - loss: 0.0084 - accuracy: 0.9981 - val_loss: 0.0625 - val_accuracy: 0.9837\n",
      "Epoch 32/60\n",
      "1688/1688 [==============================] - 51s 30ms/step - loss: 0.0082 - accuracy: 0.9982 - val_loss: 0.0636 - val_accuracy: 0.9838\n",
      "Epoch 33/60\n",
      "1688/1688 [==============================] - 54s 32ms/step - loss: 0.0069 - accuracy: 0.9984 - val_loss: 0.0652 - val_accuracy: 0.9837\n",
      "Epoch 34/60\n",
      "1688/1688 [==============================] - 50s 30ms/step - loss: 0.0066 - accuracy: 0.9988 - val_loss: 0.0656 - val_accuracy: 0.9830\n",
      "Epoch 35/60\n",
      "1688/1688 [==============================] - 49s 29ms/step - loss: 0.0058 - accuracy: 0.9989 - val_loss: 0.0598 - val_accuracy: 0.9843\n",
      "Epoch 36/60\n",
      "1688/1688 [==============================] - 51s 30ms/step - loss: 0.0054 - accuracy: 0.9991 - val_loss: 0.0656 - val_accuracy: 0.9832\n",
      "Epoch 37/60\n",
      "1688/1688 [==============================] - 48s 29ms/step - loss: 0.0056 - accuracy: 0.9989 - val_loss: 0.0664 - val_accuracy: 0.9830\n",
      "Epoch 38/60\n",
      "1688/1688 [==============================] - 48s 28ms/step - loss: 0.0045 - accuracy: 0.9993 - val_loss: 0.0685 - val_accuracy: 0.9832\n",
      "Epoch 39/60\n",
      "1688/1688 [==============================] - 50s 30ms/step - loss: 0.0043 - accuracy: 0.9992 - val_loss: 0.0638 - val_accuracy: 0.9850\n",
      "Epoch 40/60\n",
      "1688/1688 [==============================] - 49s 29ms/step - loss: 0.0035 - accuracy: 0.9996 - val_loss: 0.0634 - val_accuracy: 0.9847\n",
      "Epoch 41/60\n",
      "1688/1688 [==============================] - 50s 29ms/step - loss: 0.0032 - accuracy: 0.9996 - val_loss: 0.0679 - val_accuracy: 0.9835\n",
      "Epoch 42/60\n",
      "1688/1688 [==============================] - 46s 27ms/step - loss: 0.0031 - accuracy: 0.9996 - val_loss: 0.0835 - val_accuracy: 0.9795\n",
      "Epoch 43/60\n",
      "1688/1688 [==============================] - 48s 29ms/step - loss: 0.0030 - accuracy: 0.9996 - val_loss: 0.0683 - val_accuracy: 0.9840\n",
      "Epoch 44/60\n",
      "1688/1688 [==============================] - 48s 28ms/step - loss: 0.0027 - accuracy: 0.9997 - val_loss: 0.0678 - val_accuracy: 0.9850\n",
      "Epoch 45/60\n",
      "1688/1688 [==============================] - 45s 27ms/step - loss: 0.0024 - accuracy: 0.9998 - val_loss: 0.0692 - val_accuracy: 0.9845\n",
      "Epoch 46/60\n",
      "1688/1688 [==============================] - 47s 28ms/step - loss: 0.0024 - accuracy: 0.9998 - val_loss: 0.0665 - val_accuracy: 0.9852\n",
      "Epoch 47/60\n",
      "1688/1688 [==============================] - 46s 27ms/step - loss: 0.0023 - accuracy: 0.9997 - val_loss: 0.0662 - val_accuracy: 0.9847\n",
      "Epoch 48/60\n",
      "1688/1688 [==============================] - 46s 27ms/step - loss: 0.0018 - accuracy: 0.9999 - val_loss: 0.0679 - val_accuracy: 0.9852\n",
      "Epoch 49/60\n",
      "1688/1688 [==============================] - 46s 27ms/step - loss: 0.0017 - accuracy: 0.9999 - val_loss: 0.0669 - val_accuracy: 0.9843\n",
      "Epoch 50/60\n",
      "1688/1688 [==============================] - 49s 29ms/step - loss: 0.0016 - accuracy: 0.9999 - val_loss: 0.0699 - val_accuracy: 0.9847\n",
      "Epoch 51/60\n",
      "1688/1688 [==============================] - 49s 29ms/step - loss: 0.0015 - accuracy: 0.9999 - val_loss: 0.0678 - val_accuracy: 0.9855\n",
      "Epoch 52/60\n",
      "1688/1688 [==============================] - 48s 29ms/step - loss: 0.0014 - accuracy: 0.9999 - val_loss: 0.0663 - val_accuracy: 0.9867\n",
      "Epoch 53/60\n",
      "1688/1688 [==============================] - 49s 29ms/step - loss: 0.0013 - accuracy: 1.0000 - val_loss: 0.0702 - val_accuracy: 0.9842\n",
      "Epoch 54/60\n",
      "1688/1688 [==============================] - 48s 28ms/step - loss: 0.0012 - accuracy: 0.9999 - val_loss: 0.0682 - val_accuracy: 0.9853\n",
      "Epoch 55/60\n",
      "1688/1688 [==============================] - 56s 33ms/step - loss: 0.0012 - accuracy: 0.9999 - val_loss: 0.0690 - val_accuracy: 0.9847\n",
      "Epoch 56/60\n",
      "1688/1688 [==============================] - 59s 35ms/step - loss: 0.0011 - accuracy: 0.9999 - val_loss: 0.0692 - val_accuracy: 0.9857\n",
      "Epoch 57/60\n",
      "1688/1688 [==============================] - 57s 34ms/step - loss: 0.0010 - accuracy: 1.0000 - val_loss: 0.0702 - val_accuracy: 0.9855\n",
      "Epoch 58/60\n",
      "1688/1688 [==============================] - 50s 29ms/step - loss: 0.0011 - accuracy: 1.0000 - val_loss: 0.0696 - val_accuracy: 0.9847\n",
      "Epoch 59/60\n",
      "1688/1688 [==============================] - 56s 33ms/step - loss: 9.7957e-04 - accuracy: 1.0000 - val_loss: 0.0709 - val_accuracy: 0.9855\n",
      "Epoch 60/60\n",
      "1688/1688 [==============================] - 48s 29ms/step - loss: 9.2520e-04 - accuracy: 1.0000 - val_loss: 0.0718 - val_accuracy: 0.9845\n"
     ]
    }
   ],
   "source": [
    "model_b_history = model_b.fit(X_train, y_train, epochs=60, #batch_size=64\n",
    "                             validation_data=(x_valid, y_valid))"
   ]
  },
  {
   "cell_type": "code",
   "execution_count": 39,
   "metadata": {},
   "outputs": [
    {
     "data": {
      "text/plain": [
       "{'verbose': 1, 'epochs': 60, 'steps': 1688}"
      ]
     },
     "execution_count": 39,
     "metadata": {},
     "output_type": "execute_result"
    }
   ],
   "source": [
    "model_b_history.params"
   ]
  },
  {
   "cell_type": "code",
   "execution_count": 40,
   "metadata": {},
   "outputs": [
    {
     "data": {
      "text/plain": [
       "{'loss': [0.4967549443244934,\n",
       "  0.2076176106929779,\n",
       "  0.15271690487861633,\n",
       "  0.12141110002994537,\n",
       "  0.10294337570667267,\n",
       "  0.08811488002538681,\n",
       "  0.07739764451980591,\n",
       "  0.06917697191238403,\n",
       "  0.06273481249809265,\n",
       "  0.0561242438852787,\n",
       "  0.050499480217695236,\n",
       "  0.046551790088415146,\n",
       "  0.041562288999557495,\n",
       "  0.03851764276623726,\n",
       "  0.03526739403605461,\n",
       "  0.032827962189912796,\n",
       "  0.029985103756189346,\n",
       "  0.026663072407245636,\n",
       "  0.025668932124972343,\n",
       "  0.02247793599963188,\n",
       "  0.021677901968359947,\n",
       "  0.019208500161767006,\n",
       "  0.019034061580896378,\n",
       "  0.015855884179472923,\n",
       "  0.01584150642156601,\n",
       "  0.014297216199338436,\n",
       "  0.012421092949807644,\n",
       "  0.011263863183557987,\n",
       "  0.010501056909561157,\n",
       "  0.009736437350511551,\n",
       "  0.008395499549806118,\n",
       "  0.008206382393836975,\n",
       "  0.006930725183337927,\n",
       "  0.006629931274801493,\n",
       "  0.005756737664341927,\n",
       "  0.005411679390817881,\n",
       "  0.005573528818786144,\n",
       "  0.004515340551733971,\n",
       "  0.004348280373960733,\n",
       "  0.003487559501081705,\n",
       "  0.0032071189489215612,\n",
       "  0.0031178498174995184,\n",
       "  0.003041638294234872,\n",
       "  0.002729646395891905,\n",
       "  0.0023565555457025766,\n",
       "  0.0023529278114438057,\n",
       "  0.0023100078105926514,\n",
       "  0.001840242650359869,\n",
       "  0.0017068448942154646,\n",
       "  0.0016037023160606623,\n",
       "  0.0015160365728661418,\n",
       "  0.0013538636267185211,\n",
       "  0.0012640595668926835,\n",
       "  0.0012348248856142163,\n",
       "  0.0011629806831479073,\n",
       "  0.0011081580305472016,\n",
       "  0.001037395792081952,\n",
       "  0.0010585365816950798,\n",
       "  0.000979566597379744,\n",
       "  0.0009252012241631746],\n",
       " 'accuracy': [0.8614073991775513,\n",
       "  0.9370926022529602,\n",
       "  0.9536481499671936,\n",
       "  0.9634629487991333,\n",
       "  0.9681481719017029,\n",
       "  0.9727592468261719,\n",
       "  0.9758703708648682,\n",
       "  0.9788333177566528,\n",
       "  0.9804629683494568,\n",
       "  0.9822407364845276,\n",
       "  0.9840370416641235,\n",
       "  0.985537052154541,\n",
       "  0.9870370626449585,\n",
       "  0.9880185127258301,\n",
       "  0.989481508731842,\n",
       "  0.9900555610656738,\n",
       "  0.9906851649284363,\n",
       "  0.9918888807296753,\n",
       "  0.9922037124633789,\n",
       "  0.9935185313224792,\n",
       "  0.9934259057044983,\n",
       "  0.9942777752876282,\n",
       "  0.9944629669189453,\n",
       "  0.9957036972045898,\n",
       "  0.9956481456756592,\n",
       "  0.9962962865829468,\n",
       "  0.9968888759613037,\n",
       "  0.9973333477973938,\n",
       "  0.9974074363708496,\n",
       "  0.9977592825889587,\n",
       "  0.9980925917625427,\n",
       "  0.998203694820404,\n",
       "  0.9984444379806519,\n",
       "  0.998796284198761,\n",
       "  0.9989444613456726,\n",
       "  0.9990925788879395,\n",
       "  0.9989259243011475,\n",
       "  0.9992592334747314,\n",
       "  0.9992407560348511,\n",
       "  0.9995926022529602,\n",
       "  0.9995740652084351,\n",
       "  0.9996481537818909,\n",
       "  0.9995926022529602,\n",
       "  0.9997222423553467,\n",
       "  0.9997592568397522,\n",
       "  0.9997777938842773,\n",
       "  0.999666690826416,\n",
       "  0.9998888969421387,\n",
       "  0.9998518228530884,\n",
       "  0.9998888969421387,\n",
       "  0.9999259114265442,\n",
       "  0.9999259114265442,\n",
       "  0.9999629855155945,\n",
       "  0.9999074339866638,\n",
       "  0.9999444484710693,\n",
       "  0.9999444484710693,\n",
       "  0.9999814629554749,\n",
       "  0.9999814629554749,\n",
       "  1.0,\n",
       "  0.9999814629554749],\n",
       " 'val_loss': [0.22513023018836975,\n",
       "  0.16884289681911469,\n",
       "  0.1236296072602272,\n",
       "  0.10683660209178925,\n",
       "  0.09904313087463379,\n",
       "  0.08362305909395218,\n",
       "  0.08109430968761444,\n",
       "  0.07564011216163635,\n",
       "  0.07787240296602249,\n",
       "  0.07190970331430435,\n",
       "  0.0621301643550396,\n",
       "  0.07006027549505234,\n",
       "  0.07528050243854523,\n",
       "  0.059065382927656174,\n",
       "  0.059714823961257935,\n",
       "  0.058865390717983246,\n",
       "  0.061989154666662216,\n",
       "  0.056465622037649155,\n",
       "  0.07394364476203918,\n",
       "  0.05861638858914375,\n",
       "  0.06167648360133171,\n",
       "  0.05672701075673103,\n",
       "  0.06922341883182526,\n",
       "  0.06254596263170242,\n",
       "  0.06212691590189934,\n",
       "  0.06418181210756302,\n",
       "  0.05726918205618858,\n",
       "  0.07170701771974564,\n",
       "  0.06304623186588287,\n",
       "  0.06305064260959625,\n",
       "  0.06252224743366241,\n",
       "  0.06360778957605362,\n",
       "  0.06516723334789276,\n",
       "  0.06559421867132187,\n",
       "  0.05977730453014374,\n",
       "  0.06557650864124298,\n",
       "  0.06638644635677338,\n",
       "  0.06849516183137894,\n",
       "  0.06376797705888748,\n",
       "  0.06344225257635117,\n",
       "  0.06792603433132172,\n",
       "  0.08352618664503098,\n",
       "  0.0682707130908966,\n",
       "  0.06778644770383835,\n",
       "  0.0692468211054802,\n",
       "  0.0664852187037468,\n",
       "  0.0662430077791214,\n",
       "  0.06790453940629959,\n",
       "  0.0668788030743599,\n",
       "  0.06993622332811356,\n",
       "  0.06780749559402466,\n",
       "  0.06633738428354263,\n",
       "  0.0702248066663742,\n",
       "  0.06818483769893646,\n",
       "  0.06899397820234299,\n",
       "  0.06916110217571259,\n",
       "  0.07021985203027725,\n",
       "  0.06962233781814575,\n",
       "  0.07088490575551987,\n",
       "  0.07175903022289276],\n",
       " 'val_accuracy': [0.9323333501815796,\n",
       "  0.9520000219345093,\n",
       "  0.9641666412353516,\n",
       "  0.9704999923706055,\n",
       "  0.9681666493415833,\n",
       "  0.9751666784286499,\n",
       "  0.9760000109672546,\n",
       "  0.9766666889190674,\n",
       "  0.9745000004768372,\n",
       "  0.9773333072662354,\n",
       "  0.9816666841506958,\n",
       "  0.9791666865348816,\n",
       "  0.9763333201408386,\n",
       "  0.9835000038146973,\n",
       "  0.9818333387374878,\n",
       "  0.9825000166893005,\n",
       "  0.9810000061988831,\n",
       "  0.9831666946411133,\n",
       "  0.9785000085830688,\n",
       "  0.9823333621025085,\n",
       "  0.9823333621025085,\n",
       "  0.9831666946411133,\n",
       "  0.9826666712760925,\n",
       "  0.9818333387374878,\n",
       "  0.984000027179718,\n",
       "  0.9808333516120911,\n",
       "  0.9838333129882812,\n",
       "  0.9806666374206543,\n",
       "  0.9819999933242798,\n",
       "  0.9833333492279053,\n",
       "  0.9836666584014893,\n",
       "  0.9838333129882812,\n",
       "  0.9836666584014893,\n",
       "  0.9829999804496765,\n",
       "  0.984333336353302,\n",
       "  0.9831666946411133,\n",
       "  0.9829999804496765,\n",
       "  0.9831666946411133,\n",
       "  0.9850000143051147,\n",
       "  0.984666645526886,\n",
       "  0.9835000038146973,\n",
       "  0.9794999957084656,\n",
       "  0.984000027179718,\n",
       "  0.9850000143051147,\n",
       "  0.984499990940094,\n",
       "  0.9851666688919067,\n",
       "  0.984666645526886,\n",
       "  0.9851666688919067,\n",
       "  0.984333336353302,\n",
       "  0.984666645526886,\n",
       "  0.9854999780654907,\n",
       "  0.9866666793823242,\n",
       "  0.98416668176651,\n",
       "  0.9853333234786987,\n",
       "  0.984666645526886,\n",
       "  0.9856666922569275,\n",
       "  0.9854999780654907,\n",
       "  0.984666645526886,\n",
       "  0.9854999780654907,\n",
       "  0.984499990940094]}"
      ]
     },
     "execution_count": 40,
     "metadata": {},
     "output_type": "execute_result"
    }
   ],
   "source": [
    "model_b_history.history"
   ]
  },
  {
   "cell_type": "code",
   "execution_count": 41,
   "metadata": {},
   "outputs": [
    {
     "data": {
      "image/png": "[encoded data removed]",
      "text/plain": [
       "<Figure size 576x360 with 1 Axes>"
      ]
     },
     "metadata": {},
     "output_type": "display_data"
    }
   ],
   "source": [
    "import pandas as pd\n",
    "\n",
    "pd.DataFrame(model_b_history.history).plot(figsize=(8, 5))\n",
    "plt.gca().set_ylim(0, 1)\n",
    "plt.grid(True)\n",
    "plt.show()"
   ]
  },
  {
   "cell_type": "code",
   "execution_count": 42,
   "metadata": {},
   "outputs": [
    {
     "name": "stdout",
     "output_type": "stream",
     "text": [
      "313/313 [==============================] - 2s 7ms/step - loss: 0.0597 - accuracy: 0.9852\n"
     ]
    },
    {
     "data": {
      "text/plain": [
       "[0.05966867133975029, 0.9851999878883362]"
      ]
     },
     "execution_count": 42,
     "metadata": {},
     "output_type": "execute_result"
    }
   ],
   "source": [
    "model_b.evaluate(X_test, y_test)"
   ]
  },
  {
   "cell_type": "code",
   "execution_count": 43,
   "metadata": {},
   "outputs": [
    {
     "name": "stdout",
     "output_type": "stream",
     "text": [
      "313/313 [==============================] - 1s 5ms/step - loss: 0.0633 - accuracy: 0.9849\n"
     ]
    },
    {
     "data": {
      "text/plain": [
       "[0.06332680583000183, 0.9848999977111816]"
      ]
     },
     "execution_count": 43,
     "metadata": {},
     "output_type": "execute_result"
    }
   ],
   "source": [
    "model_a.evaluate(X_test, y_test)"
   ]
  }
 ],
 "metadata": {
  "kernelspec": {
   "display_name": "Python 3",
   "language": "python",
   "name": "python3"
  },
  "language_info": {
   "codemirror_mode": {
    "name": "ipython",
    "version": 3
   },
   "file_extension": ".py",
   "mimetype": "text/x-python",
   "name": "python",
   "nbconvert_exporter": "python",
   "pygments_lexer": "ipython3",
   "version": "3.8.8"
  }
 },
 "nbformat": 4,
 "nbformat_minor": 4
}
